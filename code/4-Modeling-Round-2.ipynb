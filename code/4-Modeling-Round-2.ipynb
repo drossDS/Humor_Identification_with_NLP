{
 "cells": [
  {
   "cell_type": "markdown",
   "id": "87a69503-d239-4430-bf96-52c7cce71cc5",
   "metadata": {
    "jp-MarkdownHeadingCollapsed": true,
    "tags": []
   },
   "source": [
    "---\n",
    "# NOTEBOOK 4 - SECOND-ROUND MODELING\n",
    "---"
   ]
  },
  {
   "cell_type": "markdown",
   "id": "acbb910a-1496-4825-ba8b-b1423f43f511",
   "metadata": {},
   "source": [
    "# Project 3:\n",
    "# 'Wait, was that a joke?' - Language Model Identification of Absurdist Humor and Satire\n",
    "## Daniel Rossetti\n",
    "\n",
    "# Problem Statement:\n",
    "This project is conducted from the standpoint of a data scientist hired by a university researching the relatability of AI chat bots and their ability to identify nuances of human language, particularly humor.  Some statements are considered funny, but are not necessarily presented as a joke.  The task is to come up with a language model that can identify humorous strings of text which are not structed in the format of a joke but are of similar structure to factual information.  Text must sourced to train and test a model which can differentiate between humorous and non-humorous statements.\n",
    "\n",
    "**Can an NLP model be trained to recognize satire or absurdist humor?**"
   ]
  },
  {
   "cell_type": "markdown",
   "id": "0f580ddf-a424-493b-9e82-a3ec5c3d0e80",
   "metadata": {},
   "source": [
    "# Project Approach:\n",
    "The Onion is a satirical news organization which produces news titles and news stories often relevant to real, current events that are satirical or would otherwise be classified as absurdist humor.  For clarity **news articles and titles from The Onion are not real.**  The tiles are however, formated in the format of actual news titles and articles which, from legitimate news agencies - are not humorous.\n",
    "\n",
    "Comparing the titles of posts to the subreddit r/TheOnion against the subreddit r/worldnews provides a way to compare strings of text which share many of the same formatting characteristics, but have completely different goals with respect to humor.\n",
    "\n",
    "These subreddits are to be scraped and the data processed to see if a language model can idenifty the humorous Onion titles from the factual World News titles."
   ]
  },
  {
   "cell_type": "markdown",
   "id": "be907997-980f-4850-8673-54393095a714",
   "metadata": {},
   "source": [
    "# Feature Engineering Approach\n",
    "With the data now cleaned a few additional steps will be take prior to modeling:\n",
    "* Word counts for each post will be examined\n",
    "* Sentiment scores will be provided for each post\n",
    "    * Sentiment may be useful in finding language in posts which is not neutral in tone.  This may serve to identify posts from The Onion which will stray from the use of neutral lanugage for the sake of satire or absurdism\n",
    "* Subjectivity scores will also be examined:\n",
    "    * Subjectivity in-essence describes when a post is opinion-based (subjective).  While best practices for legitimate news agencies are to use neutral language (objective), the words used in posts from The Onion may be more subjective in nature for the sake of satire or absurdism\n",
    "\n",
    "If these features appear to be capable of increasing model perofrmance, they will be incorporated into the ensemble models."
   ]
  },
  {
   "cell_type": "markdown",
   "id": "06ccea57-ce46-4fdc-bc69-c3fc3d228fcc",
   "metadata": {
    "jp-MarkdownHeadingCollapsed": true,
    "tags": []
   },
   "source": [
    "# Modeling Approach & Data Used\n",
    "\n",
    "The final cleaned data output from the previous notebook will be imported and split into training and testing datasets.  The unseen 'holdout' data will also be imported and run alongside the models as a benchmmark.\n",
    "\n",
    "The testing data created will be viewed after each model, and the information gained will be fed back to retrian the model or explore other features.  On it's own, this would create a dat leakage concenr, which is why the unseen data are provided to maintain the integrity of the modeling process, but also allow for retraining.\n",
    "\n",
    "## Model Evaluation Metrics:\n",
    "The accuracy of the model on both the testing and holdout data will be of paramount importance.  The problem statement inhernetly lends itself to being a pure accuracy problem.  There is no greater or lesser consequence for generating a false positive versus a false negative.  Thus, metrics such as precision and recall will not be deciding factors unless accuracies are highly comparable.  In this case, the f1 score could also be used, however, it may track very well with accuracy regardless.\n",
    "\n",
    "**NOTE:  As this model is primarily concerned with accuracy, model inference is not necessary.  However, in future steps it is recommended that feature importances and coefficients be epclored to better understand the model operations."
   ]
  },
  {
   "cell_type": "markdown",
   "id": "7b1b8817-9e22-4258-b470-868daeec86b1",
   "metadata": {},
   "source": [
    "# CONTENT WARNING - INAPPROPRIATE LANGUAGE\n",
    "The folowing should be noted before continuing with this notebook:\n",
    "* The subreddit posts collected (and therefore shown or presented in these notebooks) may contian profanity or vulgarities, or be otherwise NSFW (Not Safe for Work) due to the fact that the posts are collected before the subreddit mderators can remove them, and that The Onion commonly uses this language for the sake of humor\n",
    "* The subreddit posts were not generated by the author of this project/notebooks and do not represent his opinions\n"
   ]
  },
  {
   "cell_type": "markdown",
   "id": "89a48396-3396-4ee3-bb40-a1a1d5fb907e",
   "metadata": {},
   "source": [
    "---\n",
    "# 1 - Import Packages and Read Data"
   ]
  },
  {
   "cell_type": "code",
   "execution_count": 1,
   "id": "d66c6d1b-612a-4b8a-ba30-d4992abb6de5",
   "metadata": {},
   "outputs": [],
   "source": [
    "# STANDARD IMPORTS\n",
    "import numpy as np\n",
    "import pandas as pd\n",
    "import matplotlib.pyplot as plt\n",
    "import seaborn as sns\n",
    "\n",
    "# DATA PREP\n",
    "from sklearn.model_selection import train_test_split, GridSearchCV, cross_val_predict, cross_val_score\n",
    "from sklearn.feature_extraction.text import CountVectorizer, TfidfVectorizer\n",
    "from sklearn.pipeline import Pipeline\n",
    "\n",
    "# LANGUAGE DATA PREP\n",
    "from nltk.sentiment.vader import SentimentIntensityAnalyzer\n",
    "\n",
    "# MODELS:\n",
    "from sklearn.linear_model import LogisticRegression\n",
    "from sklearn.tree import DecisionTreeClassifier\n",
    "from sklearn.ensemble import (RandomForestClassifier, \n",
    "                              ExtraTreesClassifier,\n",
    "                              GradientBoostingClassifier,\n",
    "                              AdaBoostClassifier,\n",
    "                              BaggingClassifier,\n",
    "                              StackingClassifier)\n",
    "from sklearn.neighbors import KNeighborsClassifier\n",
    "\n",
    "# METRICS & VISUALIZATIONS\n",
    "from sklearn.metrics import (ConfusionMatrixDisplay, \n",
    "                             confusion_matrix,\n",
    "                             recall_score, \n",
    "                             precision_score,\n",
    "                             f1_score)\n",
    "\n",
    "from sklearn.metrics import confusion_matrix\n",
    "from sklearn.tree import plot_tree"
   ]
  },
  {
   "cell_type": "code",
   "execution_count": 2,
   "id": "5cd9f242-38a7-4f6b-9a21-b2d247344c64",
   "metadata": {},
   "outputs": [
    {
     "name": "stderr",
     "output_type": "stream",
     "text": [
      "C:\\Users\\Dan\\AppData\\Local\\Temp\\ipykernel_10756\\2892979834.py:3: FutureWarning: column_space is deprecated and will be removed in a future version. Use df.to_string(col_space=...) instead.\n",
      "  pd.reset_option('all')\n",
      "C:\\Users\\Dan\\AppData\\Local\\Temp\\ipykernel_10756\\2892979834.py:3: FutureWarning: As the xlwt package is no longer maintained, the xlwt engine will be removed in a future version of pandas. This is the only engine in pandas that supports writing in the xls format. Install openpyxl and write to an xlsx file instead.\n",
      "  pd.reset_option('all')\n",
      "C:\\Users\\Dan\\AppData\\Local\\Temp\\ipykernel_10756\\2892979834.py:3: FutureWarning: \n",
      ": boolean\n",
      "    use_inf_as_null had been deprecated and will be removed in a future\n",
      "    version. Use `use_inf_as_na` instead.\n",
      "\n",
      "  pd.reset_option('all')\n"
     ]
    }
   ],
   "source": [
    "# Source to reset pandas column width:  https://pandas.pydata.org/docs/reference/api/pandas.reset_option.html\n",
    "# Source to widen pandas columns:  https://stackoverflow.com/questions/11707586/how-do-i-expand-the-output-display-to-see-more-columns-of-a-pandas-dataframe\n",
    "pd.reset_option('all')\n",
    "pd.set_option('display.max_colwidth', 200)"
   ]
  },
  {
   "cell_type": "code",
   "execution_count": 3,
   "id": "e9974375-057c-414e-886d-91ab27319e28",
   "metadata": {},
   "outputs": [
    {
     "data": {
      "text/html": [
       "<div>\n",
       "<style scoped>\n",
       "    .dataframe tbody tr th:only-of-type {\n",
       "        vertical-align: middle;\n",
       "    }\n",
       "\n",
       "    .dataframe tbody tr th {\n",
       "        vertical-align: top;\n",
       "    }\n",
       "\n",
       "    .dataframe thead th {\n",
       "        text-align: right;\n",
       "    }\n",
       "</style>\n",
       "<table border=\"1\" class=\"dataframe\">\n",
       "  <thead>\n",
       "    <tr style=\"text-align: right;\">\n",
       "      <th></th>\n",
       "      <th>subreddit</th>\n",
       "      <th>title</th>\n",
       "    </tr>\n",
       "  </thead>\n",
       "  <tbody>\n",
       "    <tr>\n",
       "      <th>0</th>\n",
       "      <td>TheOnion</td>\n",
       "      <td>Idiot Tornado Tears Harmlessly Through Empty Field</td>\n",
       "    </tr>\n",
       "    <tr>\n",
       "      <th>1</th>\n",
       "      <td>TheOnion</td>\n",
       "      <td>New Texas Law Requires Schools To Display Image Of God Hung Like A Horse In Every Classroom</td>\n",
       "    </tr>\n",
       "    <tr>\n",
       "      <th>2</th>\n",
       "      <td>TheOnion</td>\n",
       "      <td>New Poll Finds Americans Would Respect Biden More If He Shot Them</td>\n",
       "    </tr>\n",
       "    <tr>\n",
       "      <th>3</th>\n",
       "      <td>TheOnion</td>\n",
       "      <td>Could You Pass Racial Discrimination Training At Fox News</td>\n",
       "    </tr>\n",
       "    <tr>\n",
       "      <th>4</th>\n",
       "      <td>TheOnion</td>\n",
       "      <td>Dog And Owner Having Public Fight</td>\n",
       "    </tr>\n",
       "    <tr>\n",
       "      <th>...</th>\n",
       "      <td>...</td>\n",
       "      <td>...</td>\n",
       "    </tr>\n",
       "    <tr>\n",
       "      <th>10043</th>\n",
       "      <td>worldnews</td>\n",
       "      <td>Diners in Japan arrested for dipping own chopsticks in communal bowl of ginger</td>\n",
       "    </tr>\n",
       "    <tr>\n",
       "      <th>10044</th>\n",
       "      <td>worldnews</td>\n",
       "      <td>200 Russian Journalists Sign Letter Demanding US Reporters Release</td>\n",
       "    </tr>\n",
       "    <tr>\n",
       "      <th>10045</th>\n",
       "      <td>worldnews</td>\n",
       "      <td>Foxconn founder Gou to run for Taiwan presidency again</td>\n",
       "    </tr>\n",
       "    <tr>\n",
       "      <th>10046</th>\n",
       "      <td>worldnews</td>\n",
       "      <td>A wartime NATO struggles to replace its chief</td>\n",
       "    </tr>\n",
       "    <tr>\n",
       "      <th>10047</th>\n",
       "      <td>worldnews</td>\n",
       "      <td>Italys government wants to ban English with fines up to $150K</td>\n",
       "    </tr>\n",
       "  </tbody>\n",
       "</table>\n",
       "<p>10048 rows × 2 columns</p>\n",
       "</div>"
      ],
      "text/plain": [
       "       subreddit  \\\n",
       "0       TheOnion   \n",
       "1       TheOnion   \n",
       "2       TheOnion   \n",
       "3       TheOnion   \n",
       "4       TheOnion   \n",
       "...          ...   \n",
       "10043  worldnews   \n",
       "10044  worldnews   \n",
       "10045  worldnews   \n",
       "10046  worldnews   \n",
       "10047  worldnews   \n",
       "\n",
       "                                                                                             title  \n",
       "0                                               Idiot Tornado Tears Harmlessly Through Empty Field  \n",
       "1      New Texas Law Requires Schools To Display Image Of God Hung Like A Horse In Every Classroom  \n",
       "2                                New Poll Finds Americans Would Respect Biden More If He Shot Them  \n",
       "3                                        Could You Pass Racial Discrimination Training At Fox News  \n",
       "4                                                                Dog And Owner Having Public Fight  \n",
       "...                                                                                            ...  \n",
       "10043               Diners in Japan arrested for dipping own chopsticks in communal bowl of ginger  \n",
       "10044                           200 Russian Journalists Sign Letter Demanding US Reporters Release  \n",
       "10045                                       Foxconn founder Gou to run for Taiwan presidency again  \n",
       "10046                                                A wartime NATO struggles to replace its chief  \n",
       "10047                                Italys government wants to ban English with fines up to $150K  \n",
       "\n",
       "[10048 rows x 2 columns]"
      ]
     },
     "execution_count": 3,
     "metadata": {},
     "output_type": "execute_result"
    }
   ],
   "source": [
    "# Rad in the Modeling Data\n",
    "reddit = pd.read_csv('../data/reddit_clean_2.csv')\n",
    "reddit"
   ]
  },
  {
   "cell_type": "code",
   "execution_count": 4,
   "id": "02f6a1a2-d410-43bb-b695-7afa360b35b3",
   "metadata": {},
   "outputs": [
    {
     "data": {
      "text/html": [
       "<div>\n",
       "<style scoped>\n",
       "    .dataframe tbody tr th:only-of-type {\n",
       "        vertical-align: middle;\n",
       "    }\n",
       "\n",
       "    .dataframe tbody tr th {\n",
       "        vertical-align: top;\n",
       "    }\n",
       "\n",
       "    .dataframe thead th {\n",
       "        text-align: right;\n",
       "    }\n",
       "</style>\n",
       "<table border=\"1\" class=\"dataframe\">\n",
       "  <thead>\n",
       "    <tr style=\"text-align: right;\">\n",
       "      <th></th>\n",
       "      <th>subreddit</th>\n",
       "      <th>title</th>\n",
       "    </tr>\n",
       "  </thead>\n",
       "  <tbody>\n",
       "    <tr>\n",
       "      <th>0</th>\n",
       "      <td>TheOnion</td>\n",
       "      <td>US Schools Trail World In Child Soldier Aptitude</td>\n",
       "    </tr>\n",
       "    <tr>\n",
       "      <th>1</th>\n",
       "      <td>TheOnion</td>\n",
       "      <td>Is Your Flamingo Sick Enough To Make A Movie About</td>\n",
       "    </tr>\n",
       "    <tr>\n",
       "      <th>2</th>\n",
       "      <td>TheOnion</td>\n",
       "      <td>More American Workers Outsourcing Own Jobs Overseas</td>\n",
       "    </tr>\n",
       "    <tr>\n",
       "      <th>3</th>\n",
       "      <td>TheOnion</td>\n",
       "      <td>So People Could Be Listening To This Conversation Right Now Asks Joe Rogan Trying To Understand Edward Snowdens Explanation Of Surveillance</td>\n",
       "    </tr>\n",
       "    <tr>\n",
       "      <th>4</th>\n",
       "      <td>TheOnion</td>\n",
       "      <td>Destroyed substitute teachers</td>\n",
       "    </tr>\n",
       "    <tr>\n",
       "      <th>...</th>\n",
       "      <td>...</td>\n",
       "      <td>...</td>\n",
       "    </tr>\n",
       "    <tr>\n",
       "      <th>1722</th>\n",
       "      <td>worldnews</td>\n",
       "      <td>High level of activity spotted at North Koreas key nuclear complex</td>\n",
       "    </tr>\n",
       "    <tr>\n",
       "      <th>1723</th>\n",
       "      <td>worldnews</td>\n",
       "      <td>For the first time renewable energy generation beat out coal in the US</td>\n",
       "    </tr>\n",
       "    <tr>\n",
       "      <th>1724</th>\n",
       "      <td>worldnews</td>\n",
       "      <td>Chinas loans to Africa worry World Bank President David Malpass</td>\n",
       "    </tr>\n",
       "    <tr>\n",
       "      <th>1725</th>\n",
       "      <td>worldnews</td>\n",
       "      <td>In Ukraine where even the corpses are booby trapped Canada is helping soldiers stay alive</td>\n",
       "    </tr>\n",
       "    <tr>\n",
       "      <th>1726</th>\n",
       "      <td>worldnews</td>\n",
       "      <td>Russian aggression killed 262 Ukrainian athletes</td>\n",
       "    </tr>\n",
       "  </tbody>\n",
       "</table>\n",
       "<p>1727 rows × 2 columns</p>\n",
       "</div>"
      ],
      "text/plain": [
       "      subreddit  \\\n",
       "0      TheOnion   \n",
       "1      TheOnion   \n",
       "2      TheOnion   \n",
       "3      TheOnion   \n",
       "4      TheOnion   \n",
       "...         ...   \n",
       "1722  worldnews   \n",
       "1723  worldnews   \n",
       "1724  worldnews   \n",
       "1725  worldnews   \n",
       "1726  worldnews   \n",
       "\n",
       "                                                                                                                                            title  \n",
       "0                                                                                                US Schools Trail World In Child Soldier Aptitude  \n",
       "1                                                                                              Is Your Flamingo Sick Enough To Make A Movie About  \n",
       "2                                                                                             More American Workers Outsourcing Own Jobs Overseas  \n",
       "3     So People Could Be Listening To This Conversation Right Now Asks Joe Rogan Trying To Understand Edward Snowdens Explanation Of Surveillance  \n",
       "4                                                                                                                   Destroyed substitute teachers  \n",
       "...                                                                                                                                           ...  \n",
       "1722                                                                           High level of activity spotted at North Koreas key nuclear complex  \n",
       "1723                                                                       For the first time renewable energy generation beat out coal in the US  \n",
       "1724                                                                              Chinas loans to Africa worry World Bank President David Malpass  \n",
       "1725                                                    In Ukraine where even the corpses are booby trapped Canada is helping soldiers stay alive  \n",
       "1726                                                                                             Russian aggression killed 262 Ukrainian athletes  \n",
       "\n",
       "[1727 rows x 2 columns]"
      ]
     },
     "execution_count": 4,
     "metadata": {},
     "output_type": "execute_result"
    }
   ],
   "source": [
    "holdout = pd.read_csv('../data/reddit_holdout_2.csv')\n",
    "holdout"
   ]
  },
  {
   "cell_type": "markdown",
   "id": "f7f3ee3d-6170-4360-a339-0ef2d3888b05",
   "metadata": {},
   "source": [
    "# 2 - EDA and Feature Exploration"
   ]
  },
  {
   "cell_type": "markdown",
   "id": "8462fc36-fbbf-4b56-80d2-a998b407e6cf",
   "metadata": {},
   "source": [
    "## 2.1 - Word Counts"
   ]
  },
  {
   "cell_type": "code",
   "execution_count": 5,
   "id": "b3025cd0-c301-4706-8226-a08d6b9b8c34",
   "metadata": {},
   "outputs": [
    {
     "data": {
      "text/html": [
       "<div>\n",
       "<style scoped>\n",
       "    .dataframe tbody tr th:only-of-type {\n",
       "        vertical-align: middle;\n",
       "    }\n",
       "\n",
       "    .dataframe tbody tr th {\n",
       "        vertical-align: top;\n",
       "    }\n",
       "\n",
       "    .dataframe thead th {\n",
       "        text-align: right;\n",
       "    }\n",
       "</style>\n",
       "<table border=\"1\" class=\"dataframe\">\n",
       "  <thead>\n",
       "    <tr style=\"text-align: right;\">\n",
       "      <th></th>\n",
       "      <th>subreddit</th>\n",
       "      <th>title</th>\n",
       "    </tr>\n",
       "  </thead>\n",
       "  <tbody>\n",
       "    <tr>\n",
       "      <th>0</th>\n",
       "      <td>TheOnion</td>\n",
       "      <td>Idiot Tornado Tears Harmlessly Through Empty Field</td>\n",
       "    </tr>\n",
       "    <tr>\n",
       "      <th>1</th>\n",
       "      <td>TheOnion</td>\n",
       "      <td>New Texas Law Requires Schools To Display Image Of God Hung Like A Horse In Every Classroom</td>\n",
       "    </tr>\n",
       "    <tr>\n",
       "      <th>2</th>\n",
       "      <td>TheOnion</td>\n",
       "      <td>New Poll Finds Americans Would Respect Biden More If He Shot Them</td>\n",
       "    </tr>\n",
       "    <tr>\n",
       "      <th>3</th>\n",
       "      <td>TheOnion</td>\n",
       "      <td>Could You Pass Racial Discrimination Training At Fox News</td>\n",
       "    </tr>\n",
       "    <tr>\n",
       "      <th>4</th>\n",
       "      <td>TheOnion</td>\n",
       "      <td>Dog And Owner Having Public Fight</td>\n",
       "    </tr>\n",
       "    <tr>\n",
       "      <th>...</th>\n",
       "      <td>...</td>\n",
       "      <td>...</td>\n",
       "    </tr>\n",
       "    <tr>\n",
       "      <th>10043</th>\n",
       "      <td>worldnews</td>\n",
       "      <td>Diners in Japan arrested for dipping own chopsticks in communal bowl of ginger</td>\n",
       "    </tr>\n",
       "    <tr>\n",
       "      <th>10044</th>\n",
       "      <td>worldnews</td>\n",
       "      <td>200 Russian Journalists Sign Letter Demanding US Reporters Release</td>\n",
       "    </tr>\n",
       "    <tr>\n",
       "      <th>10045</th>\n",
       "      <td>worldnews</td>\n",
       "      <td>Foxconn founder Gou to run for Taiwan presidency again</td>\n",
       "    </tr>\n",
       "    <tr>\n",
       "      <th>10046</th>\n",
       "      <td>worldnews</td>\n",
       "      <td>A wartime NATO struggles to replace its chief</td>\n",
       "    </tr>\n",
       "    <tr>\n",
       "      <th>10047</th>\n",
       "      <td>worldnews</td>\n",
       "      <td>Italys government wants to ban English with fines up to $150K</td>\n",
       "    </tr>\n",
       "  </tbody>\n",
       "</table>\n",
       "<p>10048 rows × 2 columns</p>\n",
       "</div>"
      ],
      "text/plain": [
       "       subreddit  \\\n",
       "0       TheOnion   \n",
       "1       TheOnion   \n",
       "2       TheOnion   \n",
       "3       TheOnion   \n",
       "4       TheOnion   \n",
       "...          ...   \n",
       "10043  worldnews   \n",
       "10044  worldnews   \n",
       "10045  worldnews   \n",
       "10046  worldnews   \n",
       "10047  worldnews   \n",
       "\n",
       "                                                                                             title  \n",
       "0                                               Idiot Tornado Tears Harmlessly Through Empty Field  \n",
       "1      New Texas Law Requires Schools To Display Image Of God Hung Like A Horse In Every Classroom  \n",
       "2                                New Poll Finds Americans Would Respect Biden More If He Shot Them  \n",
       "3                                        Could You Pass Racial Discrimination Training At Fox News  \n",
       "4                                                                Dog And Owner Having Public Fight  \n",
       "...                                                                                            ...  \n",
       "10043               Diners in Japan arrested for dipping own chopsticks in communal bowl of ginger  \n",
       "10044                           200 Russian Journalists Sign Letter Demanding US Reporters Release  \n",
       "10045                                       Foxconn founder Gou to run for Taiwan presidency again  \n",
       "10046                                                A wartime NATO struggles to replace its chief  \n",
       "10047                                Italys government wants to ban English with fines up to $150K  \n",
       "\n",
       "[10048 rows x 2 columns]"
      ]
     },
     "execution_count": 5,
     "metadata": {},
     "output_type": "execute_result"
    }
   ],
   "source": [
    "# Read in the Model Data\n",
    "reddit = pd.read_csv('../data/reddit_clean_2.csv')\n",
    "reddit"
   ]
  },
  {
   "cell_type": "code",
   "execution_count": 6,
   "id": "e51058d6-5ddf-40dc-9ea9-3b983298a3fc",
   "metadata": {},
   "outputs": [
    {
     "data": {
      "text/html": [
       "<div>\n",
       "<style scoped>\n",
       "    .dataframe tbody tr th:only-of-type {\n",
       "        vertical-align: middle;\n",
       "    }\n",
       "\n",
       "    .dataframe tbody tr th {\n",
       "        vertical-align: top;\n",
       "    }\n",
       "\n",
       "    .dataframe thead th {\n",
       "        text-align: right;\n",
       "    }\n",
       "</style>\n",
       "<table border=\"1\" class=\"dataframe\">\n",
       "  <thead>\n",
       "    <tr style=\"text-align: right;\">\n",
       "      <th></th>\n",
       "      <th>subreddit</th>\n",
       "      <th>title</th>\n",
       "    </tr>\n",
       "  </thead>\n",
       "  <tbody>\n",
       "    <tr>\n",
       "      <th>0</th>\n",
       "      <td>TheOnion</td>\n",
       "      <td>US Schools Trail World In Child Soldier Aptitude</td>\n",
       "    </tr>\n",
       "    <tr>\n",
       "      <th>1</th>\n",
       "      <td>TheOnion</td>\n",
       "      <td>Is Your Flamingo Sick Enough To Make A Movie About</td>\n",
       "    </tr>\n",
       "    <tr>\n",
       "      <th>2</th>\n",
       "      <td>TheOnion</td>\n",
       "      <td>More American Workers Outsourcing Own Jobs Overseas</td>\n",
       "    </tr>\n",
       "    <tr>\n",
       "      <th>3</th>\n",
       "      <td>TheOnion</td>\n",
       "      <td>So People Could Be Listening To This Conversation Right Now Asks Joe Rogan Trying To Understand Edward Snowdens Explanation Of Surveillance</td>\n",
       "    </tr>\n",
       "    <tr>\n",
       "      <th>4</th>\n",
       "      <td>TheOnion</td>\n",
       "      <td>Destroyed substitute teachers</td>\n",
       "    </tr>\n",
       "    <tr>\n",
       "      <th>...</th>\n",
       "      <td>...</td>\n",
       "      <td>...</td>\n",
       "    </tr>\n",
       "    <tr>\n",
       "      <th>1722</th>\n",
       "      <td>worldnews</td>\n",
       "      <td>High level of activity spotted at North Koreas key nuclear complex</td>\n",
       "    </tr>\n",
       "    <tr>\n",
       "      <th>1723</th>\n",
       "      <td>worldnews</td>\n",
       "      <td>For the first time renewable energy generation beat out coal in the US</td>\n",
       "    </tr>\n",
       "    <tr>\n",
       "      <th>1724</th>\n",
       "      <td>worldnews</td>\n",
       "      <td>Chinas loans to Africa worry World Bank President David Malpass</td>\n",
       "    </tr>\n",
       "    <tr>\n",
       "      <th>1725</th>\n",
       "      <td>worldnews</td>\n",
       "      <td>In Ukraine where even the corpses are booby trapped Canada is helping soldiers stay alive</td>\n",
       "    </tr>\n",
       "    <tr>\n",
       "      <th>1726</th>\n",
       "      <td>worldnews</td>\n",
       "      <td>Russian aggression killed 262 Ukrainian athletes</td>\n",
       "    </tr>\n",
       "  </tbody>\n",
       "</table>\n",
       "<p>1727 rows × 2 columns</p>\n",
       "</div>"
      ],
      "text/plain": [
       "      subreddit  \\\n",
       "0      TheOnion   \n",
       "1      TheOnion   \n",
       "2      TheOnion   \n",
       "3      TheOnion   \n",
       "4      TheOnion   \n",
       "...         ...   \n",
       "1722  worldnews   \n",
       "1723  worldnews   \n",
       "1724  worldnews   \n",
       "1725  worldnews   \n",
       "1726  worldnews   \n",
       "\n",
       "                                                                                                                                            title  \n",
       "0                                                                                                US Schools Trail World In Child Soldier Aptitude  \n",
       "1                                                                                              Is Your Flamingo Sick Enough To Make A Movie About  \n",
       "2                                                                                             More American Workers Outsourcing Own Jobs Overseas  \n",
       "3     So People Could Be Listening To This Conversation Right Now Asks Joe Rogan Trying To Understand Edward Snowdens Explanation Of Surveillance  \n",
       "4                                                                                                                   Destroyed substitute teachers  \n",
       "...                                                                                                                                           ...  \n",
       "1722                                                                           High level of activity spotted at North Koreas key nuclear complex  \n",
       "1723                                                                       For the first time renewable energy generation beat out coal in the US  \n",
       "1724                                                                              Chinas loans to Africa worry World Bank President David Malpass  \n",
       "1725                                                    In Ukraine where even the corpses are booby trapped Canada is helping soldiers stay alive  \n",
       "1726                                                                                             Russian aggression killed 262 Ukrainian athletes  \n",
       "\n",
       "[1727 rows x 2 columns]"
      ]
     },
     "execution_count": 6,
     "metadata": {},
     "output_type": "execute_result"
    }
   ],
   "source": [
    "# Read in the Holdout Data\n",
    "holdout = pd.read_csv('../data/reddit_holdout_2.csv')\n",
    "holdout"
   ]
  },
  {
   "cell_type": "code",
   "execution_count": 7,
   "id": "2d364726-2d72-4480-886b-b7e106617b1f",
   "metadata": {},
   "outputs": [
    {
     "data": {
      "image/png": "[encoded data removed]",
      "text/plain": [
       "<Figure size 640x480 with 1 Axes>"
      ]
     },
     "metadata": {},
     "output_type": "display_data"
    }
   ],
   "source": [
    "# Use a lambda funciton and the split method to get word counts\n",
    "# Filter for each reddit and plot a histogram\n",
    "onion_word_counts = reddit['title'].apply(lambda word: len(word.split(' ')))[reddit['subreddit'] == 'TheOnion']\n",
    "wldnws_word_counts = reddit['title'].apply(lambda word: len(word.split(' ')))[reddit['subreddit'] == 'worldnews']\n",
    "\n",
    "onion_word_counts.hist(alpha = 0.5, bins = (onion_word_counts.max() - onion_word_counts.min()));\n",
    "wldnws_word_counts.hist(alpha = 0.5, bins = (wldnws_word_counts.max() - wldnws_word_counts.min()));\n",
    "plt.legend(['The Onion', 'World News']);"
   ]
  },
  {
   "cell_type": "code",
   "execution_count": 8,
   "id": "7d0266bd-37fb-4c68-ac39-fbd147fcc392",
   "metadata": {},
   "outputs": [
    {
     "data": {
      "text/plain": [
       "(count    5043.000000\n",
       " mean       12.124727\n",
       " std         4.553454\n",
       " min         3.000000\n",
       " 25%         9.000000\n",
       " 50%        12.000000\n",
       " 75%        15.000000\n",
       " max        50.000000\n",
       " Name: title, dtype: float64,\n",
       " count    5005.000000\n",
       " mean       12.014186\n",
       " std         5.874520\n",
       " min         3.000000\n",
       " 25%         9.000000\n",
       " 50%        11.000000\n",
       " 75%        13.000000\n",
       " max        67.000000\n",
       " Name: title, dtype: float64)"
      ]
     },
     "execution_count": 8,
     "metadata": {},
     "output_type": "execute_result"
    }
   ],
   "source": [
    "# Get word count statistics for both subreddits\n",
    "onion_word_counts.describe(), wldnws_word_counts.describe()"
   ]
  },
  {
   "cell_type": "code",
   "execution_count": 9,
   "id": "307a85f1-669b-4396-bc7f-717e913c62fc",
   "metadata": {},
   "outputs": [
    {
     "name": "stderr",
     "output_type": "stream",
     "text": [
      "C:\\Users\\Dan\\AppData\\Local\\Temp\\ipykernel_10756\\1753397471.py:6: FutureWarning: The default value of numeric_only in DataFrame.corr is deprecated. In a future version, it will default to False. Select only valid columns or specify the value of numeric_only to silence this warning.\n",
      "  word_count_tester.corr()\n"
     ]
    },
    {
     "data": {
      "text/html": [
       "<div>\n",
       "<style scoped>\n",
       "    .dataframe tbody tr th:only-of-type {\n",
       "        vertical-align: middle;\n",
       "    }\n",
       "\n",
       "    .dataframe tbody tr th {\n",
       "        vertical-align: top;\n",
       "    }\n",
       "\n",
       "    .dataframe thead th {\n",
       "        text-align: right;\n",
       "    }\n",
       "</style>\n",
       "<table border=\"1\" class=\"dataframe\">\n",
       "  <thead>\n",
       "    <tr style=\"text-align: right;\">\n",
       "      <th></th>\n",
       "      <th>w_counts</th>\n",
       "      <th>target</th>\n",
       "    </tr>\n",
       "  </thead>\n",
       "  <tbody>\n",
       "    <tr>\n",
       "      <th>w_counts</th>\n",
       "      <td>1.000000</td>\n",
       "      <td>0.010522</td>\n",
       "    </tr>\n",
       "    <tr>\n",
       "      <th>target</th>\n",
       "      <td>0.010522</td>\n",
       "      <td>1.000000</td>\n",
       "    </tr>\n",
       "  </tbody>\n",
       "</table>\n",
       "</div>"
      ],
      "text/plain": [
       "          w_counts    target\n",
       "w_counts  1.000000  0.010522\n",
       "target    0.010522  1.000000"
      ]
     },
     "execution_count": 9,
     "metadata": {},
     "output_type": "execute_result"
    }
   ],
   "source": [
    "# Create a separate dataframe to create word count column and encode the target variable\n",
    "#  This way, it won't have to be undone later ... in retrospect, this was more work\n",
    "word_count_tester = reddit\n",
    "word_count_tester['w_counts'] = word_count_tester['title'].apply(lambda word: len(word.split(' ')))\n",
    "word_count_tester['target'] = word_count_tester['subreddit'].map({'TheOnion': 1, 'worldnews':0})\n",
    "word_count_tester.corr()"
   ]
  },
  {
   "cell_type": "markdown",
   "id": "ea84579e-ad0a-4cb7-98af-1f48ff0fbd65",
   "metadata": {},
   "source": [
    "#### OBSERVATIONS:\n",
    "* Average word counts are about the same for both The Onion and World News titles\n",
    "* The World News titles have a more varried spread compared to The Onion.  This is reflected in both the standard deviation and the overall spread of the word counts\n",
    "* There is little to no correlation between the word counts and the subreddit\n",
    "\n",
    "Overall, the length of the title should have little to do with whether or not a title is funny, so there is really little justification to including this feature in the model. "
   ]
  },
  {
   "cell_type": "markdown",
   "id": "20070147-926f-4655-b1b5-10e3c0ad4a9b",
   "metadata": {},
   "source": [
    "## 2.2 - Sentiment Analysis\n",
    "It is possible that the word choice of Onion news titles may have more emotional verbiage for the sake of humor and satire.  By examining the compound sentiment scores for each title, it may be possible to determine if a title is from The Onion if the tiels have more emotional content.  Hihger sentiment scores indicate more positivity, and lower sentiment scores indicate more negativity with 0 being neutral."
   ]
  },
  {
   "cell_type": "code",
   "execution_count": 10,
   "id": "8a2e46f1-1dbd-4374-8ebf-ada475c6e395",
   "metadata": {},
   "outputs": [
    {
     "data": {
      "text/html": [
       "<div>\n",
       "<style scoped>\n",
       "    .dataframe tbody tr th:only-of-type {\n",
       "        vertical-align: middle;\n",
       "    }\n",
       "\n",
       "    .dataframe tbody tr th {\n",
       "        vertical-align: top;\n",
       "    }\n",
       "\n",
       "    .dataframe thead th {\n",
       "        text-align: right;\n",
       "    }\n",
       "</style>\n",
       "<table border=\"1\" class=\"dataframe\">\n",
       "  <thead>\n",
       "    <tr style=\"text-align: right;\">\n",
       "      <th></th>\n",
       "      <th>subreddit</th>\n",
       "      <th>title</th>\n",
       "      <th>w_counts</th>\n",
       "      <th>target</th>\n",
       "      <th>sentiment</th>\n",
       "    </tr>\n",
       "  </thead>\n",
       "  <tbody>\n",
       "    <tr>\n",
       "      <th>0</th>\n",
       "      <td>TheOnion</td>\n",
       "      <td>Idiot Tornado Tears Harmlessly Through Empty Field</td>\n",
       "      <td>7</td>\n",
       "      <td>1</td>\n",
       "      <td>-0.5574</td>\n",
       "    </tr>\n",
       "    <tr>\n",
       "      <th>1</th>\n",
       "      <td>TheOnion</td>\n",
       "      <td>New Texas Law Requires Schools To Display Image Of God Hung Like A Horse In Every Classroom</td>\n",
       "      <td>17</td>\n",
       "      <td>1</td>\n",
       "      <td>0.5574</td>\n",
       "    </tr>\n",
       "    <tr>\n",
       "      <th>2</th>\n",
       "      <td>TheOnion</td>\n",
       "      <td>New Poll Finds Americans Would Respect Biden More If He Shot Them</td>\n",
       "      <td>12</td>\n",
       "      <td>1</td>\n",
       "      <td>0.4767</td>\n",
       "    </tr>\n",
       "    <tr>\n",
       "      <th>3</th>\n",
       "      <td>TheOnion</td>\n",
       "      <td>Could You Pass Racial Discrimination Training At Fox News</td>\n",
       "      <td>9</td>\n",
       "      <td>1</td>\n",
       "      <td>0.0000</td>\n",
       "    </tr>\n",
       "    <tr>\n",
       "      <th>4</th>\n",
       "      <td>TheOnion</td>\n",
       "      <td>Dog And Owner Having Public Fight</td>\n",
       "      <td>6</td>\n",
       "      <td>1</td>\n",
       "      <td>-0.3818</td>\n",
       "    </tr>\n",
       "  </tbody>\n",
       "</table>\n",
       "</div>"
      ],
      "text/plain": [
       "  subreddit  \\\n",
       "0  TheOnion   \n",
       "1  TheOnion   \n",
       "2  TheOnion   \n",
       "3  TheOnion   \n",
       "4  TheOnion   \n",
       "\n",
       "                                                                                         title  \\\n",
       "0                                           Idiot Tornado Tears Harmlessly Through Empty Field   \n",
       "1  New Texas Law Requires Schools To Display Image Of God Hung Like A Horse In Every Classroom   \n",
       "2                            New Poll Finds Americans Would Respect Biden More If He Shot Them   \n",
       "3                                    Could You Pass Racial Discrimination Training At Fox News   \n",
       "4                                                            Dog And Owner Having Public Fight   \n",
       "\n",
       "   w_counts  target  sentiment  \n",
       "0         7       1    -0.5574  \n",
       "1        17       1     0.5574  \n",
       "2        12       1     0.4767  \n",
       "3         9       1     0.0000  \n",
       "4         6       1    -0.3818  "
      ]
     },
     "execution_count": 10,
     "metadata": {},
     "output_type": "execute_result"
    }
   ],
   "source": [
    "# Instantiate Sentiment Analyzer\n",
    "sent = SentimentIntensityAnalyzer()\n",
    "\n",
    "# Create a column with the compound polarity score for each title\n",
    "reddit['sentiment'] = reddit['title'].apply(lambda title: sent.polarity_scores(title)['compound'])\n",
    "reddit.head()"
   ]
  },
  {
   "cell_type": "code",
   "execution_count": 11,
   "id": "28a0b65f-9c93-495b-95d5-36b95a088a14",
   "metadata": {},
   "outputs": [
    {
     "data": {
      "text/plain": [
       "count    5043.000000\n",
       "mean       -0.037135\n",
       "std         0.409122\n",
       "min        -0.947100\n",
       "25%        -0.340000\n",
       "50%         0.000000\n",
       "75%         0.240100\n",
       "max         0.937100\n",
       "Name: sentiment, dtype: float64"
      ]
     },
     "execution_count": 11,
     "metadata": {},
     "output_type": "execute_result"
    }
   ],
   "source": [
    "reddit[reddit['subreddit'] == 'TheOnion']['sentiment'].describe()"
   ]
  },
  {
   "cell_type": "code",
   "execution_count": 12,
   "id": "8b36fc00-a314-48f0-b921-ae68a9721dfe",
   "metadata": {},
   "outputs": [
    {
     "data": {
      "text/plain": [
       "count    5005.000000\n",
       "mean       -0.161563\n",
       "std         0.402787\n",
       "min        -0.969000\n",
       "25%        -0.510600\n",
       "50%         0.000000\n",
       "75%         0.000000\n",
       "max         0.963300\n",
       "Name: sentiment, dtype: float64"
      ]
     },
     "execution_count": 12,
     "metadata": {},
     "output_type": "execute_result"
    }
   ],
   "source": [
    "reddit[reddit['subreddit'] == 'worldnews']['sentiment'].describe()"
   ]
  },
  {
   "cell_type": "code",
   "execution_count": 13,
   "id": "2ee3cad8-d70d-40e6-80ac-dcf1808a46d6",
   "metadata": {},
   "outputs": [
    {
     "data": {
      "text/html": [
       "<div>\n",
       "<style scoped>\n",
       "    .dataframe tbody tr th:only-of-type {\n",
       "        vertical-align: middle;\n",
       "    }\n",
       "\n",
       "    .dataframe tbody tr th {\n",
       "        vertical-align: top;\n",
       "    }\n",
       "\n",
       "    .dataframe thead th {\n",
       "        text-align: right;\n",
       "    }\n",
       "</style>\n",
       "<table border=\"1\" class=\"dataframe\">\n",
       "  <thead>\n",
       "    <tr style=\"text-align: right;\">\n",
       "      <th></th>\n",
       "      <th>target</th>\n",
       "      <th>sentiment</th>\n",
       "    </tr>\n",
       "  </thead>\n",
       "  <tbody>\n",
       "    <tr>\n",
       "      <th>target</th>\n",
       "      <td>1.00000</td>\n",
       "      <td>0.15149</td>\n",
       "    </tr>\n",
       "    <tr>\n",
       "      <th>sentiment</th>\n",
       "      <td>0.15149</td>\n",
       "      <td>1.00000</td>\n",
       "    </tr>\n",
       "  </tbody>\n",
       "</table>\n",
       "</div>"
      ],
      "text/plain": [
       "            target  sentiment\n",
       "target     1.00000    0.15149\n",
       "sentiment  0.15149    1.00000"
      ]
     },
     "execution_count": 13,
     "metadata": {},
     "output_type": "execute_result"
    }
   ],
   "source": [
    "reddit[['target', 'sentiment']].corr()"
   ]
  },
  {
   "cell_type": "code",
   "execution_count": 14,
   "id": "57c3effd-7d25-4f39-8eeb-b4a974f14c9b",
   "metadata": {},
   "outputs": [
    {
     "data": {
      "image/png": "[encoded data removed]",
      "text/plain": [
       "<Figure size 640x480 with 1 Axes>"
      ]
     },
     "metadata": {},
     "output_type": "display_data"
    }
   ],
   "source": [
    "# Plot a histogram using seaborn\n",
    "# Help with this from the following sourece:  https://seaborn.pydata.org/generated/seaborn.histplot.html\n",
    "sns.histplot(reddit, x =reddit['sentiment'],  hue = 'subreddit');"
   ]
  },
  {
   "cell_type": "markdown",
   "id": "290cac7a-9c20-4da1-ad21-75ad27be5e2d",
   "metadata": {},
   "source": [
    "#### OBSERVATIONS:\n",
    "* The mean compound sentiment score for the world news titles are more negative than that of the Onion which interstingly, is closer to 0.  The opposite was thought to be true, that perhaps the actual news would have a more neutral delivery than The Onion\n",
    "* Correlation between sentiment and the subreddit is very weak, but stronger than word counts\n",
    "\n",
    "This feature should be included later in an ensemble model to determine if it would increase model performance"
   ]
  },
  {
   "cell_type": "markdown",
   "id": "aa5c5814-ba1a-40fc-99bb-b9b543402920",
   "metadata": {},
   "source": [
    "## 2.3 - Conclusions: EDA and Feature Exploration\n",
    "* The word counts will not be included as a model feature, on principle and given their low correlation\n",
    "* The sentiment values show better but still very low correlation with the subreddit.  With that, they wil not be incorporated into the models below, though including this information could be a good next step"
   ]
  },
  {
   "cell_type": "markdown",
   "id": "2b369246-a43e-4eb8-b56b-49ec83ebc334",
   "metadata": {},
   "source": [
    "# 3 - Pre-Modeling Steps"
   ]
  },
  {
   "cell_type": "markdown",
   "id": "579752b1-c35a-4db6-8a2e-ec8beacd9581",
   "metadata": {},
   "source": [
    "## 3.1 - Train Test Split 80/20 Split"
   ]
  },
  {
   "cell_type": "code",
   "execution_count": 15,
   "id": "1464d1a7-3830-479f-9b52-1efccd9c305a",
   "metadata": {},
   "outputs": [],
   "source": [
    "# Create X and y variables\n",
    "\n",
    "# Creating X - for now, this will only include the title data for ease of modeling\n",
    "X = reddit['title']\n",
    "y = reddit['target']"
   ]
  },
  {
   "cell_type": "markdown",
   "id": "8c15df6d-6135-4bd5-90f2-2a16e3513b95",
   "metadata": {},
   "source": [
    "### 3.1.1 - Null Model Baseline\n",
    "The value counts below showing the distribution of each subreddit in the dataset serves as the null model."
   ]
  },
  {
   "cell_type": "code",
   "execution_count": 16,
   "id": "af67d76e-e204-4ad5-be9e-db07c25342df",
   "metadata": {},
   "outputs": [
    {
     "data": {
      "text/plain": [
       "1    0.501891\n",
       "0    0.498109\n",
       "Name: target, dtype: float64"
      ]
     },
     "execution_count": 16,
     "metadata": {},
     "output_type": "execute_result"
    }
   ],
   "source": [
    "y.value_counts(normalize=True)"
   ]
  },
  {
   "cell_type": "markdown",
   "id": "dc461ce1-b238-46bb-adeb-28acb69a9e55",
   "metadata": {},
   "source": [
    "#### OBSERVATIONS:\n",
    "* The number of titles for each reddit are nbearly identical\n",
    "* This distribution serves as the null model which would state that assuming that all articles were from The Onion would produce a model with about 50% accuracy\n",
    "    * A succesful model must beat this number in accuracy"
   ]
  },
  {
   "cell_type": "markdown",
   "id": "2f0d312c-2118-49fc-a186-6aa00ae56ede",
   "metadata": {},
   "source": [
    "### 3.1.2 - Perform Train-Test-Split"
   ]
  },
  {
   "cell_type": "code",
   "execution_count": 17,
   "id": "14defc4e-2853-45ea-abe2-83974e014da0",
   "metadata": {},
   "outputs": [],
   "source": [
    "# Run the train test split, no need to stratify as classes are very even\n",
    "#  Select an 80/20 split\n",
    "X_train, X_test, y_train, y_test = train_test_split(X, y, random_state=0, test_size=0.2)"
   ]
  },
  {
   "cell_type": "markdown",
   "id": "8e45df8e-d54b-4c42-bf8a-5a6e41693f67",
   "metadata": {},
   "source": [
    "## 3.2 - Word Vectorizing - For Analysis Only"
   ]
  },
  {
   "cell_type": "code",
   "execution_count": 18,
   "id": "10985f7b-5c10-431e-a37e-2570d7151297",
   "metadata": {},
   "outputs": [],
   "source": [
    "# Create a function to gather the most common words for each subreddit\n",
    "\n",
    "def word_plotter(word_vec, X_var, y_var, num_words, world_title, onion_title, w_space, file_name):\n",
    "    \n",
    "    # Create vectorized data\n",
    "    X_train_cvec = word_vec.fit_transform(X_var)\n",
    "    \n",
    "    # Create dataframe from vecotrized data\n",
    "    cvec_df = pd.DataFrame(X_train_cvec.todense(), columns = word_vec.get_feature_names_out())\n",
    "    \n",
    "    # Add the target variable to filer, but reset the index\n",
    "    cvec_df['0000_target'] = y_var.reset_index(drop = True)\n",
    "    \n",
    "    # Plot it out!\n",
    "    plt.figure(figsize=(9, 4))\n",
    "    plt.subplot(1, 2, 1)\n",
    "    cvec_df[cvec_df['0000_target'] == 0].drop(columns = '0000_target').sum().T.sort_values( ascending= True).tail(num_words).plot.barh();\n",
    "    plt.title(world_title)\n",
    "    plt.xlabel('Count')\n",
    "    \n",
    "    plt.subplot(1, 2, 2)\n",
    "    cvec_df[cvec_df['0000_target'] == 1].drop(columns = '0000_target').sum().T.sort_values( ascending= True).tail(num_words).plot.barh();\n",
    "    plt.title(onion_title)\n",
    "    plt.xlabel('Count')\n",
    "    \n",
    "    # Format, save figs, and show\n",
    "    plt.subplots_adjust(wspace=w_space) #  Source:  https://www.geeksforgeeks.org/how-to-set-the-spacing-between-subplots-in-matplotlib-in-python/\n",
    "    plt.savefig(f'../images/word_counts_{file_name}.png')\n",
    "    plt.show()"
   ]
  },
  {
   "cell_type": "code",
   "execution_count": 19,
   "id": "72ac7732-fb11-4127-aa2c-18cefe8fe092",
   "metadata": {},
   "outputs": [
    {
     "data": {
      "image/png": "[encoded data removed]",
      "text/plain": [
       "<Figure size 900x400 with 2 Axes>"
      ]
     },
     "metadata": {},
     "output_type": "display_data"
    }
   ],
   "source": [
    "# Show top 20 CountVectorizer words\n",
    "word_plotter(CountVectorizer(), X_train, y_train, 20, 'World News 20 Most Common Words', 'The Onion 20 Most Common Words', 0.2, 'cvec')"
   ]
  },
  {
   "cell_type": "code",
   "execution_count": 20,
   "id": "10c2dde5-67f1-4ff2-8e3f-8a48d291fff7",
   "metadata": {},
   "outputs": [
    {
     "data": {
      "image/png": "[encoded data removed]",
      "text/plain": [
       "<Figure size 900x400 with 2 Axes>"
      ]
     },
     "metadata": {},
     "output_type": "display_data"
    }
   ],
   "source": [
    "# Show top 20 CountVectorizer words, WITHOUT stop words\n",
    "word_plotter(CountVectorizer(stop_words='english'), X_train, y_train, 20, \n",
    "             'World News 20 Most Common Words\\nStop Words Removed',\n",
    "             'The Onion 20 Most Common Words\\nStop Words Removed', 0.4, 'cvec_nsw')"
   ]
  },
  {
   "cell_type": "code",
   "execution_count": 21,
   "id": "dccbb277-7001-4985-a93f-665781aef4c6",
   "metadata": {},
   "outputs": [
    {
     "data": {
      "image/png": "[encoded data removed]",
      "text/plain": [
       "<Figure size 900x400 with 2 Axes>"
      ]
     },
     "metadata": {},
     "output_type": "display_data"
    }
   ],
   "source": [
    "# Show top 20 TFIDFVectorizer words\n",
    "word_plotter(TfidfVectorizer(), X_train, y_train, 20,\n",
    "             'World News 20 Most Common Words',\n",
    "             'The Onion 20 Most Common Words', 0.2, 'tvec')"
   ]
  },
  {
   "cell_type": "code",
   "execution_count": 22,
   "id": "34ef8217-3556-4a93-b395-4201959bf717",
   "metadata": {},
   "outputs": [
    {
     "data": {
      "image/png": "[encoded data removed]",
      "text/plain": [
       "<Figure size 900x400 with 2 Axes>"
      ]
     },
     "metadata": {},
     "output_type": "display_data"
    }
   ],
   "source": [
    "# Show top 20 TFIDFVectorizer words, WITHOUT stop words\n",
    "word_plotter(TfidfVectorizer(stop_words='english'), X_train, y_train, 20,\n",
    "             'World News 20 Most Common Words\\nStop Words Removed',\n",
    "             'The Onion 20 Most Common Words\\nStop Words Removed', 0.4, 'tvec_nsw')"
   ]
  },
  {
   "cell_type": "markdown",
   "id": "cce2a1a9-e12b-462a-9dee-44a06738112a",
   "metadata": {},
   "source": [
    "#### OBERSEVATIONS:\n",
    "* The most popular words are generally stop words\n",
    "* The top words in world news tend to be more world news focused as evidenced by the high counts of country names\n",
    "\n",
    "#### Noted Sources of Error:\n",
    "* In the word pre-processing, U.S. may have been shortened to 'us'.  When stop words are removed, this word is clearly missing from the plots\n",
    "* The subject matter of current events may be better represented by the worldnews titles than by the onion.  While both subreddits have approximately the same number of samples, the activity of the worldnews subreddit is far higher than that of The Onion.  Title for world news go back to April 5 of 2023, while titles for The Onion go back all the way to January 3 of 2020.  In that time, the Ukraine war has happened, and content to that effect is being geenrated at a much fater rate on the World News subreddit than on The Onion.  Thus, the model may be able to pick out a new title solely by the content being discussed"
   ]
  },
  {
   "cell_type": "markdown",
   "id": "e889c806-57fa-457c-8369-cc801fdad567",
   "metadata": {},
   "source": [
    "## 3.3 - Create X and y for Holdout Data"
   ]
  },
  {
   "cell_type": "code",
   "execution_count": 23,
   "id": "3d195114-c366-4d62-8412-abec3271abb3",
   "metadata": {},
   "outputs": [],
   "source": [
    "# Create X and y data, and encode the y data\n",
    "X_hold = holdout['title']\n",
    "y_hold = holdout['subreddit'].map({'TheOnion': 1, 'worldnews': 0})"
   ]
  },
  {
   "cell_type": "code",
   "execution_count": 24,
   "id": "3c9f0405-74bd-445d-85f0-2bf44eca8e45",
   "metadata": {},
   "outputs": [
    {
     "data": {
      "text/plain": [
       "1    0.514765\n",
       "0    0.485235\n",
       "Name: subreddit, dtype: float64"
      ]
     },
     "execution_count": 24,
     "metadata": {},
     "output_type": "execute_result"
    }
   ],
   "source": [
    "# Check holdout dataset distributions\n",
    "y_hold.value_counts(normalize=True)"
   ]
  },
  {
   "cell_type": "markdown",
   "id": "fd820900-a03e-4120-9c5f-1f7446a5fcc9",
   "metadata": {},
   "source": [
    "# 4 - Modeling\n",
    "* Seven varieties of classification models will first be run with default parameters to determine which types of model perform the best\n",
    "* Then, the top models will be optimized via hyperparameter tuning\n",
    "\n"
   ]
  },
  {
   "cell_type": "markdown",
   "id": "353051e5-600c-4ec9-9809-a95c92631b9a",
   "metadata": {},
   "source": [
    "## 4.1 - Default Parameter Modeling\n",
    "This section will simply iterate through a suite of models to quickly understand which models appear to perform the best on the provided data."
   ]
  },
  {
   "cell_type": "markdown",
   "id": "071c99bf-1be5-4843-95b5-ec13fe7a2b20",
   "metadata": {},
   "source": [
    "### 4.1.1 - Define Metrics and Plotting Functions"
   ]
  },
  {
   "cell_type": "code",
   "execution_count": 25,
   "id": "d40e99f3-7cfc-4c92-8df8-e729fc0ee046",
   "metadata": {},
   "outputs": [],
   "source": [
    "# Create a function to aggregate model metrics\n",
    "\n",
    "def metrics_df(mods, X_1, y_1, X_2, y_2, X_3, y_3, mod_lab):\n",
    "    list_dict = []\n",
    "\n",
    "    for model in mods:\n",
    "        mod_dict = {\n",
    "            'Training Accuracy': model.score(X_1, y_1),\n",
    "            'Training Recall': recall_score(model.predict(X_1), y_1),\n",
    "            'Training Precision': precision_score(model.predict(X_1), y_1),\n",
    "            'Training f1 score': f1_score(model.predict(X_1), y_1),\n",
    "            'Testing Accuracy': model.score(X_2, y_2),\n",
    "            'Testing Recall': recall_score(model.predict(X_2), y_2),\n",
    "            'Testing Precision': precision_score(model.predict(X_2), y_2),\n",
    "            'Testing f1 score': f1_score(model.predict(X_2), y_2),\n",
    "            'Holdout Accuracy': model.score(X_3, y_3),\n",
    "            'Holdout Recall': recall_score(model.predict(X_3), y_3),\n",
    "            'Holdout Precision': precision_score(model.predict(X_3), y_3),\n",
    "            'Holdout f1 score': f1_score(model.predict(X_3), y_3)\n",
    "        }\n",
    "\n",
    "        list_dict.append(mod_dict)\n",
    "    return pd.DataFrame(list_dict, index=mod_lab)"
   ]
  },
  {
   "cell_type": "code",
   "execution_count": 26,
   "id": "91e53fc8-7819-469b-9be4-569026391ecc",
   "metadata": {},
   "outputs": [],
   "source": [
    "# Define a funciton that does comparison plots!\n",
    "# Source for assistance:  https://www.geeksforgeeks.org/bar-plot-in-matplotlib/\n",
    "\n",
    "def all_model_plotter(df1, df1_col, df1_label,\n",
    "                      df2, df2_col, df2_label,\n",
    "                      df3, df3_col, df3_label,\n",
    "                      df4, df4_col, df4_label,\n",
    "                      mod_labels, fig_size, ylim_12, ylim_34,\n",
    "                      title_1, title_2\n",
    "                     ):    #(df1, df1_col, df1_label, df2, df2_col, df2_label, mod_labels):\n",
    "\n",
    "    # Define figure size\n",
    "    plt.figure(figsize=fig_size)\n",
    "    \n",
    "    # First Subplot\n",
    "    plt.subplot(2, 1, 1)\n",
    "    plt.title(title_1) #'Accuracy - Testing Data'\n",
    "    plt.bar(x = mod_labels, \n",
    "            height=df1[df1_col], alpha = 0.5,\n",
    "            width = .25,\n",
    "            edgecolor ='grey',\n",
    "           label = df1_label)\n",
    "    plt.bar(x = mod_labels, \n",
    "            height=df2[df2_col], alpha = 0.5,\n",
    "            width = .25,\n",
    "            edgecolor ='grey',\n",
    "           label = df2_label)\n",
    "    plt.legend(loc = 'upper right')\n",
    "    plt.yticks(np.arange(0,1.1,.05))  # Source:  https://matplotlib.org/stable/api/_as_gen/matplotlib.pyplot.yticks.html\n",
    "    plt.ylim(ylim_12); # Source:  https://matplotlib.org/stable/api/_as_gen/matplotlib.pyplot.ylim.html\n",
    "\n",
    "    # Second Subplot\n",
    "    plt.subplot(2, 1, 2)\n",
    "    plt.title(title_2) # 'Accuracy - Holdout Data'\n",
    "    plt.bar(x = mod_labels, \n",
    "            height=df3[df3_col], alpha = 0.5,\n",
    "            width = .25,\n",
    "            edgecolor ='grey',\n",
    "           label = df3_label)\n",
    "    plt.bar(x = mod_labels, \n",
    "            height=df4[df4_col], alpha = 0.5, \n",
    "            width = .25,\n",
    "            edgecolor ='grey',\n",
    "           label = df4_label)\n",
    "    plt.legend(loc = 'upper right')\n",
    "    plt.yticks(np.arange(0,1.1,.05))  # Source:  https://matplotlib.org/stable/api/_as_gen/matplotlib.pyplot.yticks.html\n",
    "    plt.ylim(ylim_34); # Source:  https://matplotlib.org/stable/api/_as_gen/matplotlib.pyplot.ylim.html\n",
    "    \n",
    "    # Adjust settings and show plot\n",
    "    plt.subplots_adjust(hspace=0.3) #  Source:  https://www.geeksforgeeks.org/how-to-set-the-spacing-between-subplots-in-matplotlib-in-python/\n",
    "    plt.show();"
   ]
  },
  {
   "cell_type": "markdown",
   "id": "e34a0985-058a-4718-ac00-1431519b9416",
   "metadata": {
    "tags": []
   },
   "source": [
    "### 4.1.2 - Seven Candidate Models with CountVectorizer, With and Without Stopwords"
   ]
  },
  {
   "cell_type": "code",
   "execution_count": 27,
   "id": "b6ebbb71-feb7-4e9c-8815-3f416536aad7",
   "metadata": {},
   "outputs": [],
   "source": [
    "# Define seven candidate classification models in pipelines with default parameters\n",
    "log_pipe = Pipeline([\n",
    "    ('cvc', CountVectorizer()),\n",
    "    ('log_reg', LogisticRegression(random_state=0))\n",
    "])\n",
    "\n",
    "tree_pipe = Pipeline([\n",
    "    ('cvc', CountVectorizer()),\n",
    "    ('tree_class', DecisionTreeClassifier(random_state=0))\n",
    "])\n",
    "\n",
    "bag_pipe = Pipeline([\n",
    "    ('cvc', CountVectorizer()),\n",
    "    ('bag_class', BaggingClassifier(random_state=0))\n",
    "])\n",
    "\n",
    "rf_pipe = Pipeline([\n",
    "    ('cvc', CountVectorizer()),\n",
    "    ('rf_class', RandomForestClassifier(random_state=0))\n",
    "])\n",
    "\n",
    "ada_pipe = Pipeline([\n",
    "    ('cvc', CountVectorizer()),\n",
    "    ('ada_class', AdaBoostClassifier(random_state=0))\n",
    "])\n",
    "\n",
    "extra_pipe = Pipeline([\n",
    "    ('cvc', CountVectorizer()),\n",
    "    ('extra_tree', ExtraTreesClassifier(random_state=0))\n",
    "])\n",
    "\n",
    "grad_pipe = Pipeline([\n",
    "    ('cvc', CountVectorizer()),\n",
    "    ('grad', GradientBoostingClassifier(random_state=0))\n",
    "])"
   ]
  },
  {
   "cell_type": "code",
   "execution_count": 28,
   "id": "dd2bf152-90ad-4ee8-9051-dac52506a8c5",
   "metadata": {},
   "outputs": [],
   "source": [
    "# Define list of model instances to be run in loops going forward:\n",
    "class_models = [log_pipe, tree_pipe, bag_pipe, rf_pipe, ada_pipe, extra_pipe, grad_pipe]\n",
    "\n",
    "# Create list of names ot be used in functions going forward\n",
    "class_models_labels = ['log_pipe', 'tree_pipe', 'bag_pipe', 'rf_pipe', 'ada_pipe', 'extra_pipe', 'grad_pipe']"
   ]
  },
  {
   "cell_type": "code",
   "execution_count": 29,
   "id": "aa12ba4b-5133-464f-b790-b3d4dc02229d",
   "metadata": {},
   "outputs": [],
   "source": [
    "# Loop through all instantiated models above to fit each of them\n",
    "for model in class_models:\n",
    "    model.fit(X_train, y_train)\n",
    "\n",
    "# Run the Default Model Metrics funciton to get a dataframe of performance metrics on training, testing, and holdout data\n",
    "def_mods_cvec = metrics_df(class_models, X_train, y_train, X_test, y_test, X_hold, y_hold, class_models_labels)"
   ]
  },
  {
   "cell_type": "code",
   "execution_count": 30,
   "id": "26371a43-8deb-454c-873a-2065d6300b74",
   "metadata": {},
   "outputs": [
    {
     "data": {
      "text/html": [
       "<div>\n",
       "<style scoped>\n",
       "    .dataframe tbody tr th:only-of-type {\n",
       "        vertical-align: middle;\n",
       "    }\n",
       "\n",
       "    .dataframe tbody tr th {\n",
       "        vertical-align: top;\n",
       "    }\n",
       "\n",
       "    .dataframe thead th {\n",
       "        text-align: right;\n",
       "    }\n",
       "</style>\n",
       "<table border=\"1\" class=\"dataframe\">\n",
       "  <thead>\n",
       "    <tr style=\"text-align: right;\">\n",
       "      <th></th>\n",
       "      <th>log_pipe</th>\n",
       "      <th>tree_pipe</th>\n",
       "      <th>bag_pipe</th>\n",
       "      <th>rf_pipe</th>\n",
       "      <th>ada_pipe</th>\n",
       "      <th>extra_pipe</th>\n",
       "      <th>grad_pipe</th>\n",
       "    </tr>\n",
       "  </thead>\n",
       "  <tbody>\n",
       "    <tr>\n",
       "      <th>Training Accuracy</th>\n",
       "      <td>0.987559</td>\n",
       "      <td>1.000000</td>\n",
       "      <td>0.985817</td>\n",
       "      <td>1.000000</td>\n",
       "      <td>0.776437</td>\n",
       "      <td>1.000000</td>\n",
       "      <td>0.800323</td>\n",
       "    </tr>\n",
       "    <tr>\n",
       "      <th>Training Recall</th>\n",
       "      <td>0.983752</td>\n",
       "      <td>1.000000</td>\n",
       "      <td>0.989500</td>\n",
       "      <td>1.000000</td>\n",
       "      <td>0.739644</td>\n",
       "      <td>1.000000</td>\n",
       "      <td>0.749537</td>\n",
       "    </tr>\n",
       "    <tr>\n",
       "      <th>Training Precision</th>\n",
       "      <td>0.991563</td>\n",
       "      <td>1.000000</td>\n",
       "      <td>0.982134</td>\n",
       "      <td>1.000000</td>\n",
       "      <td>0.855087</td>\n",
       "      <td>1.000000</td>\n",
       "      <td>0.903722</td>\n",
       "    </tr>\n",
       "    <tr>\n",
       "      <th>Training f1 score</th>\n",
       "      <td>0.987642</td>\n",
       "      <td>1.000000</td>\n",
       "      <td>0.985803</td>\n",
       "      <td>1.000000</td>\n",
       "      <td>0.793187</td>\n",
       "      <td>1.000000</td>\n",
       "      <td>0.819440</td>\n",
       "    </tr>\n",
       "    <tr>\n",
       "      <th>Testing Accuracy</th>\n",
       "      <td>0.885075</td>\n",
       "      <td>0.780597</td>\n",
       "      <td>0.806468</td>\n",
       "      <td>0.855224</td>\n",
       "      <td>0.764677</td>\n",
       "      <td>0.879104</td>\n",
       "      <td>0.787562</td>\n",
       "    </tr>\n",
       "    <tr>\n",
       "      <th>Testing Recall</th>\n",
       "      <td>0.876686</td>\n",
       "      <td>0.779843</td>\n",
       "      <td>0.802913</td>\n",
       "      <td>0.832413</td>\n",
       "      <td>0.730769</td>\n",
       "      <td>0.856481</td>\n",
       "      <td>0.745394</td>\n",
       "    </tr>\n",
       "    <tr>\n",
       "      <th>Testing Precision</th>\n",
       "      <td>0.898322</td>\n",
       "      <td>0.786772</td>\n",
       "      <td>0.816387</td>\n",
       "      <td>0.892399</td>\n",
       "      <td>0.844028</td>\n",
       "      <td>0.913129</td>\n",
       "      <td>0.878578</td>\n",
       "    </tr>\n",
       "    <tr>\n",
       "      <th>Testing f1 score</th>\n",
       "      <td>0.887372</td>\n",
       "      <td>0.783292</td>\n",
       "      <td>0.809594</td>\n",
       "      <td>0.861363</td>\n",
       "      <td>0.783326</td>\n",
       "      <td>0.883899</td>\n",
       "      <td>0.806525</td>\n",
       "    </tr>\n",
       "    <tr>\n",
       "      <th>Holdout Accuracy</th>\n",
       "      <td>0.855240</td>\n",
       "      <td>0.759699</td>\n",
       "      <td>0.775333</td>\n",
       "      <td>0.823972</td>\n",
       "      <td>0.717429</td>\n",
       "      <td>0.843080</td>\n",
       "      <td>0.741170</td>\n",
       "    </tr>\n",
       "    <tr>\n",
       "      <th>Holdout Recall</th>\n",
       "      <td>0.830403</td>\n",
       "      <td>0.745342</td>\n",
       "      <td>0.765079</td>\n",
       "      <td>0.788177</td>\n",
       "      <td>0.692234</td>\n",
       "      <td>0.802348</td>\n",
       "      <td>0.705773</td>\n",
       "    </tr>\n",
       "    <tr>\n",
       "      <th>Holdout Precision</th>\n",
       "      <td>0.903262</td>\n",
       "      <td>0.809899</td>\n",
       "      <td>0.813273</td>\n",
       "      <td>0.899888</td>\n",
       "      <td>0.812148</td>\n",
       "      <td>0.922385</td>\n",
       "      <td>0.852643</td>\n",
       "    </tr>\n",
       "    <tr>\n",
       "      <th>Holdout f1 score</th>\n",
       "      <td>0.865302</td>\n",
       "      <td>0.776280</td>\n",
       "      <td>0.788441</td>\n",
       "      <td>0.840336</td>\n",
       "      <td>0.747412</td>\n",
       "      <td>0.858189</td>\n",
       "      <td>0.772287</td>\n",
       "    </tr>\n",
       "  </tbody>\n",
       "</table>\n",
       "</div>"
      ],
      "text/plain": [
       "                    log_pipe  tree_pipe  bag_pipe   rf_pipe  ada_pipe  \\\n",
       "Training Accuracy   0.987559   1.000000  0.985817  1.000000  0.776437   \n",
       "Training Recall     0.983752   1.000000  0.989500  1.000000  0.739644   \n",
       "Training Precision  0.991563   1.000000  0.982134  1.000000  0.855087   \n",
       "Training f1 score   0.987642   1.000000  0.985803  1.000000  0.793187   \n",
       "Testing Accuracy    0.885075   0.780597  0.806468  0.855224  0.764677   \n",
       "Testing Recall      0.876686   0.779843  0.802913  0.832413  0.730769   \n",
       "Testing Precision   0.898322   0.786772  0.816387  0.892399  0.844028   \n",
       "Testing f1 score    0.887372   0.783292  0.809594  0.861363  0.783326   \n",
       "Holdout Accuracy    0.855240   0.759699  0.775333  0.823972  0.717429   \n",
       "Holdout Recall      0.830403   0.745342  0.765079  0.788177  0.692234   \n",
       "Holdout Precision   0.903262   0.809899  0.813273  0.899888  0.812148   \n",
       "Holdout f1 score    0.865302   0.776280  0.788441  0.840336  0.747412   \n",
       "\n",
       "                    extra_pipe  grad_pipe  \n",
       "Training Accuracy     1.000000   0.800323  \n",
       "Training Recall       1.000000   0.749537  \n",
       "Training Precision    1.000000   0.903722  \n",
       "Training f1 score     1.000000   0.819440  \n",
       "Testing Accuracy      0.879104   0.787562  \n",
       "Testing Recall        0.856481   0.745394  \n",
       "Testing Precision     0.913129   0.878578  \n",
       "Testing f1 score      0.883899   0.806525  \n",
       "Holdout Accuracy      0.843080   0.741170  \n",
       "Holdout Recall        0.802348   0.705773  \n",
       "Holdout Precision     0.922385   0.852643  \n",
       "Holdout f1 score      0.858189   0.772287  "
      ]
     },
     "execution_count": 30,
     "metadata": {},
     "output_type": "execute_result"
    }
   ],
   "source": [
    "# Show the metrics dataframe tranposed for easier reading\n",
    "def_mods_cvec.T"
   ]
  },
  {
   "cell_type": "code",
   "execution_count": 31,
   "id": "3fb82c46-cdbd-4d89-ac6d-790b81fedb64",
   "metadata": {},
   "outputs": [],
   "source": [
    "# Define seven candidate classification models in pipelines with default parameters\n",
    "\n",
    "#  THIS TIME - Set all stop words to 'english'\n",
    "\n",
    "log_pipe = Pipeline([\n",
    "    ('cvc', CountVectorizer(stop_words='english')),\n",
    "    ('log_reg', LogisticRegression(random_state=0))\n",
    "])\n",
    "\n",
    "tree_pipe = Pipeline([\n",
    "    ('cvc', CountVectorizer(stop_words='english')),\n",
    "    ('tree_class', DecisionTreeClassifier(random_state=0))\n",
    "])\n",
    "\n",
    "bag_pipe = Pipeline([\n",
    "    ('cvc', CountVectorizer(stop_words='english')),\n",
    "    ('bag_class', BaggingClassifier(random_state=0))\n",
    "])\n",
    "\n",
    "rf_pipe = Pipeline([\n",
    "    ('cvc', CountVectorizer(stop_words='english')),\n",
    "    ('rf_class', RandomForestClassifier(random_state=0))\n",
    "])\n",
    "\n",
    "ada_pipe = Pipeline([\n",
    "    ('cvc', CountVectorizer(stop_words='english')),\n",
    "    ('ada_class', AdaBoostClassifier(random_state=0))\n",
    "])\n",
    "\n",
    "extra_pipe = Pipeline([\n",
    "    ('cvc', CountVectorizer(stop_words='english')),\n",
    "    ('extra_tree', ExtraTreesClassifier(random_state=0))\n",
    "])\n",
    "\n",
    "grad_pipe = Pipeline([\n",
    "    ('cvc', CountVectorizer(stop_words='english')),\n",
    "    ('grad', GradientBoostingClassifier(random_state=0))\n",
    "])"
   ]
  },
  {
   "cell_type": "code",
   "execution_count": 32,
   "id": "e7ef7a5a-622b-4976-ae21-4aff052a8150",
   "metadata": {},
   "outputs": [],
   "source": [
    "# Define list of model instances to be run in loops going forward:\n",
    "class_models = [log_pipe, tree_pipe, bag_pipe, rf_pipe, ada_pipe, extra_pipe, grad_pipe]\n",
    "\n",
    "# Loop through all instantiated models above to fit each of them\n",
    "for model in class_models:\n",
    "    model.fit(X_train, y_train)\n",
    "\n",
    "# Run the Default Model Metrics funciton to get a dataframe of performance metrics on training, testing, and holdout data\n",
    "def_mods_cvec_nsw = metrics_df(class_models, X_train, y_train, X_test, y_test, X_hold, y_hold, class_models_labels)"
   ]
  },
  {
   "cell_type": "code",
   "execution_count": 33,
   "id": "72b49ed3-b525-41d2-82b5-a44a522c92e7",
   "metadata": {},
   "outputs": [
    {
     "data": {
      "text/html": [
       "<div>\n",
       "<style scoped>\n",
       "    .dataframe tbody tr th:only-of-type {\n",
       "        vertical-align: middle;\n",
       "    }\n",
       "\n",
       "    .dataframe tbody tr th {\n",
       "        vertical-align: top;\n",
       "    }\n",
       "\n",
       "    .dataframe thead th {\n",
       "        text-align: right;\n",
       "    }\n",
       "</style>\n",
       "<table border=\"1\" class=\"dataframe\">\n",
       "  <thead>\n",
       "    <tr style=\"text-align: right;\">\n",
       "      <th></th>\n",
       "      <th>log_pipe</th>\n",
       "      <th>tree_pipe</th>\n",
       "      <th>bag_pipe</th>\n",
       "      <th>rf_pipe</th>\n",
       "      <th>ada_pipe</th>\n",
       "      <th>extra_pipe</th>\n",
       "      <th>grad_pipe</th>\n",
       "    </tr>\n",
       "  </thead>\n",
       "  <tbody>\n",
       "    <tr>\n",
       "      <th>Training Accuracy</th>\n",
       "      <td>0.985569</td>\n",
       "      <td>1.000000</td>\n",
       "      <td>0.988928</td>\n",
       "      <td>1.000000</td>\n",
       "      <td>0.775690</td>\n",
       "      <td>1.000000</td>\n",
       "      <td>0.800323</td>\n",
       "    </tr>\n",
       "    <tr>\n",
       "      <th>Training Recall</th>\n",
       "      <td>0.980599</td>\n",
       "      <td>1.000000</td>\n",
       "      <td>0.990785</td>\n",
       "      <td>1.000000</td>\n",
       "      <td>0.706548</td>\n",
       "      <td>1.000000</td>\n",
       "      <td>0.721219</td>\n",
       "    </tr>\n",
       "    <tr>\n",
       "      <th>Training Precision</th>\n",
       "      <td>0.990819</td>\n",
       "      <td>1.000000</td>\n",
       "      <td>0.987097</td>\n",
       "      <td>1.000000</td>\n",
       "      <td>0.945161</td>\n",
       "      <td>1.000000</td>\n",
       "      <td>0.980893</td>\n",
       "    </tr>\n",
       "    <tr>\n",
       "      <th>Training f1 score</th>\n",
       "      <td>0.985683</td>\n",
       "      <td>1.000000</td>\n",
       "      <td>0.988937</td>\n",
       "      <td>1.000000</td>\n",
       "      <td>0.808619</td>\n",
       "      <td>1.000000</td>\n",
       "      <td>0.831248</td>\n",
       "    </tr>\n",
       "    <tr>\n",
       "      <th>Testing Accuracy</th>\n",
       "      <td>0.883582</td>\n",
       "      <td>0.832338</td>\n",
       "      <td>0.852736</td>\n",
       "      <td>0.866667</td>\n",
       "      <td>0.762189</td>\n",
       "      <td>0.868657</td>\n",
       "      <td>0.778607</td>\n",
       "    </tr>\n",
       "    <tr>\n",
       "      <th>Testing Recall</th>\n",
       "      <td>0.867800</td>\n",
       "      <td>0.819471</td>\n",
       "      <td>0.841104</td>\n",
       "      <td>0.842686</td>\n",
       "      <td>0.697417</td>\n",
       "      <td>0.860443</td>\n",
       "      <td>0.708211</td>\n",
       "    </tr>\n",
       "    <tr>\n",
       "      <th>Testing Precision</th>\n",
       "      <td>0.907206</td>\n",
       "      <td>0.855874</td>\n",
       "      <td>0.872655</td>\n",
       "      <td>0.904245</td>\n",
       "      <td>0.932873</td>\n",
       "      <td>0.882527</td>\n",
       "      <td>0.953603</td>\n",
       "    </tr>\n",
       "    <tr>\n",
       "      <th>Testing f1 score</th>\n",
       "      <td>0.887066</td>\n",
       "      <td>0.837277</td>\n",
       "      <td>0.856589</td>\n",
       "      <td>0.872381</td>\n",
       "      <td>0.798142</td>\n",
       "      <td>0.871345</td>\n",
       "      <td>0.812789</td>\n",
       "    </tr>\n",
       "    <tr>\n",
       "      <th>Holdout Accuracy</th>\n",
       "      <td>0.854082</td>\n",
       "      <td>0.806601</td>\n",
       "      <td>0.818761</td>\n",
       "      <td>0.826288</td>\n",
       "      <td>0.749855</td>\n",
       "      <td>0.837869</td>\n",
       "      <td>0.752171</td>\n",
       "    </tr>\n",
       "    <tr>\n",
       "      <th>Holdout Recall</th>\n",
       "      <td>0.815659</td>\n",
       "      <td>0.780020</td>\n",
       "      <td>0.789157</td>\n",
       "      <td>0.781818</td>\n",
       "      <td>0.689627</td>\n",
       "      <td>0.806647</td>\n",
       "      <td>0.684548</td>\n",
       "    </tr>\n",
       "    <tr>\n",
       "      <th>Holdout Precision</th>\n",
       "      <td>0.925759</td>\n",
       "      <td>0.869516</td>\n",
       "      <td>0.884139</td>\n",
       "      <td>0.919010</td>\n",
       "      <td>0.934758</td>\n",
       "      <td>0.901012</td>\n",
       "      <td>0.961755</td>\n",
       "    </tr>\n",
       "    <tr>\n",
       "      <th>Holdout f1 score</th>\n",
       "      <td>0.867229</td>\n",
       "      <td>0.822340</td>\n",
       "      <td>0.833952</td>\n",
       "      <td>0.844881</td>\n",
       "      <td>0.793696</td>\n",
       "      <td>0.851222</td>\n",
       "      <td>0.799813</td>\n",
       "    </tr>\n",
       "  </tbody>\n",
       "</table>\n",
       "</div>"
      ],
      "text/plain": [
       "                    log_pipe  tree_pipe  bag_pipe   rf_pipe  ada_pipe  \\\n",
       "Training Accuracy   0.985569   1.000000  0.988928  1.000000  0.775690   \n",
       "Training Recall     0.980599   1.000000  0.990785  1.000000  0.706548   \n",
       "Training Precision  0.990819   1.000000  0.987097  1.000000  0.945161   \n",
       "Training f1 score   0.985683   1.000000  0.988937  1.000000  0.808619   \n",
       "Testing Accuracy    0.883582   0.832338  0.852736  0.866667  0.762189   \n",
       "Testing Recall      0.867800   0.819471  0.841104  0.842686  0.697417   \n",
       "Testing Precision   0.907206   0.855874  0.872655  0.904245  0.932873   \n",
       "Testing f1 score    0.887066   0.837277  0.856589  0.872381  0.798142   \n",
       "Holdout Accuracy    0.854082   0.806601  0.818761  0.826288  0.749855   \n",
       "Holdout Recall      0.815659   0.780020  0.789157  0.781818  0.689627   \n",
       "Holdout Precision   0.925759   0.869516  0.884139  0.919010  0.934758   \n",
       "Holdout f1 score    0.867229   0.822340  0.833952  0.844881  0.793696   \n",
       "\n",
       "                    extra_pipe  grad_pipe  \n",
       "Training Accuracy     1.000000   0.800323  \n",
       "Training Recall       1.000000   0.721219  \n",
       "Training Precision    1.000000   0.980893  \n",
       "Training f1 score     1.000000   0.831248  \n",
       "Testing Accuracy      0.868657   0.778607  \n",
       "Testing Recall        0.860443   0.708211  \n",
       "Testing Precision     0.882527   0.953603  \n",
       "Testing f1 score      0.871345   0.812789  \n",
       "Holdout Accuracy      0.837869   0.752171  \n",
       "Holdout Recall        0.806647   0.684548  \n",
       "Holdout Precision     0.901012   0.961755  \n",
       "Holdout f1 score      0.851222   0.799813  "
      ]
     },
     "execution_count": 33,
     "metadata": {},
     "output_type": "execute_result"
    }
   ],
   "source": [
    "# Show the metrics dataframe tranposed for easier reading\n",
    "def_mods_cvec_nsw.T"
   ]
  },
  {
   "cell_type": "code",
   "execution_count": 34,
   "id": "8852cb8a-359e-4e9b-9f14-08ebb2678c7c",
   "metadata": {},
   "outputs": [
    {
     "data": {
      "image/png": "[encoded data removed]",
      "text/plain": [
       "<Figure size 700x700 with 2 Axes>"
      ]
     },
     "metadata": {},
     "output_type": "display_data"
    }
   ],
   "source": [
    "# Create bar charts compaing performance on testing and holdout data with and witout stop words\n",
    "all_model_plotter(def_mods_cvec, 'Testing Accuracy', 'With Stop Words',\n",
    "                  def_mods_cvec_nsw, 'Testing Accuracy', 'Without Stop Words',\n",
    "                  def_mods_cvec, 'Holdout Accuracy', 'With Stop Words',\n",
    "                  def_mods_cvec_nsw, 'Holdout Accuracy', 'Without Stop Words',\n",
    "                  class_models_labels, (7,7), (0.7, 0.95), (0.7, 0.9),\n",
    "                  'CountVecotrizer - Accuracy - Testing Data',\n",
    "                  'CountVecotrizer - Accuracy - Holdout Data'\n",
    "                 )"
   ]
  },
  {
   "cell_type": "markdown",
   "id": "0cf1665e-fd91-4e97-9453-155baf8fd77c",
   "metadata": {
    "tags": []
   },
   "source": [
    "### 4.1.2 - Seven Candidate Models with TFIDFVectorizer, With and Without Stopwords"
   ]
  },
  {
   "cell_type": "code",
   "execution_count": 35,
   "id": "cd789c27-d059-424d-8ab4-82c3bee125dc",
   "metadata": {},
   "outputs": [],
   "source": [
    "# Define seven candidate classification models in pipelines with default parameters\n",
    "\n",
    "log_pipe = Pipeline([\n",
    "    ('tvc', TfidfVectorizer()),\n",
    "    ('log_reg', LogisticRegression())\n",
    "])\n",
    "\n",
    "tree_pipe = Pipeline([\n",
    "    ('tvc', TfidfVectorizer()),\n",
    "    ('tree_class', DecisionTreeClassifier())\n",
    "])\n",
    "\n",
    "bag_pipe = Pipeline([\n",
    "    ('tvc', TfidfVectorizer()),\n",
    "    ('bag_class', BaggingClassifier())\n",
    "])\n",
    "\n",
    "rf_pipe = Pipeline([\n",
    "    ('tvc', TfidfVectorizer()),\n",
    "    ('rf_class', RandomForestClassifier())\n",
    "])\n",
    "\n",
    "ada_pipe = Pipeline([\n",
    "    ('tvc', TfidfVectorizer()),\n",
    "    ('ada_class', AdaBoostClassifier())\n",
    "])\n",
    "\n",
    "extra_pipe = Pipeline([\n",
    "    ('tvc', TfidfVectorizer()),\n",
    "    ('extra_tree', ExtraTreesClassifier())\n",
    "])\n",
    "\n",
    "grad_pipe = Pipeline([\n",
    "    ('tvc', TfidfVectorizer()),\n",
    "    ('grad', GradientBoostingClassifier())\n",
    "])"
   ]
  },
  {
   "cell_type": "code",
   "execution_count": 36,
   "id": "04e64689-b422-4d52-b9de-84cfe45e9896",
   "metadata": {},
   "outputs": [],
   "source": [
    "# Define list of model instances to be run in loops going forward:\n",
    "class_models = [log_pipe, tree_pipe, bag_pipe, rf_pipe, ada_pipe, extra_pipe, grad_pipe]\n",
    "\n",
    "# Loop through all instantiated models above to fit each of them\n",
    "for model in class_models:\n",
    "    model.fit(X_train, y_train)\n",
    "\n",
    "# Run the Default Model Metrics funciton to stop_words=a dataframe of performance metrics on training, testing, and holdout data\n",
    "def_mods_Tvec = metrics_df(class_models, X_train, y_train, X_test, y_test, X_hold, y_hold, class_models_labels)"
   ]
  },
  {
   "cell_type": "code",
   "execution_count": 37,
   "id": "36e67b05-6ee6-4b02-85fa-e2058917192b",
   "metadata": {},
   "outputs": [
    {
     "data": {
      "text/html": [
       "<div>\n",
       "<style scoped>\n",
       "    .dataframe tbody tr th:only-of-type {\n",
       "        vertical-align: middle;\n",
       "    }\n",
       "\n",
       "    .dataframe tbody tr th {\n",
       "        vertical-align: top;\n",
       "    }\n",
       "\n",
       "    .dataframe thead th {\n",
       "        text-align: right;\n",
       "    }\n",
       "</style>\n",
       "<table border=\"1\" class=\"dataframe\">\n",
       "  <thead>\n",
       "    <tr style=\"text-align: right;\">\n",
       "      <th></th>\n",
       "      <th>log_pipe</th>\n",
       "      <th>tree_pipe</th>\n",
       "      <th>bag_pipe</th>\n",
       "      <th>rf_pipe</th>\n",
       "      <th>ada_pipe</th>\n",
       "      <th>extra_pipe</th>\n",
       "      <th>grad_pipe</th>\n",
       "    </tr>\n",
       "  </thead>\n",
       "  <tbody>\n",
       "    <tr>\n",
       "      <th>Training Accuracy</th>\n",
       "      <td>0.946753</td>\n",
       "      <td>1.000000</td>\n",
       "      <td>0.987684</td>\n",
       "      <td>1.000000</td>\n",
       "      <td>0.787136</td>\n",
       "      <td>1.000000</td>\n",
       "      <td>0.808161</td>\n",
       "    </tr>\n",
       "    <tr>\n",
       "      <th>Training Recall</th>\n",
       "      <td>0.927385</td>\n",
       "      <td>1.000000</td>\n",
       "      <td>0.992483</td>\n",
       "      <td>1.000000</td>\n",
       "      <td>0.736391</td>\n",
       "      <td>1.000000</td>\n",
       "      <td>0.752743</td>\n",
       "    </tr>\n",
       "    <tr>\n",
       "      <th>Training Precision</th>\n",
       "      <td>0.969727</td>\n",
       "      <td>1.000000</td>\n",
       "      <td>0.982878</td>\n",
       "      <td>1.000000</td>\n",
       "      <td>0.896278</td>\n",
       "      <td>1.000000</td>\n",
       "      <td>0.919355</td>\n",
       "    </tr>\n",
       "    <tr>\n",
       "      <th>Training f1 score</th>\n",
       "      <td>0.948083</td>\n",
       "      <td>1.000000</td>\n",
       "      <td>0.987657</td>\n",
       "      <td>1.000000</td>\n",
       "      <td>0.808506</td>\n",
       "      <td>1.000000</td>\n",
       "      <td>0.827748</td>\n",
       "    </tr>\n",
       "    <tr>\n",
       "      <th>Testing Accuracy</th>\n",
       "      <td>0.881095</td>\n",
       "      <td>0.770647</td>\n",
       "      <td>0.794030</td>\n",
       "      <td>0.846766</td>\n",
       "      <td>0.764179</td>\n",
       "      <td>0.874627</td>\n",
       "      <td>0.787562</td>\n",
       "    </tr>\n",
       "    <tr>\n",
       "      <th>Testing Recall</th>\n",
       "      <td>0.868571</td>\n",
       "      <td>0.784536</td>\n",
       "      <td>0.814932</td>\n",
       "      <td>0.841239</td>\n",
       "      <td>0.728196</td>\n",
       "      <td>0.853953</td>\n",
       "      <td>0.751286</td>\n",
       "    </tr>\n",
       "    <tr>\n",
       "      <th>Testing Precision</th>\n",
       "      <td>0.900296</td>\n",
       "      <td>0.751234</td>\n",
       "      <td>0.765054</td>\n",
       "      <td>0.857848</td>\n",
       "      <td>0.848963</td>\n",
       "      <td>0.906219</td>\n",
       "      <td>0.864758</td>\n",
       "    </tr>\n",
       "    <tr>\n",
       "      <th>Testing f1 score</th>\n",
       "      <td>0.884149</td>\n",
       "      <td>0.767524</td>\n",
       "      <td>0.789206</td>\n",
       "      <td>0.849462</td>\n",
       "      <td>0.783956</td>\n",
       "      <td>0.879310</td>\n",
       "      <td>0.804039</td>\n",
       "    </tr>\n",
       "    <tr>\n",
       "      <th>Holdout Accuracy</th>\n",
       "      <td>0.855819</td>\n",
       "      <td>0.768384</td>\n",
       "      <td>0.783439</td>\n",
       "      <td>0.837290</td>\n",
       "      <td>0.736537</td>\n",
       "      <td>0.856398</td>\n",
       "      <td>0.758541</td>\n",
       "    </tr>\n",
       "    <tr>\n",
       "      <th>Holdout Recall</th>\n",
       "      <td>0.827198</td>\n",
       "      <td>0.766050</td>\n",
       "      <td>0.785794</td>\n",
       "      <td>0.813402</td>\n",
       "      <td>0.706274</td>\n",
       "      <td>0.813908</td>\n",
       "      <td>0.720149</td>\n",
       "    </tr>\n",
       "    <tr>\n",
       "      <th>Holdout Precision</th>\n",
       "      <td>0.910011</td>\n",
       "      <td>0.791901</td>\n",
       "      <td>0.796400</td>\n",
       "      <td>0.887514</td>\n",
       "      <td>0.835771</td>\n",
       "      <td>0.934758</td>\n",
       "      <td>0.868391</td>\n",
       "    </tr>\n",
       "    <tr>\n",
       "      <th>Holdout f1 score</th>\n",
       "      <td>0.866631</td>\n",
       "      <td>0.778761</td>\n",
       "      <td>0.791061</td>\n",
       "      <td>0.848843</td>\n",
       "      <td>0.765585</td>\n",
       "      <td>0.870157</td>\n",
       "      <td>0.787353</td>\n",
       "    </tr>\n",
       "  </tbody>\n",
       "</table>\n",
       "</div>"
      ],
      "text/plain": [
       "                    log_pipe  tree_pipe  bag_pipe   rf_pipe  ada_pipe  \\\n",
       "Training Accuracy   0.946753   1.000000  0.987684  1.000000  0.787136   \n",
       "Training Recall     0.927385   1.000000  0.992483  1.000000  0.736391   \n",
       "Training Precision  0.969727   1.000000  0.982878  1.000000  0.896278   \n",
       "Training f1 score   0.948083   1.000000  0.987657  1.000000  0.808506   \n",
       "Testing Accuracy    0.881095   0.770647  0.794030  0.846766  0.764179   \n",
       "Testing Recall      0.868571   0.784536  0.814932  0.841239  0.728196   \n",
       "Testing Precision   0.900296   0.751234  0.765054  0.857848  0.848963   \n",
       "Testing f1 score    0.884149   0.767524  0.789206  0.849462  0.783956   \n",
       "Holdout Accuracy    0.855819   0.768384  0.783439  0.837290  0.736537   \n",
       "Holdout Recall      0.827198   0.766050  0.785794  0.813402  0.706274   \n",
       "Holdout Precision   0.910011   0.791901  0.796400  0.887514  0.835771   \n",
       "Holdout f1 score    0.866631   0.778761  0.791061  0.848843  0.765585   \n",
       "\n",
       "                    extra_pipe  grad_pipe  \n",
       "Training Accuracy     1.000000   0.808161  \n",
       "Training Recall       1.000000   0.752743  \n",
       "Training Precision    1.000000   0.919355  \n",
       "Training f1 score     1.000000   0.827748  \n",
       "Testing Accuracy      0.874627   0.787562  \n",
       "Testing Recall        0.853953   0.751286  \n",
       "Testing Precision     0.906219   0.864758  \n",
       "Testing f1 score      0.879310   0.804039  \n",
       "Holdout Accuracy      0.856398   0.758541  \n",
       "Holdout Recall        0.813908   0.720149  \n",
       "Holdout Precision     0.934758   0.868391  \n",
       "Holdout f1 score      0.870157   0.787353  "
      ]
     },
     "execution_count": 37,
     "metadata": {},
     "output_type": "execute_result"
    }
   ],
   "source": [
    "# Show the metrics dataframe tranposed for easier reading\n",
    "def_mods_Tvec.T"
   ]
  },
  {
   "cell_type": "code",
   "execution_count": 38,
   "id": "cda80aee-8003-45b9-a178-8429653d0d34",
   "metadata": {},
   "outputs": [],
   "source": [
    "# Define seven candidate classification models in pipelines with default parameters\n",
    "\n",
    "# THIS TIME STOP WORDS = ENGLISH\n",
    "\n",
    "log_pipe = Pipeline([\n",
    "    ('tvc', TfidfVectorizer(stop_words='english')),\n",
    "    ('log_reg', LogisticRegression(random_state=0))\n",
    "])\n",
    "\n",
    "tree_pipe = Pipeline([\n",
    "    ('tvc', TfidfVectorizer(stop_words='english')),\n",
    "    ('tree_class', DecisionTreeClassifier(random_state=0))\n",
    "])\n",
    "\n",
    "bag_pipe = Pipeline([\n",
    "    ('tvc', TfidfVectorizer(stop_words='english')),\n",
    "    ('bag_class', BaggingClassifier(random_state=0))\n",
    "])\n",
    "\n",
    "rf_pipe = Pipeline([\n",
    "    ('tvc', TfidfVectorizer(stop_words='english')),\n",
    "    ('rf_class', RandomForestClassifier(random_state=0))\n",
    "])\n",
    "\n",
    "ada_pipe = Pipeline([\n",
    "    ('tvc', TfidfVectorizer(stop_words='english')),\n",
    "    ('ada_class', AdaBoostClassifier(random_state=0))\n",
    "])\n",
    "\n",
    "extra_pipe = Pipeline([\n",
    "    ('tvc', TfidfVectorizer(stop_words='english')),\n",
    "    ('extra_tree', ExtraTreesClassifier(random_state=0))\n",
    "])\n",
    "\n",
    "grad_pipe = Pipeline([\n",
    "    ('tvc', TfidfVectorizer(stop_words='english')),\n",
    "    ('grad', GradientBoostingClassifier(random_state=0))\n",
    "])"
   ]
  },
  {
   "cell_type": "code",
   "execution_count": 39,
   "id": "80a89d55-2ee1-4c4c-b1bb-63bfe6cd1025",
   "metadata": {},
   "outputs": [],
   "source": [
    "# Define list of model instances to be run in loops going forward:\n",
    "class_models = [log_pipe, tree_pipe, bag_pipe, rf_pipe, ada_pipe, extra_pipe, grad_pipe]\n",
    "\n",
    "# Loop through all instantiated models above to fit each of them\n",
    "for model in class_models:\n",
    "    model.fit(X_train, y_train)\n",
    "\n",
    "# Run the Default Model Metrics funciton to get a dataframe of performance metrics on training, testing, and holdout data\n",
    "def_mods_Tvec_nsw = metrics_df(class_models, X_train, y_train, X_test, y_test, X_hold, y_hold, class_models_labels)"
   ]
  },
  {
   "cell_type": "code",
   "execution_count": 40,
   "id": "e13991a2-36bf-41c4-8178-1bd990de9188",
   "metadata": {},
   "outputs": [
    {
     "data": {
      "text/html": [
       "<div>\n",
       "<style scoped>\n",
       "    .dataframe tbody tr th:only-of-type {\n",
       "        vertical-align: middle;\n",
       "    }\n",
       "\n",
       "    .dataframe tbody tr th {\n",
       "        vertical-align: top;\n",
       "    }\n",
       "\n",
       "    .dataframe thead th {\n",
       "        text-align: right;\n",
       "    }\n",
       "</style>\n",
       "<table border=\"1\" class=\"dataframe\">\n",
       "  <thead>\n",
       "    <tr style=\"text-align: right;\">\n",
       "      <th></th>\n",
       "      <th>log_pipe</th>\n",
       "      <th>tree_pipe</th>\n",
       "      <th>bag_pipe</th>\n",
       "      <th>rf_pipe</th>\n",
       "      <th>ada_pipe</th>\n",
       "      <th>extra_pipe</th>\n",
       "      <th>grad_pipe</th>\n",
       "    </tr>\n",
       "  </thead>\n",
       "  <tbody>\n",
       "    <tr>\n",
       "      <th>Training Accuracy</th>\n",
       "      <td>0.948743</td>\n",
       "      <td>1.000000</td>\n",
       "      <td>0.988306</td>\n",
       "      <td>1.000000</td>\n",
       "      <td>0.776935</td>\n",
       "      <td>1.000000</td>\n",
       "      <td>0.803683</td>\n",
       "    </tr>\n",
       "    <tr>\n",
       "      <th>Training Recall</th>\n",
       "      <td>0.926450</td>\n",
       "      <td>1.000000</td>\n",
       "      <td>0.991018</td>\n",
       "      <td>1.000000</td>\n",
       "      <td>0.704143</td>\n",
       "      <td>1.000000</td>\n",
       "      <td>0.725037</td>\n",
       "    </tr>\n",
       "    <tr>\n",
       "      <th>Training Precision</th>\n",
       "      <td>0.975186</td>\n",
       "      <td>1.000000</td>\n",
       "      <td>0.985608</td>\n",
       "      <td>1.000000</td>\n",
       "      <td>0.957320</td>\n",
       "      <td>1.000000</td>\n",
       "      <td>0.980149</td>\n",
       "    </tr>\n",
       "    <tr>\n",
       "      <th>Training f1 score</th>\n",
       "      <td>0.950193</td>\n",
       "      <td>1.000000</td>\n",
       "      <td>0.988306</td>\n",
       "      <td>1.000000</td>\n",
       "      <td>0.811442</td>\n",
       "      <td>1.000000</td>\n",
       "      <td>0.833509</td>\n",
       "    </tr>\n",
       "    <tr>\n",
       "      <th>Testing Accuracy</th>\n",
       "      <td>0.872139</td>\n",
       "      <td>0.819403</td>\n",
       "      <td>0.840299</td>\n",
       "      <td>0.863682</td>\n",
       "      <td>0.765174</td>\n",
       "      <td>0.874129</td>\n",
       "      <td>0.784577</td>\n",
       "    </tr>\n",
       "    <tr>\n",
       "      <th>Testing Recall</th>\n",
       "      <td>0.845521</td>\n",
       "      <td>0.826305</td>\n",
       "      <td>0.838552</td>\n",
       "      <td>0.838680</td>\n",
       "      <td>0.697879</td>\n",
       "      <td>0.861905</td>\n",
       "      <td>0.716418</td>\n",
       "    </tr>\n",
       "    <tr>\n",
       "      <th>Testing Precision</th>\n",
       "      <td>0.913129</td>\n",
       "      <td>0.812438</td>\n",
       "      <td>0.846002</td>\n",
       "      <td>0.903258</td>\n",
       "      <td>0.941757</td>\n",
       "      <td>0.893386</td>\n",
       "      <td>0.947680</td>\n",
       "    </tr>\n",
       "    <tr>\n",
       "      <th>Testing f1 score</th>\n",
       "      <td>0.878026</td>\n",
       "      <td>0.819313</td>\n",
       "      <td>0.842260</td>\n",
       "      <td>0.869772</td>\n",
       "      <td>0.801681</td>\n",
       "      <td>0.877363</td>\n",
       "      <td>0.815980</td>\n",
       "    </tr>\n",
       "    <tr>\n",
       "      <th>Holdout Accuracy</th>\n",
       "      <td>0.854082</td>\n",
       "      <td>0.781702</td>\n",
       "      <td>0.803706</td>\n",
       "      <td>0.836132</td>\n",
       "      <td>0.745802</td>\n",
       "      <td>0.845397</td>\n",
       "      <td>0.751592</td>\n",
       "    </tr>\n",
       "    <tr>\n",
       "      <th>Holdout Recall</th>\n",
       "      <td>0.810732</td>\n",
       "      <td>0.771186</td>\n",
       "      <td>0.775551</td>\n",
       "      <td>0.790787</td>\n",
       "      <td>0.682039</td>\n",
       "      <td>0.810379</td>\n",
       "      <td>0.685484</td>\n",
       "    </tr>\n",
       "    <tr>\n",
       "      <th>Holdout Precision</th>\n",
       "      <td>0.934758</td>\n",
       "      <td>0.818898</td>\n",
       "      <td>0.870641</td>\n",
       "      <td>0.926884</td>\n",
       "      <td>0.948256</td>\n",
       "      <td>0.913386</td>\n",
       "      <td>0.956130</td>\n",
       "    </tr>\n",
       "    <tr>\n",
       "      <th>Holdout f1 score</th>\n",
       "      <td>0.868339</td>\n",
       "      <td>0.794326</td>\n",
       "      <td>0.820350</td>\n",
       "      <td>0.853444</td>\n",
       "      <td>0.793412</td>\n",
       "      <td>0.858805</td>\n",
       "      <td>0.798497</td>\n",
       "    </tr>\n",
       "  </tbody>\n",
       "</table>\n",
       "</div>"
      ],
      "text/plain": [
       "                    log_pipe  tree_pipe  bag_pipe   rf_pipe  ada_pipe  \\\n",
       "Training Accuracy   0.948743   1.000000  0.988306  1.000000  0.776935   \n",
       "Training Recall     0.926450   1.000000  0.991018  1.000000  0.704143   \n",
       "Training Precision  0.975186   1.000000  0.985608  1.000000  0.957320   \n",
       "Training f1 score   0.950193   1.000000  0.988306  1.000000  0.811442   \n",
       "Testing Accuracy    0.872139   0.819403  0.840299  0.863682  0.765174   \n",
       "Testing Recall      0.845521   0.826305  0.838552  0.838680  0.697879   \n",
       "Testing Precision   0.913129   0.812438  0.846002  0.903258  0.941757   \n",
       "Testing f1 score    0.878026   0.819313  0.842260  0.869772  0.801681   \n",
       "Holdout Accuracy    0.854082   0.781702  0.803706  0.836132  0.745802   \n",
       "Holdout Recall      0.810732   0.771186  0.775551  0.790787  0.682039   \n",
       "Holdout Precision   0.934758   0.818898  0.870641  0.926884  0.948256   \n",
       "Holdout f1 score    0.868339   0.794326  0.820350  0.853444  0.793412   \n",
       "\n",
       "                    extra_pipe  grad_pipe  \n",
       "Training Accuracy     1.000000   0.803683  \n",
       "Training Recall       1.000000   0.725037  \n",
       "Training Precision    1.000000   0.980149  \n",
       "Training f1 score     1.000000   0.833509  \n",
       "Testing Accuracy      0.874129   0.784577  \n",
       "Testing Recall        0.861905   0.716418  \n",
       "Testing Precision     0.893386   0.947680  \n",
       "Testing f1 score      0.877363   0.815980  \n",
       "Holdout Accuracy      0.845397   0.751592  \n",
       "Holdout Recall        0.810379   0.685484  \n",
       "Holdout Precision     0.913386   0.956130  \n",
       "Holdout f1 score      0.858805   0.798497  "
      ]
     },
     "execution_count": 40,
     "metadata": {},
     "output_type": "execute_result"
    }
   ],
   "source": [
    "# Show the metrics dataframe tranposed for easier reading\n",
    "def_mods_Tvec_nsw.T"
   ]
  },
  {
   "cell_type": "code",
   "execution_count": 41,
   "id": "562cecdb-11b3-45a4-ba7b-68dca2ee362e",
   "metadata": {},
   "outputs": [
    {
     "data": {
      "image/png": "[encoded data removed]",
      "text/plain": [
       "<Figure size 700x700 with 2 Axes>"
      ]
     },
     "metadata": {},
     "output_type": "display_data"
    }
   ],
   "source": [
    "# Create bar charts compaing performance on testing and holdout data with and witout stop words\n",
    "all_model_plotter(def_mods_Tvec, 'Testing Accuracy', 'With Stop Words',\n",
    "                  def_mods_Tvec_nsw, 'Testing Accuracy', 'Without Stop Words',\n",
    "                  def_mods_Tvec, 'Holdout Accuracy', 'With Stop Words',\n",
    "                  def_mods_Tvec_nsw, 'Holdout Accuracy', 'Without Stop Words',\n",
    "                  class_models_labels, (7,7), (0.7, 0.95), (0.7, 0.9),\n",
    "                  'TFIDFVectorizer - Accuracy - Testing Data',\n",
    "                  'TFIDFVectorizer - Accuracy - Holdout Data')"
   ]
  },
  {
   "cell_type": "code",
   "execution_count": 42,
   "id": "c8972a76-ba76-4cbe-8f5c-f80c0bab302f",
   "metadata": {},
   "outputs": [
    {
     "data": {
      "image/png": "[encoded data removed]",
      "text/plain": [
       "<Figure size 700x700 with 2 Axes>"
      ]
     },
     "metadata": {},
     "output_type": "display_data"
    }
   ],
   "source": [
    "# Create bar plots comparing performance with and without stop words for the CountVectorizer and TFIDFVectorizer\n",
    "all_model_plotter(def_mods_cvec, 'Testing Accuracy', 'CountVectorizer',\n",
    "                  def_mods_Tvec, 'Testing Accuracy', 'TFIDFVectorizer',\n",
    "                  def_mods_cvec, 'Holdout Accuracy', 'CountVectorizer',\n",
    "                  def_mods_Tvec, 'Holdout Accuracy', 'TFIDFVectorizer',\n",
    "                  class_models_labels, (7,7), (0.7, 0.95), (0.7, 0.9),\n",
    "                  'With Stop Words - Accuracy - Testing Data',\n",
    "                  'Without Stop Words - Accuracy - Holdout Data')"
   ]
  },
  {
   "cell_type": "code",
   "execution_count": 43,
   "id": "170b8b11-d66f-4e59-9c15-907291919992",
   "metadata": {},
   "outputs": [
    {
     "data": {
      "text/html": [
       "<style type=\"text/css\">\n",
       "#T_7f331_row0_col0, #T_7f331_row0_col5, #T_7f331_row0_col6, #T_7f331_row1_col1, #T_7f331_row1_col2, #T_7f331_row1_col3, #T_7f331_row2_col6, #T_7f331_row3_col4 {\n",
       "  background-color: green;\n",
       "}\n",
       "</style>\n",
       "<table id=\"T_7f331\">\n",
       "  <thead>\n",
       "    <tr>\n",
       "      <th class=\"blank level0\" >&nbsp;</th>\n",
       "      <th id=\"T_7f331_level0_col0\" class=\"col_heading level0 col0\" >log_pipe</th>\n",
       "      <th id=\"T_7f331_level0_col1\" class=\"col_heading level0 col1\" >tree_pipe</th>\n",
       "      <th id=\"T_7f331_level0_col2\" class=\"col_heading level0 col2\" >bag_pipe</th>\n",
       "      <th id=\"T_7f331_level0_col3\" class=\"col_heading level0 col3\" >rf_pipe</th>\n",
       "      <th id=\"T_7f331_level0_col4\" class=\"col_heading level0 col4\" >ada_pipe</th>\n",
       "      <th id=\"T_7f331_level0_col5\" class=\"col_heading level0 col5\" >extra_pipe</th>\n",
       "      <th id=\"T_7f331_level0_col6\" class=\"col_heading level0 col6\" >grad_pipe</th>\n",
       "    </tr>\n",
       "    <tr>\n",
       "      <th class=\"index_name level0\" >Vectorizer</th>\n",
       "      <th class=\"blank col0\" >&nbsp;</th>\n",
       "      <th class=\"blank col1\" >&nbsp;</th>\n",
       "      <th class=\"blank col2\" >&nbsp;</th>\n",
       "      <th class=\"blank col3\" >&nbsp;</th>\n",
       "      <th class=\"blank col4\" >&nbsp;</th>\n",
       "      <th class=\"blank col5\" >&nbsp;</th>\n",
       "      <th class=\"blank col6\" >&nbsp;</th>\n",
       "    </tr>\n",
       "  </thead>\n",
       "  <tbody>\n",
       "    <tr>\n",
       "      <th id=\"T_7f331_level0_row0\" class=\"row_heading level0 row0\" >Cvec Test Acc</th>\n",
       "      <td id=\"T_7f331_row0_col0\" class=\"data row0 col0\" >0.885075</td>\n",
       "      <td id=\"T_7f331_row0_col1\" class=\"data row0 col1\" >0.780597</td>\n",
       "      <td id=\"T_7f331_row0_col2\" class=\"data row0 col2\" >0.806468</td>\n",
       "      <td id=\"T_7f331_row0_col3\" class=\"data row0 col3\" >0.855224</td>\n",
       "      <td id=\"T_7f331_row0_col4\" class=\"data row0 col4\" >0.764677</td>\n",
       "      <td id=\"T_7f331_row0_col5\" class=\"data row0 col5\" >0.879104</td>\n",
       "      <td id=\"T_7f331_row0_col6\" class=\"data row0 col6\" >0.787562</td>\n",
       "    </tr>\n",
       "    <tr>\n",
       "      <th id=\"T_7f331_level0_row1\" class=\"row_heading level0 row1\" >Cvec NSW Test Acc</th>\n",
       "      <td id=\"T_7f331_row1_col0\" class=\"data row1 col0\" >0.883582</td>\n",
       "      <td id=\"T_7f331_row1_col1\" class=\"data row1 col1\" >0.832338</td>\n",
       "      <td id=\"T_7f331_row1_col2\" class=\"data row1 col2\" >0.852736</td>\n",
       "      <td id=\"T_7f331_row1_col3\" class=\"data row1 col3\" >0.866667</td>\n",
       "      <td id=\"T_7f331_row1_col4\" class=\"data row1 col4\" >0.762189</td>\n",
       "      <td id=\"T_7f331_row1_col5\" class=\"data row1 col5\" >0.868657</td>\n",
       "      <td id=\"T_7f331_row1_col6\" class=\"data row1 col6\" >0.778607</td>\n",
       "    </tr>\n",
       "    <tr>\n",
       "      <th id=\"T_7f331_level0_row2\" class=\"row_heading level0 row2\" >Tvec Test Acc</th>\n",
       "      <td id=\"T_7f331_row2_col0\" class=\"data row2 col0\" >0.881095</td>\n",
       "      <td id=\"T_7f331_row2_col1\" class=\"data row2 col1\" >0.770647</td>\n",
       "      <td id=\"T_7f331_row2_col2\" class=\"data row2 col2\" >0.794030</td>\n",
       "      <td id=\"T_7f331_row2_col3\" class=\"data row2 col3\" >0.846766</td>\n",
       "      <td id=\"T_7f331_row2_col4\" class=\"data row2 col4\" >0.764179</td>\n",
       "      <td id=\"T_7f331_row2_col5\" class=\"data row2 col5\" >0.874627</td>\n",
       "      <td id=\"T_7f331_row2_col6\" class=\"data row2 col6\" >0.787562</td>\n",
       "    </tr>\n",
       "    <tr>\n",
       "      <th id=\"T_7f331_level0_row3\" class=\"row_heading level0 row3\" >Tvec NSW Test Acc</th>\n",
       "      <td id=\"T_7f331_row3_col0\" class=\"data row3 col0\" >0.872139</td>\n",
       "      <td id=\"T_7f331_row3_col1\" class=\"data row3 col1\" >0.819403</td>\n",
       "      <td id=\"T_7f331_row3_col2\" class=\"data row3 col2\" >0.840299</td>\n",
       "      <td id=\"T_7f331_row3_col3\" class=\"data row3 col3\" >0.863682</td>\n",
       "      <td id=\"T_7f331_row3_col4\" class=\"data row3 col4\" >0.765174</td>\n",
       "      <td id=\"T_7f331_row3_col5\" class=\"data row3 col5\" >0.874129</td>\n",
       "      <td id=\"T_7f331_row3_col6\" class=\"data row3 col6\" >0.784577</td>\n",
       "    </tr>\n",
       "  </tbody>\n",
       "</table>\n"
      ],
      "text/plain": [
       "<pandas.io.formats.style.Styler at 0x2658caf5bd0>"
      ]
     },
     "execution_count": 43,
     "metadata": {},
     "output_type": "execute_result"
    }
   ],
   "source": [
    "# Create a dataframe that ONLY shows accuracy scores for the TESTING data:\n",
    "default_metrics_best = pd.concat([def_mods_cvec.T.loc[['Testing Accuracy']], \n",
    "           def_mods_cvec_nsw.T.loc[['Testing Accuracy']],\n",
    "          def_mods_Tvec.T.loc[['Testing Accuracy']], \n",
    "           def_mods_Tvec_nsw.T.loc[['Testing Accuracy']]],\n",
    "         )\n",
    "\n",
    "# Create a column with eventual index names to then make that the column:\n",
    "default_metrics_best['Vectorizer'] = ['Cvec Test Acc', 'Cvec NSW Test Acc', 'Tvec Test Acc', 'Tvec NSW Test Acc']\n",
    "\n",
    "# Make the vectorizer Column the Index and...\n",
    "# Highlight the highest values in each column green\n",
    "#  Source:  # https://www.geeksforgeeks.org/highlight-the-maximum-value-in-each-column-in-pandas/\n",
    "default_metrics_best.set_index('Vectorizer').style.highlight_max(color = 'green', axis = 0)"
   ]
  },
  {
   "cell_type": "code",
   "execution_count": 44,
   "id": "5e6447bc-959d-40a3-944f-ff757579344a",
   "metadata": {},
   "outputs": [
    {
     "data": {
      "text/html": [
       "<style type=\"text/css\">\n",
       "#T_84157_row1_col1, #T_84157_row1_col2, #T_84157_row1_col4, #T_84157_row2_col0, #T_84157_row2_col3, #T_84157_row2_col5, #T_84157_row2_col6 {\n",
       "  background-color: blue;\n",
       "}\n",
       "</style>\n",
       "<table id=\"T_84157\">\n",
       "  <thead>\n",
       "    <tr>\n",
       "      <th class=\"blank level0\" >&nbsp;</th>\n",
       "      <th id=\"T_84157_level0_col0\" class=\"col_heading level0 col0\" >log_pipe</th>\n",
       "      <th id=\"T_84157_level0_col1\" class=\"col_heading level0 col1\" >tree_pipe</th>\n",
       "      <th id=\"T_84157_level0_col2\" class=\"col_heading level0 col2\" >bag_pipe</th>\n",
       "      <th id=\"T_84157_level0_col3\" class=\"col_heading level0 col3\" >rf_pipe</th>\n",
       "      <th id=\"T_84157_level0_col4\" class=\"col_heading level0 col4\" >ada_pipe</th>\n",
       "      <th id=\"T_84157_level0_col5\" class=\"col_heading level0 col5\" >extra_pipe</th>\n",
       "      <th id=\"T_84157_level0_col6\" class=\"col_heading level0 col6\" >grad_pipe</th>\n",
       "    </tr>\n",
       "    <tr>\n",
       "      <th class=\"index_name level0\" >Vectorizer</th>\n",
       "      <th class=\"blank col0\" >&nbsp;</th>\n",
       "      <th class=\"blank col1\" >&nbsp;</th>\n",
       "      <th class=\"blank col2\" >&nbsp;</th>\n",
       "      <th class=\"blank col3\" >&nbsp;</th>\n",
       "      <th class=\"blank col4\" >&nbsp;</th>\n",
       "      <th class=\"blank col5\" >&nbsp;</th>\n",
       "      <th class=\"blank col6\" >&nbsp;</th>\n",
       "    </tr>\n",
       "  </thead>\n",
       "  <tbody>\n",
       "    <tr>\n",
       "      <th id=\"T_84157_level0_row0\" class=\"row_heading level0 row0\" >Cvec Hold Acc</th>\n",
       "      <td id=\"T_84157_row0_col0\" class=\"data row0 col0\" >0.855240</td>\n",
       "      <td id=\"T_84157_row0_col1\" class=\"data row0 col1\" >0.759699</td>\n",
       "      <td id=\"T_84157_row0_col2\" class=\"data row0 col2\" >0.775333</td>\n",
       "      <td id=\"T_84157_row0_col3\" class=\"data row0 col3\" >0.823972</td>\n",
       "      <td id=\"T_84157_row0_col4\" class=\"data row0 col4\" >0.717429</td>\n",
       "      <td id=\"T_84157_row0_col5\" class=\"data row0 col5\" >0.843080</td>\n",
       "      <td id=\"T_84157_row0_col6\" class=\"data row0 col6\" >0.741170</td>\n",
       "    </tr>\n",
       "    <tr>\n",
       "      <th id=\"T_84157_level0_row1\" class=\"row_heading level0 row1\" >Cvec NSW Hold Acc</th>\n",
       "      <td id=\"T_84157_row1_col0\" class=\"data row1 col0\" >0.854082</td>\n",
       "      <td id=\"T_84157_row1_col1\" class=\"data row1 col1\" >0.806601</td>\n",
       "      <td id=\"T_84157_row1_col2\" class=\"data row1 col2\" >0.818761</td>\n",
       "      <td id=\"T_84157_row1_col3\" class=\"data row1 col3\" >0.826288</td>\n",
       "      <td id=\"T_84157_row1_col4\" class=\"data row1 col4\" >0.749855</td>\n",
       "      <td id=\"T_84157_row1_col5\" class=\"data row1 col5\" >0.837869</td>\n",
       "      <td id=\"T_84157_row1_col6\" class=\"data row1 col6\" >0.752171</td>\n",
       "    </tr>\n",
       "    <tr>\n",
       "      <th id=\"T_84157_level0_row2\" class=\"row_heading level0 row2\" >Tvec Hold Acc</th>\n",
       "      <td id=\"T_84157_row2_col0\" class=\"data row2 col0\" >0.855819</td>\n",
       "      <td id=\"T_84157_row2_col1\" class=\"data row2 col1\" >0.768384</td>\n",
       "      <td id=\"T_84157_row2_col2\" class=\"data row2 col2\" >0.783439</td>\n",
       "      <td id=\"T_84157_row2_col3\" class=\"data row2 col3\" >0.837290</td>\n",
       "      <td id=\"T_84157_row2_col4\" class=\"data row2 col4\" >0.736537</td>\n",
       "      <td id=\"T_84157_row2_col5\" class=\"data row2 col5\" >0.856398</td>\n",
       "      <td id=\"T_84157_row2_col6\" class=\"data row2 col6\" >0.758541</td>\n",
       "    </tr>\n",
       "    <tr>\n",
       "      <th id=\"T_84157_level0_row3\" class=\"row_heading level0 row3\" >Tvec NSW Hold Acc</th>\n",
       "      <td id=\"T_84157_row3_col0\" class=\"data row3 col0\" >0.854082</td>\n",
       "      <td id=\"T_84157_row3_col1\" class=\"data row3 col1\" >0.781702</td>\n",
       "      <td id=\"T_84157_row3_col2\" class=\"data row3 col2\" >0.803706</td>\n",
       "      <td id=\"T_84157_row3_col3\" class=\"data row3 col3\" >0.836132</td>\n",
       "      <td id=\"T_84157_row3_col4\" class=\"data row3 col4\" >0.745802</td>\n",
       "      <td id=\"T_84157_row3_col5\" class=\"data row3 col5\" >0.845397</td>\n",
       "      <td id=\"T_84157_row3_col6\" class=\"data row3 col6\" >0.751592</td>\n",
       "    </tr>\n",
       "  </tbody>\n",
       "</table>\n"
      ],
      "text/plain": [
       "<pandas.io.formats.style.Styler at 0x2659603e2c0>"
      ]
     },
     "execution_count": 44,
     "metadata": {},
     "output_type": "execute_result"
    }
   ],
   "source": [
    "# Create a dataframe that ONLY shows accuracy scores for the HOLDOUT data:\n",
    "default_metrics_best = pd.concat([def_mods_cvec.T.loc[['Holdout Accuracy']], \n",
    "           def_mods_cvec_nsw.T.loc[['Holdout Accuracy']],\n",
    "          def_mods_Tvec.T.loc[['Holdout Accuracy']], \n",
    "           def_mods_Tvec_nsw.T.loc[['Holdout Accuracy']]],\n",
    "         )\n",
    "\n",
    "# Create a column with eventual index names to then make that the column:\n",
    "default_metrics_best['Vectorizer'] = ['Cvec Hold Acc', 'Cvec NSW Hold Acc', 'Tvec Hold Acc', 'Tvec NSW Hold Acc']\n",
    "\n",
    "# Make the vectorizer Column the Index and...\n",
    "# Highlight the highest values in each column green\n",
    "#  Source:  # https://www.geeksforgeeks.org/highlight-the-maximum-value-in-each-column-in-pandas/\n",
    "default_metrics_best.set_index('Vectorizer').style.highlight_max(color = 'blue', axis = 0)"
   ]
  },
  {
   "cell_type": "markdown",
   "id": "16b54b5e-b450-4431-accc-cd9efb20d0dc",
   "metadata": {
    "tags": []
   },
   "source": [
    "### 4.1.3 Default model Perforamnce Observations:\n",
    "* The best model is the logistic regression model for both the testing and holdout data\n",
    "    * The next highest performing models are the Extra Trees Classifier and the Random Forest Classifier\n",
    "* All models except for the gradientboost and adaboost models are significantly overfit\n",
    "    * Condering that the boosted models are much worse from an accuracy standpoint, the overfitting aspect is far less important here\n",
    "    * For the other models, there is an opportunity to improve the performance on the testing and holdout datasets by trying to reduce overfitting\n",
    "* It should be noted that the boosted models do have the highest precision scores:\n",
    "    * This may make these models good candidates for use in stacking models later\n",
    "* Removing stop words seems to improve model preformace in the lower performing models and causes a slight degradation in performance of the logistic regression and extra trees models\n",
    "* The best performing combination of CountVectorizer vs. TFIDFVectorizer, and stop words vs. no stop words is model-dependent.  They are different for the tes and holdout data, but to prevent model leakage, only the perfomrnace on the test data should be considered\n",
    "    * The logstic regression and extra trees calssifiers perform best using the CountVectorizer and keeping stop words\n",
    "    * The random forest classifier showed its best performance when using the CountVectorizer without stop words"
   ]
  },
  {
   "cell_type": "markdown",
   "id": "803ee18b-da91-41d2-bddf-37506b959051",
   "metadata": {},
   "source": [
    "### 4.1.4 - MODEL DOWN-SELECT:\n",
    "Given the performance numbers above the following three models will be carried forward for further optimization:\n",
    "* Logistic Regression - CountVectorizer, with stop words\n",
    "* Random Forest Classifier - CountVectorizer, WITHOUT stop words\n",
    "* Extra Trees Classifier - CountVectorizer, with stop words"
   ]
  },
  {
   "cell_type": "markdown",
   "id": "4d4608cc-bd6a-4bf0-8512-da34b5b6c474",
   "metadata": {},
   "source": [
    "## 4.2 - Notes on Model Optimization with Hyperparameter Tuning\n",
    "* Every combination of hyperparameter that was examined through multiple runs will NOT be shown\n",
    "* Instead, the hyperparameter values in the gridsearches shown below will contain values at or around the optimal values\n",
    "* The obersavations below each optimized model will state what trends lead to the selection of the gridsearch parameters shown"
   ]
  },
  {
   "cell_type": "markdown",
   "id": "af76ba09-6ba6-42c4-acaa-11be5909d7ef",
   "metadata": {},
   "source": [
    "## 4.3 - Logistic Regression Model Optimization"
   ]
  },
  {
   "cell_type": "code",
   "execution_count": 45,
   "id": "d8f47aeb-a322-46cc-8c78-c9373c7d6d47",
   "metadata": {},
   "outputs": [],
   "source": [
    "# Instantiate pipeline\n",
    "log_pipe_opt = Pipeline([\n",
    "    ('cvc', CountVectorizer()),\n",
    "    ('log_reg', LogisticRegression(random_state=0))\n",
    "])"
   ]
  },
  {
   "cell_type": "code",
   "execution_count": 46,
   "id": "b55d510f-9446-4656-a7df-752060aec0b2",
   "metadata": {},
   "outputs": [],
   "source": [
    "# Create gridsearch parameter grid\n",
    "log_params = {\n",
    "    'cvc__max_features' : [3000, 10_000, None],\n",
    "    'cvc__min_df' : [1, 2, 4],\n",
    "    'cvc__max_df' : [1.0, 0.9],\n",
    "    'cvc__ngram_range' : [(1, 1), (1,2), (1,3)],\n",
    "    'log_reg__C': [1.2, 1.1, 1, 0.9],\n",
    "    'log_reg__n_jobs': [-1]\n",
    "}"
   ]
  },
  {
   "cell_type": "code",
   "execution_count": 47,
   "id": "5f39dab1-412a-40af-a153-9cb1d3ec1907",
   "metadata": {},
   "outputs": [],
   "source": [
    "# Instantiate Gridserach for Logistic Regression Model\n",
    "gs_log = GridSearchCV(log_pipe_opt,\n",
    "                     log_params,\n",
    "                     cv = 5, error_score='raise')"
   ]
  },
  {
   "cell_type": "code",
   "execution_count": 48,
   "id": "bb83f9e1-4c3e-4e01-8418-4c4126c19305",
   "metadata": {},
   "outputs": [
    {
     "name": "stdout",
     "output_type": "stream",
     "text": [
      "CPU times: total: 5min 11s\n",
      "Wall time: 9min 6s\n"
     ]
    },
    {
     "data": {
      "text/plain": [
       "({'cvc__max_df': 1.0,\n",
       "  'cvc__max_features': None,\n",
       "  'cvc__min_df': 1,\n",
       "  'cvc__ngram_range': (1, 2),\n",
       "  'log_reg__C': 1.2,\n",
       "  'log_reg__n_jobs': -1},\n",
       " 0.8875347128699997)"
      ]
     },
     "execution_count": 48,
     "metadata": {},
     "output_type": "execute_result"
    }
   ],
   "source": [
    "%%time\n",
    "# Fit the log reg model\n",
    "gs_log.fit(X_train, y_train)\n",
    "gs_log.best_params_, gs_log.best_score_"
   ]
  },
  {
   "cell_type": "code",
   "execution_count": 49,
   "id": "5790a64b-bfd9-4d1c-82a0-e1a06a1847c0",
   "metadata": {},
   "outputs": [
    {
     "data": {
      "text/plain": [
       "(0.9997511818860413, 0.891044776119403, 0.8598726114649682)"
      ]
     },
     "execution_count": 49,
     "metadata": {},
     "output_type": "execute_result"
    }
   ],
   "source": [
    "# Output performance scores\n",
    "gs_log.score(X_train, y_train), gs_log.score(X_test, y_test), gs_log.score(X_hold, y_hold)"
   ]
  },
  {
   "cell_type": "code",
   "execution_count": 50,
   "id": "50a77a24-0654-4c75-8627-4de366b80aed",
   "metadata": {},
   "outputs": [
    {
     "data": {
      "image/png": "[encoded data removed]",
      "text/plain": [
       "<Figure size 640x480 with 2 Axes>"
      ]
     },
     "metadata": {},
     "output_type": "display_data"
    }
   ],
   "source": [
    "# Setting Up Confusion Matrix\n",
    "ConfusionMatrixDisplay.from_estimator(gs_log, X_test, y_test, display_labels=['World News', 'The Onion'], cmap = 'Greens');\n",
    "plt.title('Optimized Logistic Regression \\nCountVectorizer with Stop Words', fontsize = 20)\n",
    "plt.xlabel('Predicted Label', size = 16)\n",
    "plt.ylabel('True Label', size = 16)\n",
    "plt.xticks(size = 14)\n",
    "plt.yticks(size = 14)\n",
    "plt.savefig(f'../images/conf_matrix_logreg.png')\n",
    "plt.show();"
   ]
  },
  {
   "cell_type": "markdown",
   "id": "b7d541ef-d990-4a2a-af21-61a12f5bceaf",
   "metadata": {
    "tags": []
   },
   "source": [
    "#### OBSERVATIONS:\n",
    "\n",
    "##### <u>Hyperparameter Trends:</u>\n",
    "* Max features likes to include all features, setting is 'None'\n",
    "* Min_df likes being as low as possible, setting is 1\n",
    "* Max_df likes to include all features, setting is 1.0\n",
    "* N_grams likes to include bigrams, but not any higher word-grams, setting is (1,2)\n",
    "* C likes being 1\n",
    "\n",
    "##### <u>Optimization Results:</u>\n",
    "* The best parameters above have inceased the accuracy on the testing dataset from 88.4% to 89.1%, and on the holdout dataset from 85.4% to 86.0%\n"
   ]
  },
  {
   "cell_type": "markdown",
   "id": "c2f016f5-4f1c-4ea0-adb0-1ed1344078aa",
   "metadata": {},
   "source": [
    "## 4.4 - Random Forest Classifier Model Optimization"
   ]
  },
  {
   "cell_type": "code",
   "execution_count": null,
   "id": "89df2773-8085-4569-b006-b2acfd2dad5c",
   "metadata": {
    "tags": []
   },
   "outputs": [],
   "source": [
    "%%time\n",
    "\n",
    "# Instantiate pipeline\n",
    "rf_pipe_opt = Pipeline([\n",
    "    ('cvc', CountVectorizer(stop_words='english')),\n",
    "    ('rf_class', RandomForestClassifier(random_state=0))\n",
    "])\n",
    "\n",
    "# Create grid search param grid\n",
    "rf_params = {\n",
    "    'cvc__max_features' : [3000, 10_000, None],\n",
    "    'cvc__min_df' : [1, 2, 4],\n",
    "    'cvc__max_df' : [1.0, 0.9],\n",
    "    'cvc__ngram_range' : [(1, 1), (1, 2)],\n",
    "    'rf_class__n_estimators': [50, 100],\n",
    "    'rf_class__max_depth': [None, 20],\n",
    "    'rf_class__n_jobs': [-1]\n",
    "}\n",
    "\n",
    "# Instantiate gridsearch\n",
    "gs_rf = GridSearchCV(rf_pipe_opt,\n",
    "                     rf_params,\n",
    "                     cv = 5, error_score='raise')\n",
    "\n",
    "# Fit the model\n",
    "gs_rf.fit(X_train, y_train)\n",
    "gs_rf.best_params_, gs_rf.best_score_"
   ]
  },
  {
   "cell_type": "code",
   "execution_count": null,
   "id": "3e5161c3-319c-4002-a012-edc71189a858",
   "metadata": {},
   "outputs": [],
   "source": [
    "# Output Accuracy Scores\n",
    "gs_rf.score(X_train, y_train), gs_rf.score(X_test, y_test), gs_rf.score(X_hold, y_hold)"
   ]
  },
  {
   "cell_type": "code",
   "execution_count": null,
   "id": "66b0da4d-0444-40c9-aef1-3c039147c187",
   "metadata": {},
   "outputs": [],
   "source": [
    "# Setting Up Confusion Matrix\n",
    "ConfusionMatrixDisplay.from_estimator(gs_rf, X_test, y_test, display_labels=['World News', 'The Onion'], cmap = 'Greens');\n",
    "plt.title('Optimized Random Forest \\nCountVectorizer WITHOUT Stop Words', fontsize = 20)\n",
    "plt.xlabel('Predicted Label', size = 16)\n",
    "plt.ylabel('True Label', size = 16)\n",
    "plt.xticks(size = 14)\n",
    "plt.yticks(size = 14)\n",
    "plt.show();"
   ]
  },
  {
   "cell_type": "code",
   "execution_count": null,
   "id": "00c5b9c0-946d-4b5f-9b87-683ee64784d6",
   "metadata": {},
   "outputs": [],
   "source": [
    "%%time\n",
    "# Re-run with default parameters to make Confusion Matrix\n",
    "\n",
    "# Instantiate pipeline\n",
    "rf_pipe_opt = Pipeline([\n",
    "    ('cvc', CountVectorizer(stop_words='english')),\n",
    "    ('rf_class', RandomForestClassifier(random_state=0))\n",
    "])\n",
    "\n",
    "# Create empty parameter grid for consistency\n",
    "rf_params = {}\n",
    "\n",
    "# Re-instantiate gridsearch\n",
    "gs_rf = GridSearchCV(rf_pipe_opt,\n",
    "                     rf_params,\n",
    "                     cv = 5, error_score='raise')\n",
    "\n",
    "# Fit the model\n",
    "gs_rf.fit(X_train, y_train)\n",
    "gs_rf.best_params_, gs_rf.best_score_"
   ]
  },
  {
   "cell_type": "code",
   "execution_count": null,
   "id": "83babf59-dc04-48cd-8d17-429fef489f25",
   "metadata": {},
   "outputs": [],
   "source": [
    "# Provide accuracy metrics\n",
    "gs_rf.score(X_train, y_train), gs_rf.score(X_test, y_test), gs_rf.score(X_hold, y_hold)"
   ]
  },
  {
   "cell_type": "code",
   "execution_count": null,
   "id": "da0582cd-cbbe-44a7-abb1-809f8608a694",
   "metadata": {},
   "outputs": [],
   "source": [
    "# Setting Up Confusion Matrix\n",
    "ConfusionMatrixDisplay.from_estimator(gs_rf, X_test, y_test, display_labels=['World News', 'The Onion'], cmap = 'Greens');\n",
    "plt.title('Optimized Random Forest \\nCountVectorizer WITHOUT Stop Words', fontsize = 20)\n",
    "plt.xlabel('Predicted Label', size = 16)\n",
    "plt.ylabel('True Label', size = 16)\n",
    "plt.xticks(size = 14)\n",
    "plt.yticks(size = 14)\n",
    "plt.savefig(f'../images/conf_matrix_randfor.png')\n",
    "plt.show();"
   ]
  },
  {
   "cell_type": "markdown",
   "id": "d2b94e35-a6ad-4a88-a5d4-688660294b99",
   "metadata": {},
   "source": [
    "#### OBSERVATIONS:\n",
    "The model above seems to under-perform the default model on the tresting dataset.  The default accuracy was 0.866667, and 'optimized' accuracy was 0.866169.  The grid search discovered that the best parameter for CountVectorizer max features was 10,000 instad of the default 'None'.  This is likely due to the crossvalidation running within gridsearch.  Again, attempts to prevent overfitting, seem to only degrade the accuracy of the test data.  In general, the tendancy for the optimizer is to choose parameters closer to the default model parameters.\n",
    "\n",
    "With that, the default random forrest parameters will be carried forward."
   ]
  },
  {
   "cell_type": "markdown",
   "id": "70370490-53dd-4440-af2b-8e5a450b3c75",
   "metadata": {},
   "source": [
    "## 4.5 - Extra Trees Classifier Model Optimization"
   ]
  },
  {
   "cell_type": "code",
   "execution_count": null,
   "id": "587a7822-645e-496a-8729-649c0a9a774d",
   "metadata": {},
   "outputs": [],
   "source": [
    "%%time\n",
    "# Instnatiate the Extra trees pipeline\n",
    "extra_pipe_opt = Pipeline([\n",
    "    ('cvc', CountVectorizer()),\n",
    "    ('extra_class', ExtraTreesClassifier(random_state=0))\n",
    "])\n",
    "\n",
    "# Create parameter grid\n",
    "extra_params = {\n",
    "    'cvc__max_features' : [3000, 10_000, None],\n",
    "    'cvc__min_df' : [1, 2, 4],\n",
    "    'cvc__max_df' : [1.0, 0.9],\n",
    "    'cvc__ngram_range' : [(1, 1)],\n",
    "    'extra_class__n_estimators': [20, 50, 100],\n",
    "    'extra_class__max_depth': [30, 70, None],\n",
    "    'extra_class__n_jobs': [-1]\n",
    "}\n",
    "\n",
    "# Instantiate gridsearch\n",
    "gs_extra = GridSearchCV(extra_pipe_opt,\n",
    "                     extra_params,\n",
    "                     cv = 5, error_score='raise')\n",
    "\n",
    "# Fit the model\n",
    "gs_extra.fit(X_train, y_train)\n",
    "gs_extra.best_params_, gs_extra.best_score_"
   ]
  },
  {
   "cell_type": "code",
   "execution_count": null,
   "id": "eada6133-f567-4ce5-8bb3-633faf109371",
   "metadata": {},
   "outputs": [],
   "source": [
    "# Produce accuracy scores\n",
    "gs_extra.score(X_train, y_train), gs_extra.score(X_test, y_test), gs_extra.score(X_hold, y_hold)"
   ]
  },
  {
   "cell_type": "code",
   "execution_count": null,
   "id": "6c5436f3-6d9b-47d5-8400-7daca4fa0508",
   "metadata": {},
   "outputs": [],
   "source": [
    "# Setting Up Confusion Matrix\n",
    "ConfusionMatrixDisplay.from_estimator(gs_extra, X_test, y_test, display_labels=['World News', 'The Onion'], cmap = 'Greens');\n",
    "plt.title('Optimized Extra Trees \\nCountVectorizer with Stop Words', fontsize = 20)\n",
    "plt.xlabel('Predicted Label', size = 16)\n",
    "plt.ylabel('True Label', size = 16)\n",
    "plt.xticks(size = 14)\n",
    "plt.yticks(size = 14)\n",
    "plt.savefig(f'../images/conf_matrix_xtree.png')\n",
    "plt.show();"
   ]
  },
  {
   "cell_type": "markdown",
   "id": "810e2e39-1101-41de-a1bd-9727de8e46d6",
   "metadata": {},
   "source": [
    "#### OBSERVATIONS:\n",
    "Like the random forrest classifer, the best performing parameters on the test data for the extra trees classifier appears to be default parameters.  Attempts to prevent overfitting, seem to only degrade the accuracy of the test data."
   ]
  },
  {
   "cell_type": "markdown",
   "id": "0ba7ab08-f95c-4c0d-9e34-d9cba1a783da",
   "metadata": {},
   "source": [
    "## 4.6 - Stacking Classifier Using Prevoiusly Optimized Models"
   ]
  },
  {
   "cell_type": "code",
   "execution_count": null,
   "id": "75e1880c-c163-4266-aa2c-b37e4806ce36",
   "metadata": {},
   "outputs": [],
   "source": [
    "# Identify Level 1 Model Pipelines\n",
    "level1_estimators = [\n",
    "    ('model1', Pipeline([\n",
    "        ('cvec', CountVectorizer(max_df = 1.0,\n",
    "                                 max_features = None,\n",
    "                                 min_df = 1,\n",
    "                                 ngram_range=(1, 2),\n",
    "                                )),\n",
    "        ('log_reg', LogisticRegression(random_state=0,\n",
    "                                  C = 1.2,\n",
    "                                  n_jobs = -1,\n",
    "                                 ))\n",
    "    ])),\n",
    "    ('model2', Pipeline([\n",
    "        ('cvec', CountVectorizer()),\n",
    "        ('xtc', ExtraTreesClassifier(random_state=0))\n",
    "    ])),\n",
    "    ('model3', Pipeline([\n",
    "        ('cvec', CountVectorizer(stop_words='english')),\n",
    "        ('rfc', RandomForestClassifier(random_state=0))\n",
    "    ]))\n",
    "]\n",
    "\n",
    "# Instantiate staicking regressor model\n",
    "stacked_model = StackingClassifier(estimators=level1_estimators,\n",
    "                                 final_estimator=LogisticRegression(random_state=0))"
   ]
  },
  {
   "cell_type": "code",
   "execution_count": null,
   "id": "043b8a51-c006-4128-8dae-39f4097c426e",
   "metadata": {},
   "outputs": [],
   "source": [
    "# Fit the model\n",
    "stacked_model.fit(X_train, y_train)"
   ]
  },
  {
   "cell_type": "code",
   "execution_count": null,
   "id": "4b30587c-350a-437c-88ef-222cc2fa20ef",
   "metadata": {},
   "outputs": [],
   "source": [
    "# Output accuracy scores\n",
    "stacked_model.score(X_train, y_train), stacked_model.score(X_test, y_test), stacked_model.score(X_hold, y_hold)"
   ]
  },
  {
   "cell_type": "code",
   "execution_count": null,
   "id": "83447e10-1b5e-407a-8638-201f0a7f4303",
   "metadata": {},
   "outputs": [],
   "source": [
    "# Setting Up Confusion Matrix\n",
    "ConfusionMatrixDisplay.from_estimator(stacked_model, X_test, y_test, display_labels=['World News', 'The Onion'], cmap = 'Greens');\n",
    "plt.title('Stacked Model \\nCountVectorizer with Stop Words', fontsize = 20)\n",
    "plt.xlabel('Predicted Label', size = 16)\n",
    "plt.ylabel('True Label', size = 16)\n",
    "plt.xticks(size = 14)\n",
    "plt.yticks(size = 14)\n",
    "plt.savefig(f'../images/conf_matrix_stack.png')\n",
    "plt.show();"
   ]
  },
  {
   "cell_type": "markdown",
   "id": "e61099ae-b866-4a57-9173-7527e938e048",
   "metadata": {},
   "source": [
    "#### OBSERVATIONS:\n",
    "The stacking classifier outperforms each of the individual optimized models above, with a slight improvement on the logistic regression model."
   ]
  },
  {
   "cell_type": "code",
   "execution_count": null,
   "id": "aec5e06b-f621-4531-9d6d-ee6ae2c6003d",
   "metadata": {},
   "outputs": [],
   "source": [
    "# Create a list of disctionaries to make a dataframe to easily view metrics\n",
    "final_performance_list = [\n",
    "    {'Training Accuracy':gs_log.score(X_train, y_train), 'Testing Accuracy':gs_log.score(X_test, y_test), 'Holdout Accuracy':gs_log.score(X_hold, y_hold)},\n",
    "    {'Training Accuracy':gs_rf.score(X_train, y_train), 'Testing Accuracy':gs_rf.score(X_test, y_test), 'Holdout Accuracy':gs_rf.score(X_hold, y_hold)},\n",
    "    {'Training Accuracy':gs_extra.score(X_train, y_train), 'Testing Accuracy':gs_extra.score(X_test, y_test), 'Holdout Accuracy':gs_extra.score(X_hold, y_hold)},\n",
    "    {'Training Accuracy':stacked_model.score(X_train, y_train), 'Testing Accuracy':stacked_model.score(X_test, y_test), 'Holdout Accuracy':stacked_model.score(X_hold, y_hold)}\n",
    "]"
   ]
  },
  {
   "cell_type": "code",
   "execution_count": null,
   "id": "df02fe5a-7bd6-42a7-a57a-1bab01f44037",
   "metadata": {},
   "outputs": [],
   "source": [
    "# Create dataframe to view metircs, highlighted as previously\n",
    "pd.DataFrame(final_performance_list, index=['Optimized Logistic Regression', \n",
    "                                            'Optimized Random Forest Classifier', \n",
    "                                            'Optimized Extra Trees Classifier', \n",
    "                                            'Stacking Classifier']).style.highlight_max(color = 'darkred', axis = 0)"
   ]
  },
  {
   "cell_type": "markdown",
   "id": "44eac3da-a901-4104-a642-1bc96f8e612f",
   "metadata": {
    "jp-MarkdownHeadingCollapsed": true,
    "tags": []
   },
   "source": [
    "# 5 - Discussion of Results and Possible Sources of Error/Bias\n",
    "Given the task at-hand, the model is produce excellent results.  All of the models constructed are effectively 'bag of word' models where only the text is considered in the determination of which subreddit a title is from, and thus wheneter or not a title is satire/absurdist humor or not.  Realistically speaking, so much nmore goes into humans' understanding of humor than just the words used.  The context provided in the titles and the real-world knowledge of the word and phrase meanings that humans' posses cannot be accurately replicated here if at all.  However, those characteristics start with the words themselves, and it can be argued that some context is understood byt he model by understanding which words may go with which other words.  While this model represents a first step in the process of helping shat bots to understand humor, it cannot be stated that the model truly understand why and of The Onion articles would be funny.\n",
    "\n",
    "Looking more closely at the word counts with stop words removed, there are stark differences in subjectmatter between the World News titles and The Onion titles.  While the number of titles for each subreddit was nearly identical in all datasets from training to holout, the date ranges for the World News data and The Onion were VERY different.  As the activity of the World News subreddit is mch hihger than that of the Onion, collecting the thousands of posts needed only required sourcing news articel titles back to April 5 of 2023.  Compare this to The Onion where a similar number of posts required going back to January of 2020.  The world events of the time period during which each subreddits article titles were created are very different, and that is reflected in the tops words plots above.  This vast difference alone may be the reason for the model's success despite efforts being made during data processing to mitigate the effects of unique subreddit identifiers in each article title.  Additionally, The Onion chooses topics and subjects which would not be traditionally covered by legitiatme news agencies.  Thus, the model is likely training itself on subject-matter and less on satire or absurdist humor.  Wit hthis, the model may be biased to perform well regardless.\n",
    "\n",
    "Sentiment analysis was not proven to be highly correlated with the selected sentiment analyzer, but this information along with subjectvity analysis could be useful in substituting the here unattainable human understanding of humor to create a better model. "
   ]
  },
  {
   "cell_type": "markdown",
   "id": "ebe67dce-9040-49b1-9fd9-0283aa3a03b1",
   "metadata": {
    "tags": []
   },
   "source": [
    "# 6 - Summary\n",
    "* Seven common clissification models were run to determine which models would produce the best performance as measured by accuracy.  \n",
    "* Three models, logistic regression, extra trees classifier, and a randomforest classifier, were then selected to be optimized.  \n",
    "* With the excpetion of the logisitc regression model, all models performed better with their initial defualt parameters than after the optimization measures explored.  \n",
    "* The three optimized models were then input into a stacking calssifier which cobined their outputs to create new feaures that a final logistic regression model would then create predicitons against."
   ]
  },
  {
   "cell_type": "markdown",
   "id": "037b440b-dc15-4959-94d0-754f0a6f9e53",
   "metadata": {},
   "source": [
    "# 7 - Conclusions\n",
    "* The best performing model was a stacking classifier running optimized logistic regression, random forest, and extra trees models with a logistic regression final estimator\n",
    "* The stacking regressor was overfit just as all highly accuracte models were\n",
    "* The stacking classifier produced accuracies of:\n",
    "    * 99.99% on the training data\n",
    "    * 89.4% on the testing data\n",
    "    * 86.0% on the unseen holdout data\n",
    "* WIth the holdoutdata, this model suggest comparable performance on additional unseen data\n",
    "\n",
    "**With this, it is possible to create a model which will at least discern between article titles from the World News and The Onion subreddits.  However, capability of the model to truly understnd satire or absurdist humor has yet to be determined, but is unlikely due to the relative simplicity of the model.**"
   ]
  },
  {
   "cell_type": "markdown",
   "id": "75da9122-38d8-488f-8b90-16158b63dfa4",
   "metadata": {},
   "source": [
    "# 8 - Next Steps\n",
    "* Subjectivity analysis should be performed for each statement to determine if there is any value to adding this feature to a model\n",
    "* Other sources of satire should be selected where the subject matter is more identical\n",
    "* Alternatively, World News and Onion article titles could be carefully source from more comparable time periods\n",
    "* Examine feature importances for the tree-models and coefficients for the logistic regression models to understand which features in the model have the gratest impact\n",
    "    * This will likely provide insight into exactly how the models are working"
   ]
  }
 ],
 "metadata": {
  "kernelspec": {
   "display_name": "Python 3 (ipykernel)",
   "language": "python",
   "name": "python3"
  },
  "language_info": {
   "codemirror_mode": {
    "name": "ipython",
    "version": 3
   },
   "file_extension": ".py",
   "mimetype": "text/x-python",
   "name": "python",
   "nbconvert_exporter": "python",
   "pygments_lexer": "ipython3",
   "version": "3.10.9"
  }
 },
 "nbformat": 4,
 "nbformat_minor": 5
}
