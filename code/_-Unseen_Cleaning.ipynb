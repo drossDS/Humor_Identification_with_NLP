{
 "cells": [
  {
   "cell_type": "code",
   "execution_count": null,
   "id": "da67c024-8ef6-4269-a3b1-7c9d13944028",
   "metadata": {},
   "outputs": [],
   "source": [
    "import numpy as np\n",
    "import pandas as pd\n",
    "import matplotlib.pyplot as plt\n",
    "import seaborn as sns\n",
    "import re\n",
    "import html\n",
    "\n",
    "\n",
    "# Language Detection Imports:\n",
    "# SOURCE:  https://spacy.io/\n",
    "# SOURCE:  https://pypi.org/project/spacy-langdetect/\n",
    "import spacy\n",
    "from spacy_langdetect import LanguageDetector\n",
    "from spacy.language import Language\n"
   ]
  },
  {
   "cell_type": "code",
   "execution_count": null,
   "id": "e216b23c-5355-4b1b-a722-70c79cfc7621",
   "metadata": {},
   "outputs": [],
   "source": [
    "# 2 - 1.1.2 - DROP DUPLICATE TITLES\n",
    "\n",
    "onion.drop_duplicates(subset = 'title', inplace=True)\n",
    "wldnws.drop_duplicates(subset = 'title', inplace=True)\n",
    "onion.shape, wldnws.shape"
   ]
  },
  {
   "cell_type": "code",
   "execution_count": null,
   "id": "b29bbc43-6ec1-48ea-bdce-6ca7d67c9f8b",
   "metadata": {},
   "outputs": [],
   "source": [
    "# 2 - 1.3 - DROP UNNEEDED COLUMNS\n",
    "onion = onion[['subreddit', 'title']]\n",
    "wldnws = wldnws[['subreddit', 'title']]"
   ]
  },
  {
   "cell_type": "code",
   "execution_count": null,
   "id": "3e2f6e70-6f23-4e80-a8f5-623d8744756d",
   "metadata": {},
   "outputs": [],
   "source": [
    "# 2 - 2.1 - FIX HTML ERRORS\n",
    "wldnws['title'] = wldnws['title'].apply(html.unescape)\n",
    "onion['title'] = onion['title'].apply(html.unescape)"
   ]
  },
  {
   "cell_type": "code",
   "execution_count": null,
   "id": "378a0832-eae4-4754-a3dd-e7c3c4c60ffb",
   "metadata": {},
   "outputs": [],
   "source": [
    "# 2 - 2.4 - REMOVE LOWERCASE ARTICLES\n",
    "bad_onions = list(onion[onion['title'].str.islower() == True].index)\n",
    "bad_news = list(wldnws[wldnws['title'].str.islower() == True].index)\n",
    "\n",
    "onion.drop(index=bad_onions, inplace=True)\n",
    "wldnws.drop(index=bad_news, inplace=True)"
   ]
  },
  {
   "cell_type": "code",
   "execution_count": null,
   "id": "dec83cd9-d3e2-441b-a081-43694de17cce",
   "metadata": {},
   "outputs": [],
   "source": [
    "# 2 - 3 - Remove non-English\n",
    "\n",
    "# Code provided from the following source:  https://stackoverflow.com/questions/66433496/how-do-i-fix-valueerror-when-doing-nlp-add-pipelanguagedetector-name-langua\n",
    "#  The documentation was providing code that was not working, and the above stack overflow post managed to fix the issue\n",
    "# SOURCE:  https://pypi.org/project/spacy-langdetect/\n",
    "\n",
    "nlp = spacy.load(\"en_core_web_sm\")\n",
    "\n",
    "def create_lang_detector(nlp, name):\n",
    "    return LanguageDetector()\n",
    "\n",
    "Language.factory(\"language_detector\", func=create_lang_detector)\n",
    "nlp.add_pipe('language_detector', last=True)\n",
    "\n",
    "wldnws['lang'] = wldnws['title'].apply(lambda x: nlp(x)._.language['language'])\n",
    "wldnws.head(2)\n",
    "\n",
    "wldnws = wldnws[wldnws['lang'] == 'en']\n",
    "\n",
    "onion['lang'] = onion['title'].apply(lambda x: nlp(x)._.language['language'])\n",
    "onion.head(2)\n",
    "\n",
    "onion = onion[onion['lang'] == 'en']"
   ]
  },
  {
   "cell_type": "code",
   "execution_count": null,
   "id": "a53f7469-a12d-4930-9122-df130eb88c0b",
   "metadata": {},
   "outputs": [],
   "source": [
    "# 2 - 4.3 - CREATE CONCATENATED DATAFRAME\n",
    "reddit_df = pd.concat([onion[['subreddit', 'title']], wldnws[['subreddit', 'title']]]).reset_index(drop = True)\n",
    "print(reddit_df.shape)\n",
    "reddit_df.head()"
   ]
  },
  {
   "cell_type": "code",
   "execution_count": null,
   "id": "0ddfd575-7ce9-4353-a7e8-8eb9e408a257",
   "metadata": {},
   "outputs": [],
   "source": []
  },
  {
   "cell_type": "code",
   "execution_count": null,
   "id": "6bc761e7-16d2-4cb1-994e-07f25d85bfcd",
   "metadata": {},
   "outputs": [],
   "source": []
  },
  {
   "cell_type": "code",
   "execution_count": null,
   "id": "64190470-1ec8-44f9-be31-d9fd3ce076bf",
   "metadata": {},
   "outputs": [],
   "source": []
  },
  {
   "cell_type": "code",
   "execution_count": null,
   "id": "997ab7a2-fda1-45ed-83dc-482618530fe3",
   "metadata": {},
   "outputs": [],
   "source": []
  },
  {
   "cell_type": "code",
   "execution_count": null,
   "id": "1f07dbd9-c7d0-4531-a20d-a19ac2681f59",
   "metadata": {},
   "outputs": [],
   "source": []
  },
  {
   "cell_type": "code",
   "execution_count": null,
   "id": "e5e7098e-775d-4d3c-90ab-42e1cb5da09d",
   "metadata": {},
   "outputs": [],
   "source": []
  }
 ],
 "metadata": {
  "kernelspec": {
   "display_name": "Python 3 (ipykernel)",
   "language": "python",
   "name": "python3"
  },
  "language_info": {
   "codemirror_mode": {
    "name": "ipython",
    "version": 3
   },
   "file_extension": ".py",
   "mimetype": "text/x-python",
   "name": "python",
   "nbconvert_exporter": "python",
   "pygments_lexer": "ipython3",
   "version": "3.9.13"
  }
 },
 "nbformat": 4,
 "nbformat_minor": 5
}
