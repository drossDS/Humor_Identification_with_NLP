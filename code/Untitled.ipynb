{
 "cells": [
  {
   "cell_type": "code",
   "execution_count": 1,
   "id": "dba1e833-1354-448f-965b-8d60d5297fd2",
   "metadata": {},
   "outputs": [
    {
     "name": "stdout",
     "output_type": "stream",
     "text": [
      "Note: you may need to restart the kernel to use updated packages.\n"
     ]
    }
   ],
   "source": [
    "pip install -U spacy"
   ]
  },
  {
   "cell_type": "code",
   "execution_count": 2,
   "id": "a79d0220-728f-418d-85c6-f668390f2ae8",
   "metadata": {},
   "outputs": [
    {
     "name": "stdout",
     "output_type": "stream",
     "text": [
      "Note: you may need to restart the kernel to use updated packages.\n"
     ]
    }
   ],
   "source": [
    "pip install spacy-langdetect"
   ]
  },
  {
   "cell_type": "code",
   "execution_count": 1,
   "id": "e2b3950f-076f-4a56-a7d7-897442665dd7",
   "metadata": {},
   "outputs": [],
   "source": [
    "# SpaCy\n",
    "\n",
    "# SOURCE:  https://spacy.io/\n",
    "# SOURCE:  https://pypi.org/project/spacy-langdetect/\n",
    "\n",
    "import spacy\n",
    "from spacy_langdetect import LanguageDetector\n",
    "from spacy.language import Language\n",
    "\n",
    "# nlp = spacy.load(\"en\")\n",
    "\n",
    "nlp = spacy.load(\"en_core_web_sm\")\n",
    "\n",
    "def create_lang_detector(nlp, name):\n",
    "    return LanguageDetector()"
   ]
  },
  {
   "cell_type": "code",
   "execution_count": 7,
   "id": "b64aab59-9934-4485-91d4-eefd95745d80",
   "metadata": {},
   "outputs": [
    {
     "data": {
      "text/plain": [
       "'\\nLanguage.factory(\"language_detector\", func=create_lang_detector)\\n\\n'"
      ]
     },
     "execution_count": 7,
     "metadata": {},
     "output_type": "execute_result"
    }
   ],
   "source": [
    "# THIS WORKS!! DO NOT DELETE\n",
    "\n",
    "'''\n",
    "Language.factory(\"language_detector\", func=create_lang_detector)\n",
    "\n",
    "'''"
   ]
  },
  {
   "cell_type": "code",
   "execution_count": 4,
   "id": "76867178-504b-4496-8cc4-c071c8b71732",
   "metadata": {},
   "outputs": [
    {
     "data": {
      "text/plain": [
       "<function __main__.create_lang_detector(nlp, name)>"
      ]
     },
     "execution_count": 4,
     "metadata": {},
     "output_type": "execute_result"
    }
   ],
   "source": [
    "Language.factory(\"language_detector\", func=create_lang_detector)\n",
    "\n",
    "#Language.factory(\"language_detector\", func=LanguageDetector())"
   ]
  },
  {
   "cell_type": "code",
   "execution_count": 5,
   "id": "2a1cce1a-c042-44fc-848b-2d041aa21cce",
   "metadata": {},
   "outputs": [
    {
     "data": {
      "text/plain": [
       "<spacy_langdetect.spacy_langdetect.LanguageDetector at 0x2350a9e95d0>"
      ]
     },
     "execution_count": 5,
     "metadata": {},
     "output_type": "execute_result"
    }
   ],
   "source": [
    "nlp.add_pipe('language_detector', last=True)"
   ]
  },
  {
   "cell_type": "code",
   "execution_count": 6,
   "id": "39456392-d0e7-4940-8a39-5d4db954c7ba",
   "metadata": {},
   "outputs": [
    {
     "data": {
      "text/plain": [
       "{'language': 'it', 'score': 0.714282220658415}"
      ]
     },
     "execution_count": 6,
     "metadata": {},
     "output_type": "execute_result"
    }
   ],
   "source": [
    "nlp('ciao bella')._.language"
   ]
  },
  {
   "cell_type": "code",
   "execution_count": null,
   "id": "87cf3e69-0549-436b-9695-aa1dbbd15577",
   "metadata": {},
   "outputs": [],
   "source": []
  },
  {
   "cell_type": "code",
   "execution_count": null,
   "id": "49b73906-ddd6-4acb-872a-91e3d4c59c9e",
   "metadata": {},
   "outputs": [],
   "source": []
  }
 ],
 "metadata": {
  "kernelspec": {
   "display_name": "Python 3 (ipykernel)",
   "language": "python",
   "name": "python3"
  },
  "language_info": {
   "codemirror_mode": {
    "name": "ipython",
    "version": 3
   },
   "file_extension": ".py",
   "mimetype": "text/x-python",
   "name": "python",
   "nbconvert_exporter": "python",
   "pygments_lexer": "ipython3",
   "version": "3.10.9"
  }
 },
 "nbformat": 4,
 "nbformat_minor": 5
}
