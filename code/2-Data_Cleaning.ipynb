{
 "cells": [
  {
   "cell_type": "code",
   "execution_count": 2,
   "id": "bad92a37-3339-413d-9319-a294227afe4f",
   "metadata": {},
   "outputs": [],
   "source": [
    "import numpy as np\n",
    "import pandas as pd"
   ]
  },
  {
   "cell_type": "code",
   "execution_count": 6,
   "id": "3bcc7ef8-dab9-4cc4-8bc7-c213fb8f6eb6",
   "metadata": {},
   "outputs": [
    {
     "name": "stdout",
     "output_type": "stream",
     "text": [
      "(6000, 99)\n",
      "(5989, 94)\n"
     ]
    },
    {
     "data": {
      "text/plain": [
       "(None, None)"
      ]
     },
     "execution_count": 6,
     "metadata": {},
     "output_type": "execute_result"
    }
   ],
   "source": [
    "onion = pd.read_csv('../data/theonion_1682119956.csv')\n",
    "wldnws = pd.read_csv('../data/worldnews_1682119970.csv')\n",
    "print(onion.shape), print(wldnws.shape)"
   ]
  },
  {
   "cell_type": "code",
   "execution_count": null,
   "id": "9ad9b1d7-b441-4ef5-a8be-8aa2e6531c17",
   "metadata": {},
   "outputs": [],
   "source": []
  }
 ],
 "metadata": {
  "kernelspec": {
   "display_name": "Python 3 (ipykernel)",
   "language": "python",
   "name": "python3"
  },
  "language_info": {
   "codemirror_mode": {
    "name": "ipython",
    "version": 3
   },
   "file_extension": ".py",
   "mimetype": "text/x-python",
   "name": "python",
   "nbconvert_exporter": "python",
   "pygments_lexer": "ipython3",
   "version": "3.9.13"
  }
 },
 "nbformat": 4,
 "nbformat_minor": 5
}
