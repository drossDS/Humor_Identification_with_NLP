{
 "cells": [
  {
   "cell_type": "markdown",
   "id": "3a3e178e-6752-4376-a5a8-c89e7b198f8c",
   "metadata": {},
   "source": [
    "# APIs"
   ]
  },
  {
   "cell_type": "code",
   "execution_count": 1,
   "id": "8c964a16-cdba-4ec1-9fd1-744f679f9084",
   "metadata": {},
   "outputs": [],
   "source": [
    "import requests"
   ]
  },
  {
   "cell_type": "code",
   "execution_count": 2,
   "id": "fea93414-32cf-4fe9-9a04-c7e0eaa47fac",
   "metadata": {},
   "outputs": [],
   "source": [
    "url = 'https://api.pushshift.io/reddit/search/submission'"
   ]
  },
  {
   "cell_type": "code",
   "execution_count": 5,
   "id": "d8a87709-1247-4f96-909a-9eba1f1c893c",
   "metadata": {},
   "outputs": [],
   "source": [
    "params = {\n",
    "    'subreddit': 'boardgames',\n",
    "    'size': 500,\n",
    "    'before': ???, # take the UCT integer of your (first....last???) in the dataset to grab the info before that time\n",
    "    'after': ???? # takes in a UCT integer\n",
    "}"
   ]
  },
  {
   "cell_type": "code",
   "execution_count": 4,
   "id": "6b2bbaee-c761-4826-aab4-f7cab27d505a",
   "metadata": {},
   "outputs": [],
   "source": [
    "res = requests.get(url, params)"
   ]
  },
  {
   "cell_type": "code",
   "execution_count": null,
   "id": "826ddee3-e8b0-4acc-b496-35e3b85bd84a",
   "metadata": {},
   "outputs": [],
   "source": [
    "res.status_code"
   ]
  },
  {
   "cell_type": "code",
   "execution_count": null,
   "id": "85874077-0a18-4559-93bc-3050d3537616",
   "metadata": {},
   "outputs": [],
   "source": [
    "data = res.json()"
   ]
  },
  {
   "cell_type": "code",
   "execution_count": null,
   "id": "48879308-d572-409d-af5f-ea5b6702c1cc",
   "metadata": {},
   "outputs": [],
   "source": []
  }
 ],
 "metadata": {
  "kernelspec": {
   "display_name": "Python 3 (ipykernel)",
   "language": "python",
   "name": "python3"
  },
  "language_info": {
   "codemirror_mode": {
    "name": "ipython",
    "version": 3
   },
   "file_extension": ".py",
   "mimetype": "text/x-python",
   "name": "python",
   "nbconvert_exporter": "python",
   "pygments_lexer": "ipython3",
   "version": "3.9.13"
  }
 },
 "nbformat": 4,
 "nbformat_minor": 5
}
