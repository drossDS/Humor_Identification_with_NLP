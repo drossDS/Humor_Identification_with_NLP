{
 "cells": [
  {
   "cell_type": "code",
   "execution_count": 1,
   "id": "41753b35-997e-4375-a627-5cfdf4430fda",
   "metadata": {},
   "outputs": [],
   "source": [
    "import praw\n",
    "import pandas as pd\n",
    "import numpy as np\n",
    "\n",
    "import config"
   ]
  },
  {
   "cell_type": "code",
   "execution_count": 2,
   "id": "96f03c19-1af5-49e7-a135-27407be25499",
   "metadata": {},
   "outputs": [
    {
     "data": {
      "text/plain": [
       "'super_duper_secret_plus'"
      ]
     },
     "execution_count": 2,
     "metadata": {},
     "output_type": "execute_result"
    }
   ],
   "source": [
    "config.x"
   ]
  },
  {
   "cell_type": "code",
   "execution_count": 3,
   "id": "fd887ca1-73e9-4c9f-8efa-4ef2434f2d21",
   "metadata": {},
   "outputs": [
    {
     "data": {
      "text/plain": [
       "'fun'"
      ]
     },
     "execution_count": 3,
     "metadata": {},
     "output_type": "execute_result"
    }
   ],
   "source": [
    "config.y"
   ]
  }
 ],
 "metadata": {
  "kernelspec": {
   "display_name": "Python 3 (ipykernel)",
   "language": "python",
   "name": "python3"
  },
  "language_info": {
   "codemirror_mode": {
    "name": "ipython",
    "version": 3
   },
   "file_extension": ".py",
   "mimetype": "text/x-python",
   "name": "python",
   "nbconvert_exporter": "python",
   "pygments_lexer": "ipython3",
   "version": "3.9.13"
  }
 },
 "nbformat": 4,
 "nbformat_minor": 5
}
