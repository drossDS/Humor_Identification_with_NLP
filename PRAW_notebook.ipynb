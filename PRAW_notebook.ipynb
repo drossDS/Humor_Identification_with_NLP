{
 "cells": [
  {
   "cell_type": "code",
   "execution_count": 1,
   "id": "41753b35-997e-4375-a627-5cfdf4430fda",
   "metadata": {},
   "outputs": [],
   "source": [
    "import praw\n",
    "import pandas as pd\n",
    "import numpy as np\n",
    "\n",
    "import config"
   ]
  },
  {
   "cell_type": "code",
   "execution_count": 11,
   "id": "2928bc8e-6d3e-4aa7-a6d7-628831f46f18",
   "metadata": {},
   "outputs": [],
   "source": [
    "# Source for config file:  https://blog.netwrix.com/2022/11/14/how-to-hide-api-keys-github/\n",
    "# Source for getting off the ground 1:  https://medium.com/geekculture/how-to-extract-reddit-posts-for-an-nlp-project-56d121b260b4\n",
    "# Source for getting off the ground 2:  https://github.com/reddit-archive/reddit/wiki/OAuth2-Quick-Start-Example#first-steps\n",
    "# Source for getting off the ground 3:  https://praw.readthedocs.io/en/stable/getting_started/quick_start.html\n",
    "# Source for the user agent:  https://github.com/reddit-archive/reddit/wiki/API\n",
    "# Source for hiding the API keys, etc:  https://blog.netwrix.com/2022/11/14/how-to-hide-api-keys-github/\n",
    "# "
   ]
  },
  {
   "cell_type": "code",
   "execution_count": 3,
   "id": "3befb99c-0a7a-40eb-8cd4-533c6ac67d01",
   "metadata": {},
   "outputs": [],
   "source": [
    "reddit = praw.Reddit(\n",
    "    client_id=config.client_id,\n",
    "    client_secret=config.secret,\n",
    "    user_agent=config.user_agent,\n",
    ")"
   ]
  },
  {
   "cell_type": "code",
   "execution_count": 4,
   "id": "02ff49e9-411c-4b0a-87b0-9174664d6fbc",
   "metadata": {},
   "outputs": [
    {
     "name": "stdout",
     "output_type": "stream",
     "text": [
      "True\n"
     ]
    }
   ],
   "source": [
    "print(reddit.read_only)"
   ]
  },
  {
   "cell_type": "code",
   "execution_count": 17,
   "id": "5bfe42ca-dfaa-41d9-898f-ed81c4bfcf9e",
   "metadata": {},
   "outputs": [],
   "source": [
    "subreddit = reddit.subreddit(\"test\")"
   ]
  },
  {
   "cell_type": "code",
   "execution_count": 18,
   "id": "c2c586fc-dcad-4ccb-aeb2-f3624ce77eb9",
   "metadata": {},
   "outputs": [
    {
     "name": "stdout",
     "output_type": "stream",
     "text": [
      "wefsd\n",
      "_\n",
      "test\n",
      "tyt43ws\n",
      "7ty7ut\n",
      "erfgerter\n",
      "4r5ytgrftyh\n",
      "aesetyes\n",
      "dfgdfgdfgd\n",
      "test\n"
     ]
    }
   ],
   "source": [
    "for submission in subreddit.new(limit=10):\n",
    "    print(submission.title)"
   ]
  },
  {
   "cell_type": "code",
   "execution_count": 19,
   "id": "734fd4cb-3837-41a2-b2bd-ed1c279d5aaf",
   "metadata": {},
   "outputs": [
    {
     "name": "stdout",
     "output_type": "stream",
     "text": [
      "wefsd\n",
      "_\n",
      "test\n",
      "tyt43ws\n",
      "7ty7ut\n",
      "erfgerter\n",
      "4r5ytgrftyh\n",
      "aesetyes\n",
      "dfgdfgdfgd\n",
      "test\n"
     ]
    }
   ],
   "source": [
    "\n",
    "for submission in reddit.subreddit(\"test\").new(limit=10):\n",
    "    print(submission.title)"
   ]
  },
  {
   "cell_type": "code",
   "execution_count": 24,
   "id": "3bfc3e2a-5b87-4ed1-b1c1-a21d60c73c46",
   "metadata": {},
   "outputs": [
    {
     "name": "stdout",
     "output_type": "stream",
     "text": [
      "How much do pirates charge for corn?\n",
      "They offer a buck-an-ear\n",
      "Why did the coffee file a police report?\n",
      "Cause it’s bean lost.\n",
      "What does a bear do when it needs a hand scratching it's back?\n",
      "It uses a Palm tree\n",
      "What happens when a bunch of spinal cords form a rock band together?\n",
      "You get Nerve-ana.\n",
      "A student told me this today\n",
      "It’s pretty crazy you only use pepper spray when it’s assault.\n",
      "Mando asked R5 to open the door. R5 said 100111101110.\n",
      "Mando proceeded to say, “I don’t speak binary, but I’m counting on you”.\n",
      "My dyslexic mama always said:\n",
      "\"Money is the root of olive oil!\"\n",
      "What do you call a hen at a job interview?\n",
      "Grilled chicken\n",
      "Why can’t stoners ever get anything done the day after April 20th?\n",
      "They smoked so much on 4/20, 4/21!\n",
      "Today's SpaceX rocket launch was a success\n",
      "It was a \"poof of concept\"\n"
     ]
    }
   ],
   "source": [
    "for submission in reddit.subreddit(\"test\").new(limit=10):\n",
    "    print(submission.title), print(submission.selftext)"
   ]
  },
  {
   "cell_type": "markdown",
   "id": "b4dc3870-1eb2-447e-a853-5b5d24221181",
   "metadata": {},
   "source": [
    "___\n",
    "# for real this time"
   ]
  },
  {
   "cell_type": "code",
   "execution_count": 28,
   "id": "b267e41e-c13f-415d-8be0-65227be1d7ce",
   "metadata": {
    "tags": []
   },
   "outputs": [],
   "source": [
    "subreddit = reddit.subreddit(\"NoStupidQuestions\")"
   ]
  },
  {
   "cell_type": "code",
   "execution_count": 29,
   "id": "f8479c4c-ceef-445b-a575-776db9760678",
   "metadata": {},
   "outputs": [],
   "source": [
    "title_list = [i.title for i in subreddit.new(limit=None)]"
   ]
  },
  {
   "cell_type": "code",
   "execution_count": 30,
   "id": "01525162-75c3-4a41-bf49-dd4d92d3f4d6",
   "metadata": {},
   "outputs": [
    {
     "data": {
      "text/plain": [
       "995"
      ]
     },
     "execution_count": 30,
     "metadata": {},
     "output_type": "execute_result"
    }
   ],
   "source": [
    "len(title_list)"
   ]
  }
 ],
 "metadata": {
  "kernelspec": {
   "display_name": "Python 3 (ipykernel)",
   "language": "python",
   "name": "python3"
  },
  "language_info": {
   "codemirror_mode": {
    "name": "ipython",
    "version": 3
   },
   "file_extension": ".py",
   "mimetype": "text/x-python",
   "name": "python",
   "nbconvert_exporter": "python",
   "pygments_lexer": "ipython3",
   "version": "3.9.13"
  }
 },
 "nbformat": 4,
 "nbformat_minor": 5
}
