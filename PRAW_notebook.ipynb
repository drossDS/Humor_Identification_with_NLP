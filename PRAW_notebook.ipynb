{
 "cells": [
  {
   "cell_type": "code",
   "execution_count": 1,
   "id": "41753b35-997e-4375-a627-5cfdf4430fda",
   "metadata": {},
   "outputs": [],
   "source": [
    "import praw\n",
    "import pandas as pd\n",
    "import numpy as np\n",
    "\n",
    "import config"
   ]
  },
  {
   "cell_type": "code",
   "execution_count": 11,
   "id": "2928bc8e-6d3e-4aa7-a6d7-628831f46f18",
   "metadata": {},
   "outputs": [],
   "source": [
    "# Source for config file:  https://blog.netwrix.com/2022/11/14/how-to-hide-api-keys-github/\n",
    "# Source for getting off the ground 1:  https://medium.com/geekculture/how-to-extract-reddit-posts-for-an-nlp-project-56d121b260b4\n",
    "# Source for getting off the ground 2:  https://github.com/reddit-archive/reddit/wiki/OAuth2-Quick-Start-Example#first-steps\n",
    "# Source for getting off the ground 3:  https://praw.readthedocs.io/en/stable/getting_started/quick_start.html\n",
    "# Source for the user agent:  https://github.com/reddit-archive/reddit/wiki/API\n",
    "# Source for hiding the API keys, etc:  https://blog.netwrix.com/2022/11/14/how-to-hide-api-keys-github/\n",
    "# "
   ]
  },
  {
   "cell_type": "code",
   "execution_count": 3,
   "id": "3befb99c-0a7a-40eb-8cd4-533c6ac67d01",
   "metadata": {},
   "outputs": [],
   "source": [
    "reddit = praw.Reddit(\n",
    "    client_id=config.client_id,\n",
    "    client_secret=config.secret,\n",
    "    user_agent=config.user_agent,\n",
    ")"
   ]
  },
  {
   "cell_type": "code",
   "execution_count": 4,
   "id": "02ff49e9-411c-4b0a-87b0-9174664d6fbc",
   "metadata": {},
   "outputs": [
    {
     "name": "stdout",
     "output_type": "stream",
     "text": [
      "True\n"
     ]
    }
   ],
   "source": [
    "print(reddit.read_only)"
   ]
  },
  {
   "cell_type": "code",
   "execution_count": 8,
   "id": "734fd4cb-3837-41a2-b2bd-ed1c279d5aaf",
   "metadata": {},
   "outputs": [
    {
     "name": "stdout",
     "output_type": "stream",
     "text": [
      "What animal suddenly switches from living at the north pole to the south pole?\n",
      "What do you call someone who is twisting their ear saying \"brmmm brmmm\"?\n",
      "Why did the dragon go to the doctor?\n",
      "Did you hear that they made it illegal to laugh loudly in Hawaii?\n",
      "What size t-shirts do teenage psychics wear?\n",
      "My dad tried to tell me I had an ADHD problem but I thought he just wanted me to use small bills.\n",
      "What did the guy who got a mild case of food poisoning from eating a falafel with olive say?\n",
      "If Mr. Spock has pointed ears, what does Mr. Scott have?\n",
      "What the difference between an oral thermometer and a rectal thermometer?\n",
      "A bear walks into a bar and orders a drink\n"
     ]
    }
   ],
   "source": [
    "for submission in reddit.subreddit(\"dadjokes\").new(limit=10):\n",
    "    print(submission.title)"
   ]
  }
 ],
 "metadata": {
  "kernelspec": {
   "display_name": "Python 3 (ipykernel)",
   "language": "python",
   "name": "python3"
  },
  "language_info": {
   "codemirror_mode": {
    "name": "ipython",
    "version": 3
   },
   "file_extension": ".py",
   "mimetype": "text/x-python",
   "name": "python",
   "nbconvert_exporter": "python",
   "pygments_lexer": "ipython3",
   "version": "3.9.13"
  }
 },
 "nbformat": 4,
 "nbformat_minor": 5
}
