{
 "cells": [
  {
   "cell_type": "code",
   "execution_count": 1,
   "id": "41753b35-997e-4375-a627-5cfdf4430fda",
   "metadata": {},
   "outputs": [],
   "source": [
    "import praw\n",
    "import pandas as pd\n",
    "import numpy as np\n",
    "\n",
    "import config"
   ]
  },
  {
   "cell_type": "code",
   "execution_count": 2,
   "id": "2928bc8e-6d3e-4aa7-a6d7-628831f46f18",
   "metadata": {},
   "outputs": [],
   "source": [
    "# Source for config file:  https://blog.netwrix.com/2022/11/14/how-to-hide-api-keys-github/\n",
    "# Source for getting off the ground 1:  https://medium.com/geekculture/how-to-extract-reddit-posts-for-an-nlp-project-56d121b260b4\n",
    "# Source for getting off the ground 2:  https://github.com/reddit-archive/reddit/wiki/OAuth2-Quick-Start-Example#first-steps\n",
    "# Source for getting off the ground 3:  https://praw.readthedocs.io/en/stable/getting_started/quick_start.html\n",
    "# Source for the user agent:  https://github.com/reddit-archive/reddit/wiki/API\n",
    "# Source for hiding the API keys, etc:  https://blog.netwrix.com/2022/11/14/how-to-hide-api-keys-github/\n",
    "# "
   ]
  },
  {
   "cell_type": "code",
   "execution_count": 3,
   "id": "3befb99c-0a7a-40eb-8cd4-533c6ac67d01",
   "metadata": {},
   "outputs": [],
   "source": [
    "reddit = praw.Reddit(\n",
    "    client_id=config.client_id,\n",
    "    client_secret=config.secret,\n",
    "    user_agent=config.user_agent,\n",
    ")"
   ]
  },
  {
   "cell_type": "code",
   "execution_count": 4,
   "id": "02ff49e9-411c-4b0a-87b0-9174664d6fbc",
   "metadata": {},
   "outputs": [
    {
     "name": "stdout",
     "output_type": "stream",
     "text": [
      "True\n"
     ]
    }
   ],
   "source": [
    "print(reddit.read_only)"
   ]
  },
  {
   "cell_type": "code",
   "execution_count": 5,
   "id": "5bfe42ca-dfaa-41d9-898f-ed81c4bfcf9e",
   "metadata": {},
   "outputs": [],
   "source": [
    "subreddit = reddit.subreddit(\"test\")"
   ]
  },
  {
   "cell_type": "code",
   "execution_count": 6,
   "id": "c2c586fc-dcad-4ccb-aeb2-f3624ce77eb9",
   "metadata": {},
   "outputs": [
    {
     "name": "stdout",
     "output_type": "stream",
     "text": [
      "Introducing AI-powered risk summaries in Security Command Center\n",
      "Introducing AI-powered investigation in Chronicle Security Operations\n",
      "How Google and Intel make Confidential Computing more secure\n",
      "Introducing AI-powered insights in Threat Intelligence\n",
      "Supercharging security with generative AI\n",
      "Accelerating cybersecurity resilience through the expanded Accenture-Google Cloud partnership\n",
      "How to set up your first Compute Engine Linux computer on cloud\n",
      "Announcing API abuse detection powered by machine learning\n",
      "test the test test\n",
      "testing\n"
     ]
    }
   ],
   "source": [
    "for submission in subreddit.new(limit=10):\n",
    "    print(submission.title)"
   ]
  },
  {
   "cell_type": "code",
   "execution_count": 7,
   "id": "734fd4cb-3837-41a2-b2bd-ed1c279d5aaf",
   "metadata": {},
   "outputs": [
    {
     "name": "stdout",
     "output_type": "stream",
     "text": [
      "Introducing AI-powered risk summaries in Security Command Center\n",
      "Introducing AI-powered investigation in Chronicle Security Operations\n",
      "How Google and Intel make Confidential Computing more secure\n",
      "Introducing AI-powered insights in Threat Intelligence\n",
      "Supercharging security with generative AI\n",
      "Accelerating cybersecurity resilience through the expanded Accenture-Google Cloud partnership\n",
      "How to set up your first Compute Engine Linux computer on cloud\n",
      "Announcing API abuse detection powered by machine learning\n",
      "test the test test\n",
      "testing\n"
     ]
    }
   ],
   "source": [
    "\n",
    "for submission in reddit.subreddit(\"test\").new(limit=10):\n",
    "    print(submission.title)"
   ]
  },
  {
   "cell_type": "code",
   "execution_count": 21,
   "id": "3bfc3e2a-5b87-4ed1-b1c1-a21d60c73c46",
   "metadata": {},
   "outputs": [
    {
     "name": "stdout",
     "output_type": "stream",
     "text": [
      "Introducing AI-powered risk summaries in Security Command Center\n",
      "\n",
      "12xo1sz\n",
      "Introducing AI-powered investigation in Chronicle Security Operations\n",
      "\n",
      "12xo1s8\n",
      "How Google and Intel make Confidential Computing more secure\n",
      "\n",
      "12xo1rk\n",
      "Introducing AI-powered insights in Threat Intelligence\n",
      "\n",
      "12xo1qv\n",
      "Supercharging security with generative AI\n",
      "\n",
      "12xo1qg\n",
      "Accelerating cybersecurity resilience through the expanded Accenture-Google Cloud partnership\n",
      "\n",
      "12xo1px\n",
      "How to set up your first Compute Engine Linux computer on cloud\n",
      "\n",
      "12xo1pr\n",
      "Announcing API abuse detection powered by machine learning\n",
      "\n",
      "12xo1ph\n",
      "test the test test\n",
      "test\n",
      "12xe62u\n",
      "testing\n",
      "\n",
      "12xceps\n"
     ]
    }
   ],
   "source": [
    "for submission in reddit.subreddit(\"test\").new(limit=10):\n",
    "    print(submission.title), print(submission.selftext), print(submission.id)"
   ]
  },
  {
   "cell_type": "code",
   "execution_count": null,
   "id": "b2c7074a-d901-4f77-97cc-a526786009fb",
   "metadata": {},
   "outputs": [],
   "source": []
  },
  {
   "cell_type": "markdown",
   "id": "b4dc3870-1eb2-447e-a853-5b5d24221181",
   "metadata": {},
   "source": [
    "___\n",
    "# for real this time"
   ]
  },
  {
   "cell_type": "code",
   "execution_count": 9,
   "id": "b267e41e-c13f-415d-8be0-65227be1d7ce",
   "metadata": {
    "tags": []
   },
   "outputs": [],
   "source": [
    "subreddit = reddit.subreddit(\"NoStupidQuestions\")"
   ]
  },
  {
   "cell_type": "code",
   "execution_count": 10,
   "id": "f8479c4c-ceef-445b-a575-776db9760678",
   "metadata": {},
   "outputs": [],
   "source": [
    "title_list = [i.title for i in subreddit.new(limit=None)]"
   ]
  },
  {
   "cell_type": "code",
   "execution_count": 11,
   "id": "01525162-75c3-4a41-bf49-dd4d92d3f4d6",
   "metadata": {},
   "outputs": [
    {
     "data": {
      "text/plain": [
       "993"
      ]
     },
     "execution_count": 11,
     "metadata": {},
     "output_type": "execute_result"
    }
   ],
   "source": [
    "len(title_list)"
   ]
  },
  {
   "cell_type": "code",
   "execution_count": null,
   "id": "03481530-7493-4e2c-937e-6263e7451d4f",
   "metadata": {},
   "outputs": [],
   "source": []
  },
  {
   "cell_type": "markdown",
   "id": "c963094c-8b8a-468d-a1e1-b352ecf165dd",
   "metadata": {},
   "source": [
    "for the PRAW.ini file:  make a new text file in the working directory called praw.ini.  Make the first line [DEFAULT], then on the subsequent lines, add the slient id, secret, etc.\n",
    "\n",
    "Save the file.\n",
    "\n",
    "Then in the actual code:\n",
    "***restart the kernel\n",
    "then run reddit = praw.Reddit() and it will just import the info\n",
    "\n",
    "\n",
    "if you want to see which attributes are available:  https://praw.readthedocs.io/en/stable/getting_started/quick_start.html#determine-available-attributes-of-an-object"
   ]
  },
  {
   "cell_type": "code",
   "execution_count": null,
   "id": "0912de76-ff83-4340-9d08-d80a7642b432",
   "metadata": {},
   "outputs": [],
   "source": []
  }
 ],
 "metadata": {
  "kernelspec": {
   "display_name": "Python 3 (ipykernel)",
   "language": "python",
   "name": "python3"
  },
  "language_info": {
   "codemirror_mode": {
    "name": "ipython",
    "version": 3
   },
   "file_extension": ".py",
   "mimetype": "text/x-python",
   "name": "python",
   "nbconvert_exporter": "python",
   "pygments_lexer": "ipython3",
   "version": "3.9.13"
  }
 },
 "nbformat": 4,
 "nbformat_minor": 5
}
