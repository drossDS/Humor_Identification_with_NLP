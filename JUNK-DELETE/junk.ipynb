{
 "cells": [
  {
   "cell_type": "markdown",
   "id": "fec9f9b3-1e88-4966-a1a2-2a3f8f531de2",
   "metadata": {},
   "source": [
    "# OLD PROBLEM STATEMENT\n",
    "\n",
    "Language Model Identification of Illegitimate, Satirical News\n",
    "\n",
    "\n",
    "# Problem Statement:\n",
    "* you work for an agency that seeks to flag fake news (maybe this is Facebook or another agency)\n",
    "* However, satirical or absuridst humor language may make it difficult to properly identify illegitimate news sources\n",
    "* Incorrectly flagging news as illegitimate could have the impact making people feel that their artistic expression and free speach are being violated\n",
    "* The goal is to create a model which will precisely identify this varoety of humor against real news stories\n",
    "\n",
    "\n",
    "OR...."
   ]
  },
  {
   "cell_type": "markdown",
   "id": "cfbdcd75-61c0-4e0c-a342-47b27b513f75",
   "metadata": {},
   "source": []
  },
  {
   "cell_type": "markdown",
   "id": "34b152a8-802f-4c75-b6f1-fee7372957f3",
   "metadata": {},
   "source": []
  },
  {
   "cell_type": "markdown",
   "id": "b219628d-23d0-441d-a6ef-eb6bbeecd2ef",
   "metadata": {},
   "source": [
    "# 0 - Import Packages & Read-in Previously Collected Data"
   ]
  },
  {
   "cell_type": "code",
   "execution_count": 1,
   "id": "bad92a37-3339-413d-9319-a294227afe4f",
   "metadata": {},
   "outputs": [],
   "source": [
    "import numpy as np\n",
    "import pandas as pd\n",
    "import re\n",
    "import html\n",
    "\n",
    "\n",
    "# Language Detection Imports:\n",
    "# SOURCE:  https://spacy.io/\n",
    "# SOURCE:  https://pypi.org/project/spacy-langdetect/\n",
    "import spacy\n",
    "from spacy_langdetect import LanguageDetector\n",
    "from spacy.language import Language"
   ]
  },
  {
   "cell_type": "markdown",
   "id": "133e714a-011f-4571-b4e5-d5920d6a39fe",
   "metadata": {},
   "source": [
    "---\n",
    "# JUNK!"
   ]
  },
  {
   "cell_type": "code",
   "execution_count": null,
   "id": "b47a473e-61e6-4197-ae62-7ca4fd8b0ae8",
   "metadata": {},
   "outputs": [],
   "source": [
    "# Source:  https://www.geeksforgeeks.org/python-ways-to-concatenate-two-lists/\n",
    "\n",
    "test_list3 = [1, 4, 5, 6, 5]\n",
    "test_list4 = [3, 5, 7, 2, 5]\n",
    " \n",
    "# using list.extend() to concat\n",
    "test_list3.extend(test_list4)"
   ]
  },
  {
   "cell_type": "code",
   "execution_count": null,
   "id": "cc654ebc-7f4d-4936-b7c8-b60c6a961f90",
   "metadata": {},
   "outputs": [],
   "source": [
    "\n",
    "# set of letters\n",
    "GEEK = {'g', 'e', 'k'}\n",
    " \n",
    "# adding 's'\n",
    "GEEK.add('s')"
   ]
  },
  {
   "cell_type": "code",
   "execution_count": null,
   "id": "271ee0ee-04e8-4263-ad42-b739c5040910",
   "metadata": {},
   "outputs": [],
   "source": [
    "GEEK"
   ]
  },
  {
   "cell_type": "code",
   "execution_count": null,
   "id": "07cd0cb0-3b0c-4057-83e9-cc921ce72a76",
   "metadata": {},
   "outputs": [],
   "source": [
    "keel = {4, 3, 5}"
   ]
  },
  {
   "cell_type": "code",
   "execution_count": null,
   "id": "da058cda-de59-4345-ae6e-fee951790810",
   "metadata": {},
   "outputs": [],
   "source": [
    "GEEK  keel"
   ]
  },
  {
   "cell_type": "code",
   "execution_count": null,
   "id": "97df0d40-2769-4d8f-b121-53718b359677",
   "metadata": {},
   "outputs": [],
   "source": [
    "test_list3"
   ]
  },
  {
   "cell_type": "code",
   "execution_count": null,
   "id": "c1727b65-7119-4a52-9371-8a40016179c0",
   "metadata": {},
   "outputs": [],
   "source": [
    "l = ['Alice', 'Bob', 'Charlie', 'Bob', 'Dave']\n",
    "\n",
    "k = l.remove('Alice')\n",
    "\n",
    "l"
   ]
  },
  {
   "cell_type": "code",
   "execution_count": null,
   "id": "ddfbb2cf-f7e7-4f1e-96b9-d1e94d3f6592",
   "metadata": {},
   "outputs": [],
   "source": [
    "'Blah blah fun blah blah'[0].islower()"
   ]
  },
  {
   "cell_type": "code",
   "execution_count": 1,
   "id": "515fe4fb-164a-4738-87bb-9acc33c12228",
   "metadata": {},
   "outputs": [],
   "source": [
    "# Source:  https://towardsdatascience.com/4-python-libraries-to-detect-english-and-non-english-language-c82ad3efd430\n",
    "# Source:  https://textblob.readthedocs.io/en/dev/\n",
    "\n",
    "from textblob import TextBlob"
   ]
  },
  {
   "cell_type": "code",
   "execution_count": 9,
   "id": "33c554b0-3e5e-4067-aaf4-30c8ac89f05f",
   "metadata": {},
   "outputs": [
    {
     "data": {
      "text/plain": [
       "0.6"
      ]
     },
     "execution_count": 9,
     "metadata": {},
     "output_type": "execute_result"
    }
   ],
   "source": [
    "b = TextBlob(\"I love this\")\n",
    "b.subjectivity"
   ]
  },
  {
   "cell_type": "code",
   "execution_count": null,
   "id": "59cff457-b35d-44e0-a9e2-3b6c09190763",
   "metadata": {},
   "outputs": [],
   "source": [
    "GoogleTranslator(source='auto', target='en').translate(\"أنواع كلب البحر\") "
   ]
  },
  {
   "cell_type": "code",
   "execution_count": null,
   "id": "9a72408d-816b-4271-bd99-3ed755e199a3",
   "metadata": {},
   "outputs": [],
   "source": [
    "# junky junk"
   ]
  },
  {
   "cell_type": "code",
   "execution_count": null,
   "id": "82ba5035-2acc-4885-92b6-a8b6ede7cf9e",
   "metadata": {},
   "outputs": [],
   "source": [
    "import config"
   ]
  },
  {
   "cell_type": "code",
   "execution_count": null,
   "id": "dc4cf8ab-1296-452f-9ee0-96f3b4c2c406",
   "metadata": {},
   "outputs": [],
   "source": [
    "# Source:  https://stackoverflow.com/questions/52455774/googletrans-stopped-working-with-error-nonetype-object-has-no-attribute-group\n",
    "# https://deep-translator.readthedocs.io/en/latest/README.html\n",
    "from deep_translator import GoogleTranslator\n",
    "from deep_translator import single_detection\n"
   ]
  },
  {
   "cell_type": "code",
   "execution_count": null,
   "id": "22156d5c-5aa2-478e-9625-7ccdb8a54db2",
   "metadata": {},
   "outputs": [],
   "source": [
    "lang = single_detection('lemon8 🍋', api_key=config.detect_key)\n",
    "lang"
   ]
  },
  {
   "cell_type": "code",
   "execution_count": null,
   "id": "472596cb-5b1c-4119-bf17-61022967755b",
   "metadata": {},
   "outputs": [],
   "source": [
    "wldnws"
   ]
  },
  {
   "cell_type": "code",
   "execution_count": null,
   "id": "00e95925-8adf-4a8c-9d63-d9959d83139c",
   "metadata": {},
   "outputs": [],
   "source": [
    "wldnws['title'][0:1]"
   ]
  },
  {
   "cell_type": "code",
   "execution_count": null,
   "id": "8f95b784-675c-42af-87f7-b32491d8c0fa",
   "metadata": {},
   "outputs": [],
   "source": [
    "single_detection(wldnws['title'][0], api_key=config.detect_key)"
   ]
  },
  {
   "cell_type": "code",
   "execution_count": null,
   "id": "4e0b3b46-e2b6-4839-9f33-28ddd6da242e",
   "metadata": {},
   "outputs": [],
   "source": [
    "def lang_detector(title):\n",
    "    try:\n",
    "        return single_detection(title, api_key=config.detect_key)\n",
    "    except:\n",
    "        return 'error'"
   ]
  },
  {
   "cell_type": "code",
   "execution_count": null,
   "id": "c56d829b-c119-4124-a394-a3b4dd37e4e0",
   "metadata": {},
   "outputs": [],
   "source": [
    "#wldnws['lang'] = wldnws['title'].apply(lang_detector)"
   ]
  },
  {
   "cell_type": "code",
   "execution_count": null,
   "id": "346959b0-3f50-4e93-8d7b-409583200da9",
   "metadata": {},
   "outputs": [],
   "source": [
    "wldnws"
   ]
  },
  {
   "cell_type": "code",
   "execution_count": null,
   "id": "87fd9388-c474-45da-9834-222e576fa2b9",
   "metadata": {},
   "outputs": [],
   "source": [
    "lang_detector('#winning')"
   ]
  },
  {
   "cell_type": "code",
   "execution_count": null,
   "id": "7479e251-dad1-4012-b6d0-037e0a4c6a54",
   "metadata": {},
   "outputs": [],
   "source": [
    "test_df = wldnws.head().copy()"
   ]
  },
  {
   "cell_type": "code",
   "execution_count": null,
   "id": "cce5fda9-2b17-447c-a0e7-f55f4e50eb1e",
   "metadata": {},
   "outputs": [],
   "source": [
    "test_df['testing_column'] = test_df['title'].apply(lang_detector)"
   ]
  },
  {
   "cell_type": "code",
   "execution_count": null,
   "id": "c0d80923-0ea1-4a87-88ba-43e0f13dd496",
   "metadata": {},
   "outputs": [],
   "source": [
    "test_df"
   ]
  },
  {
   "cell_type": "code",
   "execution_count": null,
   "id": "cd8ebc6a-dcad-43a8-b301-c3ef74731da9",
   "metadata": {},
   "outputs": [],
   "source": [
    "%%time\n",
    "[single_detection(title, api_key=config.detect_key) for title in wldnws['title'][0:100]]"
   ]
  },
  {
   "cell_type": "code",
   "execution_count": null,
   "id": "92dce339-5233-41fe-bac1-6236ab452c26",
   "metadata": {},
   "outputs": [],
   "source": [
    "# SOURCE:  https://towardsdatascience.com/4-python-libraries-to-detect-english-and-non-english-language-c82ad3efd430\n",
    "# Source:  https://py-googletrans.readthedocs.io/en/latest/\n",
    "\n",
    "#from googletrans import Translator"
   ]
  },
  {
   "cell_type": "code",
   "execution_count": 27,
   "id": "df552399-d7d9-47ab-ae0f-8b0f3dc22f43",
   "metadata": {},
   "outputs": [],
   "source": [
    "# Create a list of indices to be removed.\n",
    "#  Since indexes are all unique values, sets can be used and easily concatentated.\n",
    "#   Furhter, cells can be re-run without risk of duplicating values as there would be for lists.\n",
    "bad_news = {17, 18, 563}\n",
    "bad_onions = set()  #  Source to make an empty set:  https://www.w3resource.com/python-exercises/sets/python-sets-exercise-1.php"
   ]
  },
  {
   "cell_type": "code",
   "execution_count": 29,
   "id": "89f9c27b-a6f2-4398-ab18-5e7f45dd3b43",
   "metadata": {},
   "outputs": [
    {
     "data": {
      "text/html": [
       "<div>\n",
       "<style scoped>\n",
       "    .dataframe tbody tr th:only-of-type {\n",
       "        vertical-align: middle;\n",
       "    }\n",
       "\n",
       "    .dataframe tbody tr th {\n",
       "        vertical-align: top;\n",
       "    }\n",
       "\n",
       "    .dataframe thead th {\n",
       "        text-align: right;\n",
       "    }\n",
       "</style>\n",
       "<table border=\"1\" class=\"dataframe\">\n",
       "  <thead>\n",
       "    <tr style=\"text-align: right;\">\n",
       "      <th></th>\n",
       "      <th>subreddit</th>\n",
       "      <th>title</th>\n",
       "    </tr>\n",
       "  </thead>\n",
       "  <tbody>\n",
       "    <tr>\n",
       "      <th>88</th>\n",
       "      <td>worldnews</td>\n",
       "      <td>#eating #banana #cuteanimals</td>\n",
       "    </tr>\n",
       "    <tr>\n",
       "      <th>191</th>\n",
       "      <td>worldnews</td>\n",
       "      <td>/r/WorldNews Live Thread: Russian Invasion of Ukraine Day 425, Part 1 (Thread #566)</td>\n",
       "    </tr>\n",
       "    <tr>\n",
       "      <th>220</th>\n",
       "      <td>worldnews</td>\n",
       "      <td>Vinesh Phogat: India wrestlers seek chief&amp;amp;#x27;s arrest over sexual abuse claims</td>\n",
       "    </tr>\n",
       "    <tr>\n",
       "      <th>284</th>\n",
       "      <td>worldnews</td>\n",
       "      <td>L'Europa ha il potere di creare un equilibrio tra le soluzioni a sostegno del settore privato degli Stati Uniti e i controlli di stato della Cina. 🚀💰 #IA #automazione #regolamentazione #trasparenz...</td>\n",
       "    </tr>\n",
       "    <tr>\n",
       "      <th>481</th>\n",
       "      <td>worldnews</td>\n",
       "      <td>/r/WorldNews Live Thread: Russian Invasion of Ukraine Day 424, Part 1 (Thread #565)</td>\n",
       "    </tr>\n",
       "    <tr>\n",
       "      <th>612</th>\n",
       "      <td>worldnews</td>\n",
       "      <td>Russia&amp;amp;#x27;s Belgorod sees mass evacuations over undetonated bomb</td>\n",
       "    </tr>\n",
       "    <tr>\n",
       "      <th>748</th>\n",
       "      <td>worldnews</td>\n",
       "      <td>/r/WorldNews Live Thread: Russian Invasion of Ukraine Day 423, Part 1 (Thread #564)</td>\n",
       "    </tr>\n",
       "    <tr>\n",
       "      <th>1031</th>\n",
       "      <td>worldnews</td>\n",
       "      <td>/r/WorldNews Live Thread: Russian Invasion of Ukraine Day 422, Part 1 (Thread #563)</td>\n",
       "    </tr>\n",
       "    <tr>\n",
       "      <th>1042</th>\n",
       "      <td>worldnews</td>\n",
       "      <td>Ukraine war: Russian warplane &amp;amp;#x27;accidentally bombs own city&amp;amp;#x27;</td>\n",
       "    </tr>\n",
       "    <tr>\n",
       "      <th>1044</th>\n",
       "      <td>worldnews</td>\n",
       "      <td>SpaceX Starship: Elon Musk&amp;amp;#x27;s big rocket explodes on test flight</td>\n",
       "    </tr>\n",
       "    <tr>\n",
       "      <th>1298</th>\n",
       "      <td>worldnews</td>\n",
       "      <td>Rahul Gandhi: India court dismisses Congress leader&amp;amp;#x27;s appeal against conviction</td>\n",
       "    </tr>\n",
       "    <tr>\n",
       "      <th>1316</th>\n",
       "      <td>worldnews</td>\n",
       "      <td>Dozens die in Ramadan crush in Yemen&amp;amp;#x27;s capital Sanaa</td>\n",
       "    </tr>\n",
       "    <tr>\n",
       "      <th>1357</th>\n",
       "      <td>worldnews</td>\n",
       "      <td>/r/WorldNews Live Thread: Russian Invasion of Ukraine Day 421, Part 1 (Thread #562)</td>\n",
       "    </tr>\n",
       "    <tr>\n",
       "      <th>1468</th>\n",
       "      <td>worldnews</td>\n",
       "      <td>Does anyone know where is the best place to buy real estate properties? #realestate</td>\n",
       "    </tr>\n",
       "    <tr>\n",
       "      <th>1520</th>\n",
       "      <td>worldnews</td>\n",
       "      <td>Funding the Future: How American Red Cross Uses #AI to Forecast Funds</td>\n",
       "    </tr>\n",
       "    <tr>\n",
       "      <th>1665</th>\n",
       "      <td>worldnews</td>\n",
       "      <td>Father Bob Maguire remembered as a &amp;amp;#x27;great man&amp;amp;#x27; who devoted his life to society&amp;amp;#x27;s least fortunate</td>\n",
       "    </tr>\n",
       "    <tr>\n",
       "      <th>1693</th>\n",
       "      <td>worldnews</td>\n",
       "      <td>/r/WorldNews Live Thread: Russian Invasion of Ukraine Day 420, Part 1 (Thread #561)</td>\n",
       "    </tr>\n",
       "    <tr>\n",
       "      <th>1985</th>\n",
       "      <td>worldnews</td>\n",
       "      <td>US arrests two for setting up Chinese &amp;amp;#x27;secret police station&amp;amp;#x27; in New York</td>\n",
       "    </tr>\n",
       "    <tr>\n",
       "      <th>1987</th>\n",
       "      <td>worldnews</td>\n",
       "      <td>Exclusive: New Delhi city refuses to renew Pernod&amp;amp;#x27;s liquor sale licence, cites probes</td>\n",
       "    </tr>\n",
       "    <tr>\n",
       "      <th>2043</th>\n",
       "      <td>worldnews</td>\n",
       "      <td>FBI makes arrests over alleged secret Chinese &amp;amp;#x27;police stations&amp;amp;#x27; in New York</td>\n",
       "    </tr>\n",
       "    <tr>\n",
       "      <th>2045</th>\n",
       "      <td>worldnews</td>\n",
       "      <td>/r/WorldNews Live Thread: Russian Invasion of Ukraine Day 419, Part 1 (Thread #560)</td>\n",
       "    </tr>\n",
       "    <tr>\n",
       "      <th>2137</th>\n",
       "      <td>worldnews</td>\n",
       "      <td>Japan&amp;amp;#x27;s Matsuno: Tokyo lodged protest with Russia over military drills near disputed islands</td>\n",
       "    </tr>\n",
       "    <tr>\n",
       "      <th>2146</th>\n",
       "      <td>worldnews</td>\n",
       "      <td>CBC pauses Twitter activity after being labelled &amp;amp;#x27;government-funded media&amp;amp;#x27;</td>\n",
       "    </tr>\n",
       "    <tr>\n",
       "      <th>2340</th>\n",
       "      <td>worldnews</td>\n",
       "      <td>/r/WorldNews Live Thread: Russian Invasion of Ukraine Day 418, Part 1 (Thread #559)</td>\n",
       "    </tr>\n",
       "    <tr>\n",
       "      <th>2607</th>\n",
       "      <td>worldnews</td>\n",
       "      <td>/r/WorldNews Live Thread: Russian Invasion of Ukraine Day 417, Part 1 (Thread #558)</td>\n",
       "    </tr>\n",
       "    <tr>\n",
       "      <th>2884</th>\n",
       "      <td>worldnews</td>\n",
       "      <td>/r/WorldNews Live Thread: Russian Invasion of Ukraine Day 416, Part 1 (Thread #557)</td>\n",
       "    </tr>\n",
       "    <tr>\n",
       "      <th>2905</th>\n",
       "      <td>worldnews</td>\n",
       "      <td>Man &amp;amp;#x27;eaten alive&amp;amp;#x27; by bed bugs in Atlanta jail - family</td>\n",
       "    </tr>\n",
       "    <tr>\n",
       "      <th>3191</th>\n",
       "      <td>worldnews</td>\n",
       "      <td>/r/WorldNews Live Thread: Russian Invasion of Ukraine Day 415, Part 1 (Thread #556)</td>\n",
       "    </tr>\n",
       "    <tr>\n",
       "      <th>3547</th>\n",
       "      <td>worldnews</td>\n",
       "      <td>/r/WorldNews Live Thread: Russian Invasion of Ukraine Day 414, Part 1 (Thread #555)</td>\n",
       "    </tr>\n",
       "    <tr>\n",
       "      <th>3781</th>\n",
       "      <td>worldnews</td>\n",
       "      <td>YES: The #DalaiLama was being playful and affectionate! A Tibetan's Perspective.</td>\n",
       "    </tr>\n",
       "    <tr>\n",
       "      <th>3887</th>\n",
       "      <td>worldnews</td>\n",
       "      <td>/r/WorldNews Live Thread: Russian Invasion of Ukraine Day 413, Part 1 (Thread #554)</td>\n",
       "    </tr>\n",
       "    <tr>\n",
       "      <th>3960</th>\n",
       "      <td>worldnews</td>\n",
       "      <td>Turistlere sorduk. What do you think about Turkey? #interview</td>\n",
       "    </tr>\n",
       "    <tr>\n",
       "      <th>4010</th>\n",
       "      <td>worldnews</td>\n",
       "      <td>What is it? #alaska #oceanviews #nature #beach #volcano #fyp #fypシ゚viral #viralshorts #sitka #sun</td>\n",
       "    </tr>\n",
       "    <tr>\n",
       "      <th>4246</th>\n",
       "      <td>worldnews</td>\n",
       "      <td>/r/WorldNews Live Thread: Russian Invasion of Ukraine Day 412, Part 1 (Thread #553)</td>\n",
       "    </tr>\n",
       "    <tr>\n",
       "      <th>4298</th>\n",
       "      <td>worldnews</td>\n",
       "      <td>CreepyPasta Story #4</td>\n",
       "    </tr>\n",
       "    <tr>\n",
       "      <th>4329</th>\n",
       "      <td>worldnews</td>\n",
       "      <td>#attitude #putin #boss #status #video</td>\n",
       "    </tr>\n",
       "    <tr>\n",
       "      <th>4571</th>\n",
       "      <td>worldnews</td>\n",
       "      <td>/r/WorldNews Live Thread: Russian Invasion of Ukraine Day 411, Part 1 (Thread #552)</td>\n",
       "    </tr>\n",
       "    <tr>\n",
       "      <th>4583</th>\n",
       "      <td>worldnews</td>\n",
       "      <td>#Linkinstrong, organized by Jessica Keilman</td>\n",
       "    </tr>\n",
       "    <tr>\n",
       "      <th>4598</th>\n",
       "      <td>worldnews</td>\n",
       "      <td>Phil Mickelson grateful to be at Augusta 'As much fun as I could have playing golf' #Phil_Mickelson</td>\n",
       "    </tr>\n",
       "    <tr>\n",
       "      <th>4768</th>\n",
       "      <td>worldnews</td>\n",
       "      <td>/r/WorldNews Live Thread: Russian Invasion of Ukraine Day 410, Part 1 (Thread #551)</td>\n",
       "    </tr>\n",
       "    <tr>\n",
       "      <th>4778</th>\n",
       "      <td>worldnews</td>\n",
       "      <td>#free_Palestine</td>\n",
       "    </tr>\n",
       "    <tr>\n",
       "      <th>5007</th>\n",
       "      <td>worldnews</td>\n",
       "      <td>/r/WorldNews Live Thread: Russian Invasion of Ukraine Day 409, Part 1 (Thread #550)</td>\n",
       "    </tr>\n",
       "    <tr>\n",
       "      <th>5013</th>\n",
       "      <td>worldnews</td>\n",
       "      <td>Why People in North Korea Don’t Know That They Are Oppressed | Yeonmi Park &amp;amp; Jordan Peterson #shorts</td>\n",
       "    </tr>\n",
       "    <tr>\n",
       "      <th>5017</th>\n",
       "      <td>worldnews</td>\n",
       "      <td>North Korea Wages = What UN Allows For Poverty in 1 Day | Yeonmi Park #shorts</td>\n",
       "    </tr>\n",
       "    <tr>\n",
       "      <th>5026</th>\n",
       "      <td>worldnews</td>\n",
       "      <td>How many? #tiktok #alaska #oceanviews #nature #charlieonnafriday #beach #viralvideo #fypyoutube #fyp</td>\n",
       "    </tr>\n",
       "    <tr>\n",
       "      <th>5109</th>\n",
       "      <td>worldnews</td>\n",
       "      <td>Supreme Court&amp;amp;#x27;s Clarence Thomas defends luxury trips</td>\n",
       "    </tr>\n",
       "    <tr>\n",
       "      <th>5292</th>\n",
       "      <td>worldnews</td>\n",
       "      <td>Israeli security forces clash with Palestinian worshippers at the Al-Aqsa Mosque, leading to an escalation of tensions in Jerusalem.#AlAqsaMosqueTensions #Jerusalem #IsraeliForces #PalestinianWors...</td>\n",
       "    </tr>\n",
       "    <tr>\n",
       "      <th>5310</th>\n",
       "      <td>worldnews</td>\n",
       "      <td>Details of Geraldton drug bust, then Australia&amp;amp;#x27;s biggest meth seizure, can finally be revealed</td>\n",
       "    </tr>\n",
       "    <tr>\n",
       "      <th>5353</th>\n",
       "      <td>worldnews</td>\n",
       "      <td>/r/WorldNews Live Thread: Russian Invasion of Ukraine Day 408, Part 1 (Thread #549)</td>\n",
       "    </tr>\n",
       "    <tr>\n",
       "      <th>5395</th>\n",
       "      <td>worldnews</td>\n",
       "      <td>#India expresses hope for continued presence of Indian journalists in #China amid reports of visa freeze. MEA in touch with Chinese authorities. #IndiaChinaRelations #Journalism</td>\n",
       "    </tr>\n",
       "    <tr>\n",
       "      <th>5515</th>\n",
       "      <td>worldnews</td>\n",
       "      <td>#russia is a terrorist state</td>\n",
       "    </tr>\n",
       "    <tr>\n",
       "      <th>5547</th>\n",
       "      <td>worldnews</td>\n",
       "      <td>State actor involvement in Nord Stream pipeline attacks is &amp;amp;#x27;main scenario&amp;amp;#x27;, says Swedish investigator</td>\n",
       "    </tr>\n",
       "    <tr>\n",
       "      <th>5579</th>\n",
       "      <td>worldnews</td>\n",
       "      <td>China to inspect ships in Taiwan Strait, Taiwan says won&amp;amp;#x27;t cooperate</td>\n",
       "    </tr>\n",
       "    <tr>\n",
       "      <th>5672</th>\n",
       "      <td>worldnews</td>\n",
       "      <td>\"Sex, Scandal, and a President: The Shocking Story of Stormy Daniels and Donald Trump #trumpnews</td>\n",
       "    </tr>\n",
       "    <tr>\n",
       "      <th>5714</th>\n",
       "      <td>worldnews</td>\n",
       "      <td>/r/WorldNews Live Thread: Russian Invasion of Ukraine Day 407, Part 1 (Thread #548)</td>\n",
       "    </tr>\n",
       "    <tr>\n",
       "      <th>5829</th>\n",
       "      <td>worldnews</td>\n",
       "      <td>pet cats #cat #catering #catlife | Oulhou Itri | Oulhou Itri · 原声</td>\n",
       "    </tr>\n",
       "    <tr>\n",
       "      <th>5835</th>\n",
       "      <td>worldnews</td>\n",
       "      <td>#free_ Palestine</td>\n",
       "    </tr>\n",
       "  </tbody>\n",
       "</table>\n",
       "</div>"
      ],
      "text/plain": [
       "      subreddit  \\\n",
       "88    worldnews   \n",
       "191   worldnews   \n",
       "220   worldnews   \n",
       "284   worldnews   \n",
       "481   worldnews   \n",
       "612   worldnews   \n",
       "748   worldnews   \n",
       "1031  worldnews   \n",
       "1042  worldnews   \n",
       "1044  worldnews   \n",
       "1298  worldnews   \n",
       "1316  worldnews   \n",
       "1357  worldnews   \n",
       "1468  worldnews   \n",
       "1520  worldnews   \n",
       "1665  worldnews   \n",
       "1693  worldnews   \n",
       "1985  worldnews   \n",
       "1987  worldnews   \n",
       "2043  worldnews   \n",
       "2045  worldnews   \n",
       "2137  worldnews   \n",
       "2146  worldnews   \n",
       "2340  worldnews   \n",
       "2607  worldnews   \n",
       "2884  worldnews   \n",
       "2905  worldnews   \n",
       "3191  worldnews   \n",
       "3547  worldnews   \n",
       "3781  worldnews   \n",
       "3887  worldnews   \n",
       "3960  worldnews   \n",
       "4010  worldnews   \n",
       "4246  worldnews   \n",
       "4298  worldnews   \n",
       "4329  worldnews   \n",
       "4571  worldnews   \n",
       "4583  worldnews   \n",
       "4598  worldnews   \n",
       "4768  worldnews   \n",
       "4778  worldnews   \n",
       "5007  worldnews   \n",
       "5013  worldnews   \n",
       "5017  worldnews   \n",
       "5026  worldnews   \n",
       "5109  worldnews   \n",
       "5292  worldnews   \n",
       "5310  worldnews   \n",
       "5353  worldnews   \n",
       "5395  worldnews   \n",
       "5515  worldnews   \n",
       "5547  worldnews   \n",
       "5579  worldnews   \n",
       "5672  worldnews   \n",
       "5714  worldnews   \n",
       "5829  worldnews   \n",
       "5835  worldnews   \n",
       "\n",
       "                                                                                                                                                                                                        title  \n",
       "88                                                                                                                                                                               #eating #banana #cuteanimals  \n",
       "191                                                                                                                       /r/WorldNews Live Thread: Russian Invasion of Ukraine Day 425, Part 1 (Thread #566)  \n",
       "220                                                                                                                      Vinesh Phogat: India wrestlers seek chief&amp;#x27;s arrest over sexual abuse claims  \n",
       "284   L'Europa ha il potere di creare un equilibrio tra le soluzioni a sostegno del settore privato degli Stati Uniti e i controlli di stato della Cina. 🚀💰 #IA #automazione #regolamentazione #trasparenz...  \n",
       "481                                                                                                                       /r/WorldNews Live Thread: Russian Invasion of Ukraine Day 424, Part 1 (Thread #565)  \n",
       "612                                                                                                                                    Russia&amp;#x27;s Belgorod sees mass evacuations over undetonated bomb  \n",
       "748                                                                                                                       /r/WorldNews Live Thread: Russian Invasion of Ukraine Day 423, Part 1 (Thread #564)  \n",
       "1031                                                                                                                      /r/WorldNews Live Thread: Russian Invasion of Ukraine Day 422, Part 1 (Thread #563)  \n",
       "1042                                                                                                                            Ukraine war: Russian warplane &amp;#x27;accidentally bombs own city&amp;#x27;  \n",
       "1044                                                                                                                                 SpaceX Starship: Elon Musk&amp;#x27;s big rocket explodes on test flight  \n",
       "1298                                                                                                                 Rahul Gandhi: India court dismisses Congress leader&amp;#x27;s appeal against conviction  \n",
       "1316                                                                                                                                            Dozens die in Ramadan crush in Yemen&amp;#x27;s capital Sanaa  \n",
       "1357                                                                                                                      /r/WorldNews Live Thread: Russian Invasion of Ukraine Day 421, Part 1 (Thread #562)  \n",
       "1468                                                                                                                      Does anyone know where is the best place to buy real estate properties? #realestate  \n",
       "1520                                                                                                                                    Funding the Future: How American Red Cross Uses #AI to Forecast Funds  \n",
       "1665                                                                              Father Bob Maguire remembered as a &amp;#x27;great man&amp;#x27; who devoted his life to society&amp;#x27;s least fortunate  \n",
       "1693                                                                                                                      /r/WorldNews Live Thread: Russian Invasion of Ukraine Day 420, Part 1 (Thread #561)  \n",
       "1985                                                                                                              US arrests two for setting up Chinese &amp;#x27;secret police station&amp;#x27; in New York  \n",
       "1987                                                                                                           Exclusive: New Delhi city refuses to renew Pernod&amp;#x27;s liquor sale licence, cites probes  \n",
       "2043                                                                                                            FBI makes arrests over alleged secret Chinese &amp;#x27;police stations&amp;#x27; in New York  \n",
       "2045                                                                                                                      /r/WorldNews Live Thread: Russian Invasion of Ukraine Day 419, Part 1 (Thread #560)  \n",
       "2137                                                                                                    Japan&amp;#x27;s Matsuno: Tokyo lodged protest with Russia over military drills near disputed islands  \n",
       "2146                                                                                                             CBC pauses Twitter activity after being labelled &amp;#x27;government-funded media&amp;#x27;  \n",
       "2340                                                                                                                      /r/WorldNews Live Thread: Russian Invasion of Ukraine Day 418, Part 1 (Thread #559)  \n",
       "2607                                                                                                                      /r/WorldNews Live Thread: Russian Invasion of Ukraine Day 417, Part 1 (Thread #558)  \n",
       "2884                                                                                                                      /r/WorldNews Live Thread: Russian Invasion of Ukraine Day 416, Part 1 (Thread #557)  \n",
       "2905                                                                                                                                 Man &amp;#x27;eaten alive&amp;#x27; by bed bugs in Atlanta jail - family  \n",
       "3191                                                                                                                      /r/WorldNews Live Thread: Russian Invasion of Ukraine Day 415, Part 1 (Thread #556)  \n",
       "3547                                                                                                                      /r/WorldNews Live Thread: Russian Invasion of Ukraine Day 414, Part 1 (Thread #555)  \n",
       "3781                                                                                                                         YES: The #DalaiLama was being playful and affectionate! A Tibetan's Perspective.  \n",
       "3887                                                                                                                      /r/WorldNews Live Thread: Russian Invasion of Ukraine Day 413, Part 1 (Thread #554)  \n",
       "3960                                                                                                                                            Turistlere sorduk. What do you think about Turkey? #interview  \n",
       "4010                                                                                                        What is it? #alaska #oceanviews #nature #beach #volcano #fyp #fypシ゚viral #viralshorts #sitka #sun  \n",
       "4246                                                                                                                      /r/WorldNews Live Thread: Russian Invasion of Ukraine Day 412, Part 1 (Thread #553)  \n",
       "4298                                                                                                                                                                                     CreepyPasta Story #4  \n",
       "4329                                                                                                                                                                    #attitude #putin #boss #status #video  \n",
       "4571                                                                                                                      /r/WorldNews Live Thread: Russian Invasion of Ukraine Day 411, Part 1 (Thread #552)  \n",
       "4583                                                                                                                                                              #Linkinstrong, organized by Jessica Keilman  \n",
       "4598                                                                                                      Phil Mickelson grateful to be at Augusta 'As much fun as I could have playing golf' #Phil_Mickelson  \n",
       "4768                                                                                                                      /r/WorldNews Live Thread: Russian Invasion of Ukraine Day 410, Part 1 (Thread #551)  \n",
       "4778                                                                                                                                                                                          #free_Palestine  \n",
       "5007                                                                                                                      /r/WorldNews Live Thread: Russian Invasion of Ukraine Day 409, Part 1 (Thread #550)  \n",
       "5013                                                                                                 Why People in North Korea Don’t Know That They Are Oppressed | Yeonmi Park &amp; Jordan Peterson #shorts  \n",
       "5017                                                                                                                            North Korea Wages = What UN Allows For Poverty in 1 Day | Yeonmi Park #shorts  \n",
       "5026                                                                                                     How many? #tiktok #alaska #oceanviews #nature #charlieonnafriday #beach #viralvideo #fypyoutube #fyp  \n",
       "5109                                                                                                                                            Supreme Court&amp;#x27;s Clarence Thomas defends luxury trips  \n",
       "5292  Israeli security forces clash with Palestinian worshippers at the Al-Aqsa Mosque, leading to an escalation of tensions in Jerusalem.#AlAqsaMosqueTensions #Jerusalem #IsraeliForces #PalestinianWors...  \n",
       "5310                                                                                                  Details of Geraldton drug bust, then Australia&amp;#x27;s biggest meth seizure, can finally be revealed  \n",
       "5353                                                                                                                      /r/WorldNews Live Thread: Russian Invasion of Ukraine Day 408, Part 1 (Thread #549)  \n",
       "5395                        #India expresses hope for continued presence of Indian journalists in #China amid reports of visa freeze. MEA in touch with Chinese authorities. #IndiaChinaRelations #Journalism  \n",
       "5515                                                                                                                                                                             #russia is a terrorist state  \n",
       "5547                                                                                  State actor involvement in Nord Stream pipeline attacks is &amp;#x27;main scenario&amp;#x27;, says Swedish investigator  \n",
       "5579                                                                                                                            China to inspect ships in Taiwan Strait, Taiwan says won&amp;#x27;t cooperate  \n",
       "5672                                                                                                         \"Sex, Scandal, and a President: The Shocking Story of Stormy Daniels and Donald Trump #trumpnews  \n",
       "5714                                                                                                                      /r/WorldNews Live Thread: Russian Invasion of Ukraine Day 407, Part 1 (Thread #548)  \n",
       "5829                                                                                                                                        pet cats #cat #catering #catlife | Oulhou Itri | Oulhou Itri · 原声  \n",
       "5835                                                                                                                                                                                         #free_ Palestine  "
      ]
     },
     "execution_count": 29,
     "metadata": {},
     "output_type": "execute_result"
    }
   ],
   "source": [
    "wldnws[wldnws['title'].str.lower().str.find('#') > -1]"
   ]
  },
  {
   "cell_type": "code",
   "execution_count": 168,
   "id": "0b87e697-cb06-476c-869a-6c135a29f6a9",
   "metadata": {},
   "outputs": [
    {
     "data": {
      "text/plain": [
       "'Dozens die in Ramadan crush in Yemen&#x27;s capital Sanaa'"
      ]
     },
     "execution_count": 168,
     "metadata": {},
     "output_type": "execute_result"
    }
   ],
   "source": [
    "junk = '&amp;#x27;s'\n",
    "\n",
    "boop = 'Dozens die in Ramadan crush in Yemen&amp;#x27;s capital Sanaa'\n",
    "\n",
    "html.unescape(boop)"
   ]
  },
  {
   "cell_type": "code",
   "execution_count": 177,
   "id": "c77752ab-1dc5-4093-b8fc-46027fcf2856",
   "metadata": {},
   "outputs": [
    {
     "data": {
      "text/plain": [
       "['&', '#']"
      ]
     },
     "execution_count": 177,
     "metadata": {},
     "output_type": "execute_result"
    }
   ],
   "source": [
    "re.findall('[&#]', boop)"
   ]
  },
  {
   "cell_type": "code",
   "execution_count": 45,
   "id": "2dcc0aa3-2fc8-4217-9d93-56a2b264ba14",
   "metadata": {},
   "outputs": [
    {
     "data": {
      "text/plain": [
       "['#', '#', '#']"
      ]
     },
     "execution_count": 45,
     "metadata": {},
     "output_type": "execute_result"
    }
   ],
   "source": [
    "re.findall('#','/r/WorldNews Live #Thread: Rus#sian Invasion of Ukraine Day 425, Part 1 (Thread #566)')"
   ]
  },
  {
   "cell_type": "code",
   "execution_count": 42,
   "id": "d028167f-788c-4738-993d-28a7a5603169",
   "metadata": {},
   "outputs": [
    {
     "ename": "AttributeError",
     "evalue": "'str' object has no attribute 'find_all'",
     "output_type": "error",
     "traceback": [
      "\u001b[1;31m---------------------------------------------------------------------------\u001b[0m",
      "\u001b[1;31mAttributeError\u001b[0m                            Traceback (most recent call last)",
      "\u001b[1;32m~\\AppData\\Local\\Temp\\ipykernel_8908\\1906509521.py\u001b[0m in \u001b[0;36m<module>\u001b[1;34m\u001b[0m\n\u001b[1;32m----> 1\u001b[1;33m \u001b[1;34m'/r/WorldNews Live #Thread: Russian Invasion of Ukraine Day 425, Part 1 (Thread #566)'\u001b[0m\u001b[1;33m.\u001b[0m\u001b[0mfind_all\u001b[0m\u001b[1;33m(\u001b[0m\u001b[1;34m'#'\u001b[0m\u001b[1;33m)\u001b[0m\u001b[1;33m\u001b[0m\u001b[1;33m\u001b[0m\u001b[0m\n\u001b[0m",
      "\u001b[1;31mAttributeError\u001b[0m: 'str' object has no attribute 'find_all'"
     ]
    }
   ],
   "source": [
    "'/r/WorldNews Live #Thread: Russian Invasion of Ukraine Day 425, Part 1 (Thread #566)'.find_all('#')"
   ]
  },
  {
   "cell_type": "code",
   "execution_count": 52,
   "id": "f6609428-8e56-41e1-a79c-1667c46d8a49",
   "metadata": {},
   "outputs": [
    {
     "data": {
      "text/plain": [
       "0       0\n",
       "2       0\n",
       "3       0\n",
       "4       0\n",
       "5       0\n",
       "       ..\n",
       "5984    0\n",
       "5985    0\n",
       "5986    0\n",
       "5987    0\n",
       "5988    0\n",
       "Name: title, Length: 5413, dtype: int64"
      ]
     },
     "execution_count": 52,
     "metadata": {},
     "output_type": "execute_result"
    }
   ],
   "source": [
    "wldnws['title'].apply((lambda x: len(re.findall('#', x))))"
   ]
  },
  {
   "cell_type": "code",
   "execution_count": 32,
   "id": "d6b68ca5-b86b-40c8-b506-dee72c2c2dc8",
   "metadata": {},
   "outputs": [],
   "source": [
    "# Create a list of indices to be removed from the data:\n",
    "#  But keep the article cited above, index number 4901\n",
    "#   Used the following sourece to figure out the exact syntax:  https://www.w3schools.com/python/gloss_python_join_sets.asp\n",
    "\n",
    "bad_onions = bad_onions.union(set(onion[onion['title'].str.islower() == True].index))\n",
    "\n",
    "# Use set subtraction to remove the legitimate title for the bad title set\n",
    "bad_onions = bad_onions - {4901}"
   ]
  },
  {
   "cell_type": "code",
   "execution_count": 33,
   "id": "94f4a402-8412-486f-ab45-a36185ee4381",
   "metadata": {},
   "outputs": [],
   "source": [
    "# Repeat the above process but for world news\n",
    "bad_news = bad_news.union(set(wldnws[wldnws['title'].str.islower() == True].index))"
   ]
  },
  {
   "cell_type": "code",
   "execution_count": null,
   "id": "6fcb832c-9dde-4e7d-b882-824e1d917e79",
   "metadata": {},
   "outputs": [],
   "source": [
    "[title for title in wldnws['title'] if len(re.findall('[ء-ي]+', title)) != 0]\n",
    "\n",
    "\n",
    "#len(re.findall('\\w+', '1&&'))"
   ]
  },
  {
   "cell_type": "code",
   "execution_count": null,
   "id": "145f42f0-62ac-48c7-ab14-1842318682d5",
   "metadata": {},
   "outputs": [],
   "source": [
    "'Mexico finds tons of liquid meth in tequila bottles at port'.encode('utf-8')"
   ]
  },
  {
   "cell_type": "code",
   "execution_count": null,
   "id": "5a28a9e4-454e-46f7-8cb4-50174df2748f",
   "metadata": {},
   "outputs": [],
   "source": [
    "'\\w+', 'أنواع كلب البحر'.encode('utf-8').decode('utf-8')"
   ]
  },
  {
   "cell_type": "code",
   "execution_count": null,
   "id": "41d269d4-0f77-4aa2-abca-b9275a2ad1d5",
   "metadata": {},
   "outputs": [],
   "source": [
    "len(re.findall('\\w+', 'أنواع كلب البحر'))"
   ]
  },
  {
   "cell_type": "code",
   "execution_count": null,
   "id": "6ba0cdd8-2d9c-45e3-9ded-15587b0975fb",
   "metadata": {},
   "outputs": [],
   "source": [
    "wldnws[wldnws['title'].str.isalpha() == False]"
   ]
  },
  {
   "cell_type": "code",
   "execution_count": null,
   "id": "ec075480-5964-470d-9068-ee364409cb61",
   "metadata": {},
   "outputs": [],
   "source": [
    "wldnws[wldnws['title'].str.find('#') > -1]"
   ]
  },
  {
   "cell_type": "code",
   "execution_count": 74,
   "id": "5060f72a-4863-4294-b97e-d58f066234ae",
   "metadata": {},
   "outputs": [
    {
     "data": {
      "text/plain": [
       "['Thread #566']"
      ]
     },
     "execution_count": 74,
     "metadata": {},
     "output_type": "execute_result"
    }
   ],
   "source": [
    "post = '/r/WorldNews Live Thread: Russian Invasion of Ukraine Day 425, Part 1 (Thread #566)'\n",
    "\n",
    "re.findall('(Thread #\\d{1,})', post)"
   ]
  },
  {
   "cell_type": "code",
   "execution_count": 153,
   "id": "7d195ede-2963-47d4-9a78-a68b2e7f9973",
   "metadata": {},
   "outputs": [
    {
     "data": {
      "text/plain": [
       "' Some have forgiven him. Some can’t. Truck driver who killed 16 in Humboldt Broncos crash says ‘as long as I’m alive, I’m going to think about them'"
      ]
     },
     "execution_count": 153,
     "metadata": {},
     "output_type": "execute_result"
    }
   ],
   "source": [
    "# Source:  https://stackoverflow.com/questions/4007302/regex-how-to-match-an-optional-character\n",
    "# Source:  https://www.regular-expressions.info/optional.html\n",
    "# Source:  https://stackoverflow.com/questions/9655164/regex-ignore-case-sensitivity\n",
    "# Source:  https://stackoverflow.com/questions/34583904/javascript-regex-ignore-case-for-specific-capture-group\n",
    "\n",
    "post = '/r/WorldNews Live Thread: Russian Invasion of Ukraine Day 425, Part 1 (Thread #566)'\n",
    "post = 'r/worldnews Some have forgiven him. Some can’t. Truck driver who killed 16 in Humboldt Broncos crash says ‘as long as I’m alive, I’m going to think about them'\n",
    "\n",
    "# re.findall('(/{0,1}r{0,1}/{0,1}WorldNews Live Thread: {0,1})', post)\n",
    "re.findall('(/{0,1}r{0,1}/{0,1}WorldNews( Live Thread: )?)', post)\n",
    "re.sub('(/{0,1}r{0,1}/{0,1}WorldNews( Live Thread: )?) | (\\(Thread #\\d{1,}\\))','',post)\n",
    "\n",
    "re.sub('(/{0,1}r{0,1}/{0,1}[wW]orld[nN]ews( Live Thread: )?)|(\\(Thread #\\d{1,}\\))','',post)"
   ]
  },
  {
   "cell_type": "code",
   "execution_count": 100,
   "id": "b5f8bf41-e019-4c1c-b4da-aa7cd0684f2f",
   "metadata": {},
   "outputs": [
    {
     "data": {
      "text/plain": [
       "['worldnews']"
      ]
     },
     "execution_count": 100,
     "metadata": {},
     "output_type": "execute_result"
    }
   ],
   "source": [
    "post = 'r/worldnews Some have forgiven him. Some can’t. Truck driver who killed 16 in Humboldt Broncos crash says ‘as long as I’m alive, I’m going to think about them'\n",
    "\n",
    "re.findall('([wW]orld[nN]ews)', post)"
   ]
  },
  {
   "cell_type": "code",
   "execution_count": 112,
   "id": "44660633-8f00-4c42-85da-44735eaad3cf",
   "metadata": {},
   "outputs": [
    {
     "data": {
      "text/plain": [
       "['worldnews']"
      ]
     },
     "execution_count": 112,
     "metadata": {},
     "output_type": "execute_result"
    }
   ],
   "source": [
    "post = 'r/worldnews Some have forgiven him. Some can’t. Truck driver who killed 16 in Humboldt Broncos crash says ‘as long as I’m alive, I’m going to think about them'\n",
    "\n",
    "re.findall('(WorldNews)(?i)', post)"
   ]
  },
  {
   "cell_type": "code",
   "execution_count": 123,
   "id": "2868c014-3a97-496a-ae3a-23b485f66dc4",
   "metadata": {},
   "outputs": [
    {
     "data": {
      "text/plain": [
       "[]"
      ]
     },
     "execution_count": 123,
     "metadata": {},
     "output_type": "execute_result"
    }
   ],
   "source": [
    "post = 'r/worldnews Some have forgiven him. Some can’t. Truck driver who killed 16 in Humboldt Broncos crash says ‘as long as I’m alive, I’m going to think about them'\n",
    "re.findall('(/{0,1}r{0,1}/{0,1}WorldNews( Live Thread: )?) | (\\(Thread #\\d{1,}\\))', post)"
   ]
  },
  {
   "cell_type": "code",
   "execution_count": 75,
   "id": "6c1126a3-54aa-4f02-9f1f-c197719446f9",
   "metadata": {},
   "outputs": [
    {
     "data": {
      "text/html": [
       "<div>\n",
       "<style scoped>\n",
       "    .dataframe tbody tr th:only-of-type {\n",
       "        vertical-align: middle;\n",
       "    }\n",
       "\n",
       "    .dataframe tbody tr th {\n",
       "        vertical-align: top;\n",
       "    }\n",
       "\n",
       "    .dataframe thead th {\n",
       "        text-align: right;\n",
       "    }\n",
       "</style>\n",
       "<table border=\"1\" class=\"dataframe\">\n",
       "  <thead>\n",
       "    <tr style=\"text-align: right;\">\n",
       "      <th></th>\n",
       "      <th>subreddit</th>\n",
       "      <th>title</th>\n",
       "      <th>title_len</th>\n",
       "      <th>word_count</th>\n",
       "      <th>lang</th>\n",
       "    </tr>\n",
       "  </thead>\n",
       "  <tbody>\n",
       "    <tr>\n",
       "      <th>191</th>\n",
       "      <td>worldnews</td>\n",
       "      <td>/r/WorldNews Live Thread: Russian Invasion of Ukraine Day 425, Part 1 (Thread #566)</td>\n",
       "      <td>83</td>\n",
       "      <td>13</td>\n",
       "      <td>en</td>\n",
       "    </tr>\n",
       "    <tr>\n",
       "      <th>404</th>\n",
       "      <td>worldnews</td>\n",
       "      <td>r/worldnews Some have forgiven him. Some can’t. Truck driver who killed 16 in Humboldt Broncos crash says ‘as long as I’m alive, I’m going to think about them’</td>\n",
       "      <td>159</td>\n",
       "      <td>28</td>\n",
       "      <td>en</td>\n",
       "    </tr>\n",
       "    <tr>\n",
       "      <th>481</th>\n",
       "      <td>worldnews</td>\n",
       "      <td>/r/WorldNews Live Thread: Russian Invasion of Ukraine Day 424, Part 1 (Thread #565)</td>\n",
       "      <td>83</td>\n",
       "      <td>13</td>\n",
       "      <td>en</td>\n",
       "    </tr>\n",
       "    <tr>\n",
       "      <th>748</th>\n",
       "      <td>worldnews</td>\n",
       "      <td>/r/WorldNews Live Thread: Russian Invasion of Ukraine Day 423, Part 1 (Thread #564)</td>\n",
       "      <td>83</td>\n",
       "      <td>13</td>\n",
       "      <td>en</td>\n",
       "    </tr>\n",
       "    <tr>\n",
       "      <th>1031</th>\n",
       "      <td>worldnews</td>\n",
       "      <td>/r/WorldNews Live Thread: Russian Invasion of Ukraine Day 422, Part 1 (Thread #563)</td>\n",
       "      <td>83</td>\n",
       "      <td>13</td>\n",
       "      <td>en</td>\n",
       "    </tr>\n",
       "    <tr>\n",
       "      <th>1357</th>\n",
       "      <td>worldnews</td>\n",
       "      <td>/r/WorldNews Live Thread: Russian Invasion of Ukraine Day 421, Part 1 (Thread #562)</td>\n",
       "      <td>83</td>\n",
       "      <td>13</td>\n",
       "      <td>en</td>\n",
       "    </tr>\n",
       "    <tr>\n",
       "      <th>1693</th>\n",
       "      <td>worldnews</td>\n",
       "      <td>/r/WorldNews Live Thread: Russian Invasion of Ukraine Day 420, Part 1 (Thread #561)</td>\n",
       "      <td>83</td>\n",
       "      <td>13</td>\n",
       "      <td>en</td>\n",
       "    </tr>\n",
       "    <tr>\n",
       "      <th>1870</th>\n",
       "      <td>worldnews</td>\n",
       "      <td>Worldnews mods harassed and got me perma banned from Reddit because I insulted Ramzan Kadyrov. Stop abusive admins.</td>\n",
       "      <td>115</td>\n",
       "      <td>18</td>\n",
       "      <td>en</td>\n",
       "    </tr>\n",
       "    <tr>\n",
       "      <th>2045</th>\n",
       "      <td>worldnews</td>\n",
       "      <td>/r/WorldNews Live Thread: Russian Invasion of Ukraine Day 419, Part 1 (Thread #560)</td>\n",
       "      <td>83</td>\n",
       "      <td>13</td>\n",
       "      <td>en</td>\n",
       "    </tr>\n",
       "    <tr>\n",
       "      <th>2340</th>\n",
       "      <td>worldnews</td>\n",
       "      <td>/r/WorldNews Live Thread: Russian Invasion of Ukraine Day 418, Part 1 (Thread #559)</td>\n",
       "      <td>83</td>\n",
       "      <td>13</td>\n",
       "      <td>en</td>\n",
       "    </tr>\n",
       "    <tr>\n",
       "      <th>2607</th>\n",
       "      <td>worldnews</td>\n",
       "      <td>/r/WorldNews Live Thread: Russian Invasion of Ukraine Day 417, Part 1 (Thread #558)</td>\n",
       "      <td>83</td>\n",
       "      <td>13</td>\n",
       "      <td>en</td>\n",
       "    </tr>\n",
       "    <tr>\n",
       "      <th>2884</th>\n",
       "      <td>worldnews</td>\n",
       "      <td>/r/WorldNews Live Thread: Russian Invasion of Ukraine Day 416, Part 1 (Thread #557)</td>\n",
       "      <td>83</td>\n",
       "      <td>13</td>\n",
       "      <td>en</td>\n",
       "    </tr>\n",
       "    <tr>\n",
       "      <th>3191</th>\n",
       "      <td>worldnews</td>\n",
       "      <td>/r/WorldNews Live Thread: Russian Invasion of Ukraine Day 415, Part 1 (Thread #556)</td>\n",
       "      <td>83</td>\n",
       "      <td>13</td>\n",
       "      <td>en</td>\n",
       "    </tr>\n",
       "    <tr>\n",
       "      <th>3547</th>\n",
       "      <td>worldnews</td>\n",
       "      <td>/r/WorldNews Live Thread: Russian Invasion of Ukraine Day 414, Part 1 (Thread #555)</td>\n",
       "      <td>83</td>\n",
       "      <td>13</td>\n",
       "      <td>en</td>\n",
       "    </tr>\n",
       "    <tr>\n",
       "      <th>3887</th>\n",
       "      <td>worldnews</td>\n",
       "      <td>/r/WorldNews Live Thread: Russian Invasion of Ukraine Day 413, Part 1 (Thread #554)</td>\n",
       "      <td>83</td>\n",
       "      <td>13</td>\n",
       "      <td>en</td>\n",
       "    </tr>\n",
       "    <tr>\n",
       "      <th>4246</th>\n",
       "      <td>worldnews</td>\n",
       "      <td>/r/WorldNews Live Thread: Russian Invasion of Ukraine Day 412, Part 1 (Thread #553)</td>\n",
       "      <td>83</td>\n",
       "      <td>13</td>\n",
       "      <td>en</td>\n",
       "    </tr>\n",
       "    <tr>\n",
       "      <th>4571</th>\n",
       "      <td>worldnews</td>\n",
       "      <td>/r/WorldNews Live Thread: Russian Invasion of Ukraine Day 411, Part 1 (Thread #552)</td>\n",
       "      <td>83</td>\n",
       "      <td>13</td>\n",
       "      <td>en</td>\n",
       "    </tr>\n",
       "    <tr>\n",
       "      <th>4768</th>\n",
       "      <td>worldnews</td>\n",
       "      <td>/r/WorldNews Live Thread: Russian Invasion of Ukraine Day 410, Part 1 (Thread #551)</td>\n",
       "      <td>83</td>\n",
       "      <td>13</td>\n",
       "      <td>en</td>\n",
       "    </tr>\n",
       "    <tr>\n",
       "      <th>5007</th>\n",
       "      <td>worldnews</td>\n",
       "      <td>/r/WorldNews Live Thread: Russian Invasion of Ukraine Day 409, Part 1 (Thread #550)</td>\n",
       "      <td>83</td>\n",
       "      <td>13</td>\n",
       "      <td>en</td>\n",
       "    </tr>\n",
       "    <tr>\n",
       "      <th>5353</th>\n",
       "      <td>worldnews</td>\n",
       "      <td>/r/WorldNews Live Thread: Russian Invasion of Ukraine Day 408, Part 1 (Thread #549)</td>\n",
       "      <td>83</td>\n",
       "      <td>13</td>\n",
       "      <td>en</td>\n",
       "    </tr>\n",
       "    <tr>\n",
       "      <th>5714</th>\n",
       "      <td>worldnews</td>\n",
       "      <td>/r/WorldNews Live Thread: Russian Invasion of Ukraine Day 407, Part 1 (Thread #548)</td>\n",
       "      <td>83</td>\n",
       "      <td>13</td>\n",
       "      <td>en</td>\n",
       "    </tr>\n",
       "  </tbody>\n",
       "</table>\n",
       "</div>"
      ],
      "text/plain": [
       "      subreddit  \\\n",
       "191   worldnews   \n",
       "404   worldnews   \n",
       "481   worldnews   \n",
       "748   worldnews   \n",
       "1031  worldnews   \n",
       "1357  worldnews   \n",
       "1693  worldnews   \n",
       "1870  worldnews   \n",
       "2045  worldnews   \n",
       "2340  worldnews   \n",
       "2607  worldnews   \n",
       "2884  worldnews   \n",
       "3191  worldnews   \n",
       "3547  worldnews   \n",
       "3887  worldnews   \n",
       "4246  worldnews   \n",
       "4571  worldnews   \n",
       "4768  worldnews   \n",
       "5007  worldnews   \n",
       "5353  worldnews   \n",
       "5714  worldnews   \n",
       "\n",
       "                                                                                                                                                                title  \\\n",
       "191                                                                               /r/WorldNews Live Thread: Russian Invasion of Ukraine Day 425, Part 1 (Thread #566)   \n",
       "404   r/worldnews Some have forgiven him. Some can’t. Truck driver who killed 16 in Humboldt Broncos crash says ‘as long as I’m alive, I’m going to think about them’   \n",
       "481                                                                               /r/WorldNews Live Thread: Russian Invasion of Ukraine Day 424, Part 1 (Thread #565)   \n",
       "748                                                                               /r/WorldNews Live Thread: Russian Invasion of Ukraine Day 423, Part 1 (Thread #564)   \n",
       "1031                                                                              /r/WorldNews Live Thread: Russian Invasion of Ukraine Day 422, Part 1 (Thread #563)   \n",
       "1357                                                                              /r/WorldNews Live Thread: Russian Invasion of Ukraine Day 421, Part 1 (Thread #562)   \n",
       "1693                                                                              /r/WorldNews Live Thread: Russian Invasion of Ukraine Day 420, Part 1 (Thread #561)   \n",
       "1870                                              Worldnews mods harassed and got me perma banned from Reddit because I insulted Ramzan Kadyrov. Stop abusive admins.   \n",
       "2045                                                                              /r/WorldNews Live Thread: Russian Invasion of Ukraine Day 419, Part 1 (Thread #560)   \n",
       "2340                                                                              /r/WorldNews Live Thread: Russian Invasion of Ukraine Day 418, Part 1 (Thread #559)   \n",
       "2607                                                                              /r/WorldNews Live Thread: Russian Invasion of Ukraine Day 417, Part 1 (Thread #558)   \n",
       "2884                                                                              /r/WorldNews Live Thread: Russian Invasion of Ukraine Day 416, Part 1 (Thread #557)   \n",
       "3191                                                                              /r/WorldNews Live Thread: Russian Invasion of Ukraine Day 415, Part 1 (Thread #556)   \n",
       "3547                                                                              /r/WorldNews Live Thread: Russian Invasion of Ukraine Day 414, Part 1 (Thread #555)   \n",
       "3887                                                                              /r/WorldNews Live Thread: Russian Invasion of Ukraine Day 413, Part 1 (Thread #554)   \n",
       "4246                                                                              /r/WorldNews Live Thread: Russian Invasion of Ukraine Day 412, Part 1 (Thread #553)   \n",
       "4571                                                                              /r/WorldNews Live Thread: Russian Invasion of Ukraine Day 411, Part 1 (Thread #552)   \n",
       "4768                                                                              /r/WorldNews Live Thread: Russian Invasion of Ukraine Day 410, Part 1 (Thread #551)   \n",
       "5007                                                                              /r/WorldNews Live Thread: Russian Invasion of Ukraine Day 409, Part 1 (Thread #550)   \n",
       "5353                                                                              /r/WorldNews Live Thread: Russian Invasion of Ukraine Day 408, Part 1 (Thread #549)   \n",
       "5714                                                                              /r/WorldNews Live Thread: Russian Invasion of Ukraine Day 407, Part 1 (Thread #548)   \n",
       "\n",
       "      title_len  word_count lang  \n",
       "191          83          13   en  \n",
       "404         159          28   en  \n",
       "481          83          13   en  \n",
       "748          83          13   en  \n",
       "1031         83          13   en  \n",
       "1357         83          13   en  \n",
       "1693         83          13   en  \n",
       "1870        115          18   en  \n",
       "2045         83          13   en  \n",
       "2340         83          13   en  \n",
       "2607         83          13   en  \n",
       "2884         83          13   en  \n",
       "3191         83          13   en  \n",
       "3547         83          13   en  \n",
       "3887         83          13   en  \n",
       "4246         83          13   en  \n",
       "4571         83          13   en  \n",
       "4768         83          13   en  \n",
       "5007         83          13   en  \n",
       "5353         83          13   en  \n",
       "5714         83          13   en  "
      ]
     },
     "execution_count": 75,
     "metadata": {},
     "output_type": "execute_result"
    }
   ],
   "source": [
    "wldnws[wldnws['title'].str.lower().str.find('worldnews') > -1]"
   ]
  }
 ],
 "metadata": {
  "kernelspec": {
   "display_name": "Python 3 (ipykernel)",
   "language": "python",
   "name": "python3"
  },
  "language_info": {
   "codemirror_mode": {
    "name": "ipython",
    "version": 3
   },
   "file_extension": ".py",
   "mimetype": "text/x-python",
   "name": "python",
   "nbconvert_exporter": "python",
   "pygments_lexer": "ipython3",
   "version": "3.10.9"
  }
 },
 "nbformat": 4,
 "nbformat_minor": 5
}
